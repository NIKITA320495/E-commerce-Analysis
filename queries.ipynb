{
 "cells": [
  {
   "cell_type": "code",
   "execution_count": 1,
   "metadata": {},
   "outputs": [],
   "source": [
    "import pandas as pd\n",
    "import matplotlib.pyplot as plt\n",
    "import numpy as np\n",
    "import seaborn as sns\n",
    "import pymysql\n",
    "import plotly.express as px"
   ]
  },
  {
   "cell_type": "code",
   "execution_count": 2,
   "metadata": {},
   "outputs": [],
   "source": [
    "db=pymysql.connect(\n",
    "    host=\"localhost\",\n",
    "    user=\"root\",\n",
    "    password=\"123456\",\n",
    "    database=\"ecommerce\"\n",
    ")\n",
    "cur=db.cursor()"
   ]
  },
  {
   "cell_type": "markdown",
   "metadata": {},
   "source": [
    "# Queries"
   ]
  },
  {
   "cell_type": "markdown",
   "metadata": {},
   "source": [
    "##### List all unique cities where customers are located."
   ]
  },
  {
   "cell_type": "code",
   "execution_count": 3,
   "metadata": {},
   "outputs": [
    {
     "data": {
      "text/plain": [
       "(('franca',),\n",
       " ('sao bernardo do campo',),\n",
       " ('sao paulo',),\n",
       " ('mogi das cruzes',),\n",
       " ('campinas',),\n",
       " ('jaragua do sul',),\n",
       " ('timoteo',),\n",
       " ('curitiba',),\n",
       " ('belo horizonte',),\n",
       " ('montes claros',),\n",
       " ('rio de janeiro',),\n",
       " ('lencois paulista',),\n",
       " ('caxias do sul',),\n",
       " ('piracicaba',),\n",
       " ('guarulhos',),\n",
       " ('pacaja',),\n",
       " ('florianopolis',),\n",
       " ('aparecida de goiania',),\n",
       " ('santo andre',),\n",
       " ('goiania',),\n",
       " ('cachoeiro de itapemirim',),\n",
       " ('sao jose dos campos',),\n",
       " ('sao roque',),\n",
       " ('camacari',),\n",
       " ('resende',),\n",
       " ('sumare',),\n",
       " ('novo hamburgo',),\n",
       " ('sao luis',),\n",
       " ('sao jose',),\n",
       " ('santa barbara',),\n",
       " ('ribeirao preto',),\n",
       " ('ituiutaba',),\n",
       " ('taquarituba',),\n",
       " ('sao jose dos pinhais',),\n",
       " ('barrinha',),\n",
       " ('parati',),\n",
       " ('dourados',),\n",
       " ('trindade',),\n",
       " ('cascavel',),\n",
       " ('fortaleza',),\n",
       " ('brasilia',),\n",
       " ('pelotas',),\n",
       " ('porto alegre',),\n",
       " ('salto',),\n",
       " ('jundiai',),\n",
       " ('cacapava',),\n",
       " ('sao vicente',),\n",
       " ('uberlandia',),\n",
       " ('botelhos',),\n",
       " ('sao goncalo',),\n",
       " ('araucaria',),\n",
       " ('nova iguacu',),\n",
       " ('areia branca',),\n",
       " ('campos dos goytacazes',),\n",
       " ('sao carlos',),\n",
       " ('itajuba',),\n",
       " ('cruz das almas',),\n",
       " ('vassouras',),\n",
       " ('feira de santana',),\n",
       " ('niteroi',),\n",
       " ('sobral',),\n",
       " ('divinopolis',),\n",
       " ('paraiba do sul',),\n",
       " ('paulista',),\n",
       " ('carapicuiba',),\n",
       " ('bom principio',),\n",
       " ('astolfo dutra',),\n",
       " ('marialva',),\n",
       " ('sao jose do rio preto',),\n",
       " ('cabo frio',),\n",
       " ('contagem',),\n",
       " ('cafeara',),\n",
       " ('sao joaquim da barra',),\n",
       " ('foz do iguacu',),\n",
       " ('suzano',),\n",
       " ('timbo',),\n",
       " ('camboriu',),\n",
       " ('nova bassano',),\n",
       " ('rio grande',),\n",
       " ('braganca paulista',),\n",
       " ('barra do garcas',),\n",
       " ('embu',),\n",
       " ('urussanga',),\n",
       " ('silvianopolis',),\n",
       " ('gameleiras',),\n",
       " ('belem',),\n",
       " ('pocos de caldas',),\n",
       " ('santos',),\n",
       " ('piracaia',),\n",
       " ('sinop',),\n",
       " ('guaruja',),\n",
       " ('barueri',),\n",
       " ('feliz',),\n",
       " ('jambeiro',),\n",
       " ('ipatinga',),\n",
       " ('tupa',),\n",
       " ('blumenau',),\n",
       " ('moncoes',),\n",
       " ('balneario camboriu',),\n",
       " ('vargem grande',),\n",
       " ('rio brilhante',),\n",
       " ('eugenopolis',),\n",
       " ('paulinia',),\n",
       " ('apucarana',),\n",
       " ('recife',),\n",
       " ('osasco',),\n",
       " ('valinhos',),\n",
       " ('manaus',),\n",
       " ('cidreira',),\n",
       " ('santiago',),\n",
       " ('sao sepe',),\n",
       " ('alta floresta',),\n",
       " ('jaboatao dos guararapes',),\n",
       " ('ibatiba',),\n",
       " ('hortolandia',),\n",
       " ('cotia',),\n",
       " ('macae',),\n",
       " ('saudades',),\n",
       " ('macapa',),\n",
       " ('salto de pirapora',),\n",
       " ('taboao da serra',),\n",
       " ('bom jesus',),\n",
       " ('santa cruz do rio pardo',),\n",
       " ('diadema',),\n",
       " ('santa ines',),\n",
       " ('serrinha',),\n",
       " ('votorantim',),\n",
       " ('itatiaia',),\n",
       " ('duque de caxias',),\n",
       " ('varre-sai',),\n",
       " ('vila velha',),\n",
       " ('mangaratiba',),\n",
       " ('atibaia',),\n",
       " ('salvador',),\n",
       " ('maceio',),\n",
       " ('birigui',),\n",
       " ('petropolis',),\n",
       " ('sao pedro',),\n",
       " ('jaguariaiva',),\n",
       " ('franco da rocha',),\n",
       " ('pindamonhangaba',),\n",
       " ('irati',),\n",
       " ('ribeira',),\n",
       " ('barbacena',),\n",
       " ('limoeiro',),\n",
       " ('espigao do oeste',),\n",
       " ('belford roxo',),\n",
       " ('coronel fabriciano',),\n",
       " ('itanhaem',),\n",
       " ('bebedouro',),\n",
       " ('americana',),\n",
       " ('uba',),\n",
       " ('arapongas',),\n",
       " ('vinhedo',),\n",
       " ('itajai',),\n",
       " ('bauru',),\n",
       " ('pradopolis',),\n",
       " ('aripuana',),\n",
       " ('guaratinga',),\n",
       " ('ponta pora',),\n",
       " ('aracatuba',),\n",
       " ('volta redonda',),\n",
       " ('maringa',),\n",
       " ('araraquara',),\n",
       " ('matipo',),\n",
       " ('santo antonio da patrulha',),\n",
       " ('barra mansa',),\n",
       " ('diamantina',),\n",
       " ('mairinque',),\n",
       " ('capitao leonidas marques',),\n",
       " ('sao sebastiao do paraiso',),\n",
       " ('rosario do sul',),\n",
       " ('itaguai',),\n",
       " ('paraopeba',),\n",
       " ('guarapuava',),\n",
       " ('crisolita',),\n",
       " ('pirai',),\n",
       " ('linhares',),\n",
       " ('agudos',),\n",
       " ('sao joao de meriti',),\n",
       " ('navegantes',),\n",
       " ('pirassununga',),\n",
       " ('faxinal dos guedes',),\n",
       " ('criciuma',),\n",
       " ('nova venecia',),\n",
       " ('passo fundo',),\n",
       " ('ibia',),\n",
       " ('manhuacu',),\n",
       " ('altamira',),\n",
       " ('aperibe',),\n",
       " ('cuiaba',),\n",
       " ('canoas',),\n",
       " ('cubatao',),\n",
       " ('campo limpo paulista',),\n",
       " ('cambe',),\n",
       " ('itaquaquecetuba',),\n",
       " ('sao caetano do sul',),\n",
       " ('sao goncalo do rio abaixo',),\n",
       " ('rolandia',),\n",
       " ('tres coracoes',),\n",
       " ('cacapava do sul',),\n",
       " ('sao joao nepomuceno',),\n",
       " ('leme',),\n",
       " ('araras',),\n",
       " ('cortes',),\n",
       " ('brusque',),\n",
       " ('montenegro',),\n",
       " ('itaberai',),\n",
       " ('santa rosa de viterbo',),\n",
       " ('agua fria de goias',),\n",
       " ('marau',),\n",
       " ('curvelo',),\n",
       " ('juiz de fora',),\n",
       " ('mogi-guacu',),\n",
       " ('guaratingueta',),\n",
       " ('paranagua',),\n",
       " ('lins',),\n",
       " ('campo bom',),\n",
       " ('sertaozinho',),\n",
       " ('tres lagoas',),\n",
       " ('jau',),\n",
       " ('campos de julio',),\n",
       " ('saquarema',),\n",
       " ('artur nogueira',),\n",
       " ('uaua',),\n",
       " ('jandira',),\n",
       " ('concordia',),\n",
       " ('nova friburgo',),\n",
       " ('sorocaba',),\n",
       " ('ponte nova',),\n",
       " ('araquari',),\n",
       " ('muriae',),\n",
       " ('nova lima',),\n",
       " ('inhumas',),\n",
       " ('italva',),\n",
       " ('tres rios',),\n",
       " ('santa maria',),\n",
       " ('itagiba',),\n",
       " ('paracatu',),\n",
       " ('xaxim',),\n",
       " ('laranjeiras do sul',),\n",
       " ('itapiuna',),\n",
       " ('formosa',),\n",
       " ('ivoti',),\n",
       " ('juazeiro',),\n",
       " ('ponta grossa',),\n",
       " ('campina grande',),\n",
       " ('maua',),\n",
       " ('salgueiro',),\n",
       " ('lorena',),\n",
       " ('toledo',),\n",
       " ('sao pedro da aldeia',),\n",
       " ('vianopolis',),\n",
       " ('arapiraca',),\n",
       " ('porto seguro',),\n",
       " ('ariquemes',),\n",
       " ('presidente getulio',),\n",
       " ('rio negro',),\n",
       " ('ribeirao pires',),\n",
       " ('sao jose da coroa grande',),\n",
       " ('agua doce do norte',),\n",
       " ('anapolis',),\n",
       " ('guararapes',),\n",
       " ('farroupilha',),\n",
       " ('almenara',),\n",
       " ('rio das ostras',),\n",
       " ('gravatai',),\n",
       " ('brumado',),\n",
       " ('marilia',),\n",
       " ('itabira',),\n",
       " ('claudia',),\n",
       " ('para de minas',),\n",
       " ('miguelopolis',),\n",
       " ('terra roxa',),\n",
       " ('araguari',),\n",
       " ('lages',),\n",
       " ('embu das artes',),\n",
       " ('limeira',),\n",
       " ('taubate',),\n",
       " ('santa fe do sul',),\n",
       " ('caieiras',),\n",
       " ('carangola',),\n",
       " ('chapada do norte',),\n",
       " ('loanda',),\n",
       " ('passa tres',),\n",
       " ('aracoiaba da serra',),\n",
       " ('itaborai',),\n",
       " ('vitoria',),\n",
       " ('sao bento do sul',),\n",
       " ('indaiatuba',),\n",
       " ('boituva',),\n",
       " ('teresopolis',),\n",
       " ('pinhalzinho',),\n",
       " ('petrolina',),\n",
       " ('natal',),\n",
       " ('barreiras',),\n",
       " ('januaria',),\n",
       " ('ipiabas',),\n",
       " ('firminopolis',),\n",
       " ('joinville',),\n",
       " ('mococa',),\n",
       " ('valenca',),\n",
       " ('sao miguel do oeste',),\n",
       " ('jales',),\n",
       " ('rio formoso',),\n",
       " ('angra dos reis',),\n",
       " ('alfredo chaves',),\n",
       " ('itapetinga',),\n",
       " ('gurupi',),\n",
       " ('nucleo residencial pilar',),\n",
       " ('coromandel',),\n",
       " ('charqueada',),\n",
       " ('itau de minas',),\n",
       " ('ibiruba',),\n",
       " ('bertioga',),\n",
       " ('ipiau',),\n",
       " ('matozinhos',),\n",
       " ('teresina',),\n",
       " ('entre rios',),\n",
       " ('juina',),\n",
       " ('mairipora',),\n",
       " ('marechal candido rondon',),\n",
       " ('avare',),\n",
       " ('icem',),\n",
       " ('sao sebastiao',),\n",
       " ('serra',),\n",
       " ('mirassol',),\n",
       " ('taperuaba',),\n",
       " ('alfenas',),\n",
       " ('leopoldina',),\n",
       " ('sao joao da boa vista',),\n",
       " ('parnamirim',),\n",
       " ('teixeira de freitas',),\n",
       " ('joao pessoa',),\n",
       " ('chacara',),\n",
       " ('rio novo do sul',),\n",
       " ('guapore',),\n",
       " ('rio branco',),\n",
       " ('ferraz de vasconcelos',),\n",
       " ('petrolandia',),\n",
       " ('araruna',),\n",
       " ('gravata',),\n",
       " ('alegre',),\n",
       " ('londrina',),\n",
       " ('senhor do bonfim',),\n",
       " ('santana de parnaiba',),\n",
       " ('piratininga',),\n",
       " ('monte carmelo',),\n",
       " ('ipiranga',),\n",
       " ('jacarei',),\n",
       " ('picos',),\n",
       " ('una',),\n",
       " ('taguai',),\n",
       " ('peabiru',),\n",
       " ('conquista',),\n",
       " ('bicas',),\n",
       " ('forquilha',),\n",
       " ('guaicara',),\n",
       " ('santa vitoria',),\n",
       " ('adamantina',),\n",
       " ('rio claro',),\n",
       " ('sao jose de uba',),\n",
       " ('sorriso',),\n",
       " ('aracaju',),\n",
       " ('conselheiro lafaiete',),\n",
       " ('taguatinga',),\n",
       " ('tiangua',),\n",
       " ('paranaiba',),\n",
       " ('david canabarro',),\n",
       " ('itarare',),\n",
       " ('cajueiro',),\n",
       " ('cruzeiro',),\n",
       " ('santa cruz do sul',),\n",
       " ('presidente epitacio',),\n",
       " ('castanhal',),\n",
       " ('cariacica',),\n",
       " ('bom jesus dos perdoes',),\n",
       " ('urucurituba',),\n",
       " ('olinda',),\n",
       " ('sao jose do rio pardo',),\n",
       " ('guapimirim',),\n",
       " ('vargem grande paulista',),\n",
       " ('chapeco',),\n",
       " ('videira',),\n",
       " ('canapi',),\n",
       " ('pontal do parana',),\n",
       " ('bento goncalves',),\n",
       " ('caceres',),\n",
       " ('bituruna',),\n",
       " ('sao bento do sapucai',),\n",
       " ('mage',),\n",
       " ('forquilhinha',),\n",
       " ('itaberaba',),\n",
       " ('gramado',),\n",
       " ('guacui',),\n",
       " ('pato branco',),\n",
       " ('itanhem',),\n",
       " ('palmas',),\n",
       " ('bage',),\n",
       " ('francisco morato',),\n",
       " ('cosmopolis',),\n",
       " ('carmo',),\n",
       " ('armacao dos buzios',),\n",
       " ('santa maria da vitoria',),\n",
       " ('pedro leopoldo',),\n",
       " ('tres marias',),\n",
       " ('santo antonio de padua',),\n",
       " ('porto feliz',),\n",
       " ('gaspar',),\n",
       " ('palhoca',),\n",
       " ('pouso alegre',),\n",
       " ('guaiuba',),\n",
       " ('fraiburgo',),\n",
       " ('aurea',),\n",
       " ('botucatu',),\n",
       " ('corumba',),\n",
       " ('cajamar',),\n",
       " ('queimados',),\n",
       " ('sao jorge do ivai',),\n",
       " ('nova laranjeiras',),\n",
       " ('guaxupe',),\n",
       " ('osvaldo cruz',),\n",
       " ('ivora',),\n",
       " ('anaurilandia',),\n",
       " ('caraguatatuba',),\n",
       " ('regeneracao',),\n",
       " ('bilac',),\n",
       " ('faxinal',),\n",
       " ('pedro velho',),\n",
       " ('uberaba',),\n",
       " ('viamao',),\n",
       " ('cachoeira de minas',),\n",
       " ('coelho neto',),\n",
       " ('itajobi',),\n",
       " ('carmo do rio claro',),\n",
       " ('marica',),\n",
       " ('campo novo do parecis',),\n",
       " ('boa vista',),\n",
       " ('ipameri',),\n",
       " ('carlos barbosa',),\n",
       " ('anicuns',),\n",
       " ('rio bananal',),\n",
       " ('lavras da mangabeira',),\n",
       " ('balsamo',),\n",
       " ('guariba',),\n",
       " ('sao vendelino',),\n",
       " ('campo mourao',),\n",
       " ('aracati',),\n",
       " ('santo antonio do descoberto',),\n",
       " ('santo amaro da imperatriz',),\n",
       " ('betim',),\n",
       " ('vicosa',),\n",
       " ('dom eliseu',),\n",
       " ('campo largo',),\n",
       " ('santa rosa de lima',),\n",
       " ('quissama',),\n",
       " ('mirandopolis',),\n",
       " ('itapevi',),\n",
       " ('francisco beltrao',),\n",
       " (\"dias d'avila\",),\n",
       " ('novo horizonte',),\n",
       " ('poa',),\n",
       " ('querencia',),\n",
       " ('campo grande',),\n",
       " ('pedreira',),\n",
       " ('pariquera-acu',),\n",
       " ('itabaianinha',),\n",
       " ('pitangui',),\n",
       " ('araruama',),\n",
       " ('campo formoso',),\n",
       " ('guanambi',),\n",
       " ('itapolis',),\n",
       " ('pederneiras',),\n",
       " ('itabirito',),\n",
       " ('itaipava',),\n",
       " ('arroio do sal',),\n",
       " ('glaura',),\n",
       " ('lagoa vermelha',),\n",
       " ('mantena',),\n",
       " ('peruibe',),\n",
       " ('tubarao',),\n",
       " ('bonfim',),\n",
       " ('alvorada',),\n",
       " ('patrocinio',),\n",
       " ('mineiros',),\n",
       " ('itabuna',),\n",
       " ('tijucas',),\n",
       " ('santo antonio de jesus',),\n",
       " ('canarana',),\n",
       " ('itapecerica da serra',),\n",
       " ('nova prata do iguacu',),\n",
       " ('treze tilias',),\n",
       " ('anchieta',),\n",
       " ('quatigua',),\n",
       " ('iturama',),\n",
       " ('tres de maio',),\n",
       " ('santa rita do passa quatro',),\n",
       " ('porto esperidiao',),\n",
       " ('bonfim paulista',),\n",
       " ('cajuru',),\n",
       " ('cacador',),\n",
       " ('paragominas',),\n",
       " ('boa esperanca do sul',),\n",
       " ('tres pontas',),\n",
       " ('juazeiro do norte',),\n",
       " ('bambui',),\n",
       " ('comendador levy gasparian',),\n",
       " ('sao miguel do aleixo',),\n",
       " ('palmeira dos indios',),\n",
       " ('cerquilho',),\n",
       " ('saudade do iguacu',),\n",
       " ('ipaussu',),\n",
       " ('alto paraiso de goias',),\n",
       " ('santa isabel',),\n",
       " ('quirinopolis',),\n",
       " ('caruaru',),\n",
       " ('casimiro de abreu',),\n",
       " ('chavantes',),\n",
       " ('ecoporanga',),\n",
       " ('cachoeira paulista',),\n",
       " ('rio verde',),\n",
       " ('maracanau',),\n",
       " ('canoinhas',),\n",
       " ('ituverava',),\n",
       " ('buriti dos lopes',),\n",
       " ('rio do antonio',),\n",
       " ('guaranta',),\n",
       " ('santa luzia',),\n",
       " ('tucurui',),\n",
       " ('paranavai',),\n",
       " ('pinhais',),\n",
       " ('governador valadares',),\n",
       " ('trajano de moraes',),\n",
       " ('caete',),\n",
       " ('abaetetuba',),\n",
       " ('lavras',),\n",
       " ('coronel joao sa',),\n",
       " ('divino',),\n",
       " ('macaubas',),\n",
       " ('lucelia',),\n",
       " ('brejo da madre de deus',),\n",
       " ('carai',),\n",
       " ('corbelia',),\n",
       " ('varginha',),\n",
       " ('ouro preto',),\n",
       " ('prado',),\n",
       " ('colniza',),\n",
       " ('piuma',),\n",
       " ('rancharia',),\n",
       " ('barretos',),\n",
       " ('eunapolis',),\n",
       " ('floresta',),\n",
       " ('sao jose do norte',),\n",
       " ('rio bonito',),\n",
       " ('vargem bonita',),\n",
       " ('monte mor',),\n",
       " ('valente',),\n",
       " ('balsas',),\n",
       " ('nhandeara',),\n",
       " ('lauro de freitas',),\n",
       " ('osorio',),\n",
       " ('machado',),\n",
       " ('sao leopoldo',),\n",
       " ('soledade',),\n",
       " ('assis',),\n",
       " ('guarapari',),\n",
       " ('santo antonio do caiua',),\n",
       " ('esteio',),\n",
       " ('cambuci',),\n",
       " ('campina grande do sul',),\n",
       " ('baixo guandu',),\n",
       " ('fernao',),\n",
       " ('ibitinga',),\n",
       " ('santa cruz das palmeiras',),\n",
       " ('vila muriqui',),\n",
       " ('sao mateus',),\n",
       " ('piracuruca',),\n",
       " ('cordeiro',),\n",
       " ('cachoeira do sul',),\n",
       " ('barra do pirai',),\n",
       " ('castro',),\n",
       " ('ico',),\n",
       " ('sete lagoas',),\n",
       " ('itumbiara',),\n",
       " ('aluminio',),\n",
       " ('jatai',),\n",
       " ('frederico westphalen',),\n",
       " ('goioere',),\n",
       " ('sao jose da tapera',),\n",
       " ('porto uniao',),\n",
       " ('cocalinho',),\n",
       " ('curitibanos',),\n",
       " ('campos novos',),\n",
       " ('ubatuba',),\n",
       " ('monte santo de minas',),\n",
       " ('ribeirao das neves',),\n",
       " ('sao simao',),\n",
       " ('urutai',),\n",
       " ('itaobim',),\n",
       " ('liberdade',),\n",
       " ('arcos',),\n",
       " ('ribeirao',),\n",
       " ('patos de minas',),\n",
       " ('penapolis',),\n",
       " ('eusebio',),\n",
       " ('cordeiros',),\n",
       " ('victor graeff',),\n",
       " ('santa rita do araguaia',),\n",
       " ('poxoreu',),\n",
       " ('ananas',),\n",
       " ('conceicao dos ouros',),\n",
       " ('alagoinhas',),\n",
       " ('sao joao da barra',),\n",
       " ('lindoia',),\n",
       " ('bonfinopolis',),\n",
       " ('ibiam',),\n",
       " ('morungaba',),\n",
       " ('andradina',),\n",
       " ('tatui',),\n",
       " ('mata verde',),\n",
       " ('cornelio procopio',),\n",
       " ('itapipoca',),\n",
       " ('queluz',),\n",
       " ('godoy moreira',),\n",
       " ('iracemapolis',),\n",
       " ('buritizeiro',),\n",
       " ('xique-xique',),\n",
       " ('uruacu',),\n",
       " ('japi',),\n",
       " ('itauna',),\n",
       " ('sao francisco de assis',),\n",
       " ('pitangueiras',),\n",
       " ('ze doca',),\n",
       " ('dracena',),\n",
       " ('cachoeiras de macacu',),\n",
       " ('barauna',),\n",
       " ('formiga',),\n",
       " ('rodeio',),\n",
       " ('jequie',),\n",
       " ('juvenilia',),\n",
       " ('poco fundo',),\n",
       " ('amparo',),\n",
       " ('lauro muller',),\n",
       " ('japeri',),\n",
       " ('ourinhos',),\n",
       " ('lagoa dos gatos',),\n",
       " ('embu-guacu',),\n",
       " ('nossa senhora do remedio',),\n",
       " ('tambau',),\n",
       " ('orlandia',),\n",
       " ('bananeiras',),\n",
       " ('sao joao do manhuacu',),\n",
       " ('sarandi',),\n",
       " ('congonhas',),\n",
       " ('boa esperanca',),\n",
       " ('sandolandia',),\n",
       " ('garca',),\n",
       " ('descalvado',),\n",
       " ('guaracai',),\n",
       " ('aruana',),\n",
       " ('inga',),\n",
       " ('taio',),\n",
       " ('gaurama',),\n",
       " ('praia grande',),\n",
       " ('janauba',),\n",
       " ('nova monte verde',),\n",
       " ('mongagua',),\n",
       " ('monte alto',),\n",
       " ('sao joao do piaui',),\n",
       " ('primavera do leste',),\n",
       " ('seropedica',),\n",
       " ('indaial',),\n",
       " ('teofilo otoni',),\n",
       " ('santa terezinha',),\n",
       " ('planaltina',),\n",
       " ('caravelas',),\n",
       " ('muritiba',),\n",
       " ('itatiba',),\n",
       " ('piumhii',),\n",
       " ('pitanga',),\n",
       " ('capelinha',),\n",
       " ('ipero',),\n",
       " ('tarabai',),\n",
       " ('aparecida do taboado',),\n",
       " ('maioba',),\n",
       " ('monnerat',),\n",
       " ('sao lourenco do sul',),\n",
       " ('biguacu',),\n",
       " ('venda nova do imigrante',),\n",
       " ('arapoti',),\n",
       " ('fazenda rio grande',),\n",
       " ('senges',),\n",
       " ('aracruz',),\n",
       " ('canela',),\n",
       " ('porto franco',),\n",
       " ('veranopolis',),\n",
       " ('candiota',),\n",
       " ('carmo do paranaiba',),\n",
       " ('itacare',),\n",
       " ('desembargador otoni',),\n",
       " ('joanopolis',),\n",
       " ('registro',),\n",
       " ('ipiranga do norte',),\n",
       " ('felipe guerra',),\n",
       " ('dumont',),\n",
       " ('itapetininga',),\n",
       " ('bom despacho',),\n",
       " ('lagoa santa',),\n",
       " ('estacao',),\n",
       " ('panorama',),\n",
       " ('palmares',),\n",
       " ('prata',),\n",
       " ('santa adelia',),\n",
       " ('iguaba grande',),\n",
       " ('sarzedo',),\n",
       " ('dourado',),\n",
       " ('alcinopolis',),\n",
       " ('limoeiro do norte',),\n",
       " ('ibiraci',),\n",
       " ('ilhabela',),\n",
       " ('icara',),\n",
       " ('paiva',),\n",
       " ('batatais',),\n",
       " ('formoso do araguaia',),\n",
       " ('itapaci',),\n",
       " ('fernandopolis',),\n",
       " ('miguel pereira',),\n",
       " ('tocos',),\n",
       " ('campos do jordao',),\n",
       " ('catalao',),\n",
       " ('sao jose da lapa',),\n",
       " ('marituba',),\n",
       " ('arapora',),\n",
       " ('turvo',),\n",
       " ('rubiataba',),\n",
       " ('guaruja do sul',),\n",
       " ('pedra bela',),\n",
       " ('perdizes',),\n",
       " ('jesuania',),\n",
       " ('antonio carlos',),\n",
       " ('itapecerica',),\n",
       " ('monte belo',),\n",
       " ('mossoro',),\n",
       " ('piraju',),\n",
       " ('encruzilhada do sul',),\n",
       " ('igaratinga',),\n",
       " ('sao luis de montes belos',),\n",
       " ('santa rosa',),\n",
       " ('lagoinha',),\n",
       " ('redentora',),\n",
       " ('cuite',),\n",
       " ('coxim',),\n",
       " ('lucas do rio verde',),\n",
       " ('ibirataia',),\n",
       " ('olimpia',),\n",
       " ('cedro',),\n",
       " ('mario campos',),\n",
       " ('umuarama',),\n",
       " ('nova xavantina',),\n",
       " ('sao borja',),\n",
       " ('aguai',),\n",
       " ('itapira',),\n",
       " ('uniao da vitoria',),\n",
       " ('nova odessa',),\n",
       " ('itapuranga',),\n",
       " ('nova cruz',),\n",
       " ('apuiares',),\n",
       " ('almirante tamandare',),\n",
       " ('correia pinto',),\n",
       " ('itamarandiba',),\n",
       " ('juscimeira',),\n",
       " ('ipora',),\n",
       " ('cedro de sao joao',),\n",
       " (\"santa barbara d'oeste\",),\n",
       " ('sao joao da urtiga',),\n",
       " ('valparaiso de goias',),\n",
       " ('jussara',),\n",
       " ('capao da canoa',),\n",
       " ('araxa',),\n",
       " ('campo belo',),\n",
       " ('monte aprazivel',),\n",
       " ('bom jesus do querendo',),\n",
       " ('socorro',),\n",
       " ('catanduva',),\n",
       " ('monte castelo',),\n",
       " ('tabatinga',),\n",
       " ('bayeux',),\n",
       " ('ijui',),\n",
       " ('tangara da serra',),\n",
       " ('campos borges',),\n",
       " ('palma',),\n",
       " ('minacu',),\n",
       " ('miracema',),\n",
       " ('taruma',),\n",
       " ('sao francisco do sul',),\n",
       " ('cedral',),\n",
       " ('camaragibe',),\n",
       " ('lajeado',),\n",
       " ('cerqueira cesar',),\n",
       " ('frutal',),\n",
       " ('igarata',),\n",
       " ('novo gama',),\n",
       " ('sapucaia do sul',),\n",
       " ('juquitiba',),\n",
       " ('terra boa',),\n",
       " ('joao monlevade',),\n",
       " ('porangatu',),\n",
       " ('formosa da serra negra',),\n",
       " ('rafard',),\n",
       " ('rainha do mar',),\n",
       " ('pontal',),\n",
       " ('rio do sul',),\n",
       " ('nilopolis',),\n",
       " ('maracaju',),\n",
       " ('santo augusto',),\n",
       " ('banabuiu',),\n",
       " ('buenopolis',),\n",
       " ('barbalha',),\n",
       " ('quintana',),\n",
       " ('chorrocho',),\n",
       " ('votuporanga',),\n",
       " ('poco verde',),\n",
       " ('cipo-guacu',),\n",
       " ('santarem',),\n",
       " ('santa clara do sul',),\n",
       " ('ibiuna',),\n",
       " ('capivari',),\n",
       " ('arraias',),\n",
       " ('patos',),\n",
       " ('sao francisco do guapore',),\n",
       " ('vitoria da conquista',),\n",
       " ('urucuca',),\n",
       " ('vacaria',),\n",
       " ('campos altos',),\n",
       " ('nossa senhora do socorro',),\n",
       " ('cruzeiro do sul',),\n",
       " ('cataguases',),\n",
       " ('varzea grande',),\n",
       " ('santa rita do sapucai',),\n",
       " ('jaboticabal',),\n",
       " ('ilha comprida',),\n",
       " ('brasilia de minas',),\n",
       " ('moreno',),\n",
       " ('capanema',),\n",
       " ('tombos',),\n",
       " ('espumoso',),\n",
       " ('ouro branco',),\n",
       " ('valenca do piaui',),\n",
       " ('igrejinha',),\n",
       " ('engenheiro coelho',),\n",
       " ('parauapebas',),\n",
       " ('afonso claudio',),\n",
       " ('sao bernardo',),\n",
       " ('salto do jacui',),\n",
       " ('pires do rio',),\n",
       " ('astorga',),\n",
       " ('medina',),\n",
       " ('porto ferreira',),\n",
       " ('aracariguama',),\n",
       " ('hidrolandia',),\n",
       " ('virginopolis',),\n",
       " ('soledade de minas',),\n",
       " ('casca',),\n",
       " ('sapiranga',),\n",
       " ('angatuba',),\n",
       " ('ibirapua',),\n",
       " ('itupeva',),\n",
       " ('espera feliz',),\n",
       " ('penedo',),\n",
       " ('ibirite',),\n",
       " ('miracatu',),\n",
       " ('francisco santos',),\n",
       " ('paracambi',),\n",
       " ('cardoso',),\n",
       " ('floriano',),\n",
       " ('rondonopolis',),\n",
       " ('barra de sao francisco',),\n",
       " ('lavinia',),\n",
       " ('guajara-mirim',),\n",
       " ('guimaraes',),\n",
       " ('sao tome',),\n",
       " ('medianeira',),\n",
       " ('conceicao das pedras',),\n",
       " ('rinopolis',),\n",
       " ('capim grosso',),\n",
       " ('guaira',),\n",
       " ('euclides da cunha paulista',),\n",
       " ('lagoa da prata',),\n",
       " ('nanuque',),\n",
       " ('luis antonio',),\n",
       " ('senador firmino',),\n",
       " ('viradouro',),\n",
       " ('itabera',),\n",
       " ('cambara',),\n",
       " ('sananduva',),\n",
       " ('tapera',),\n",
       " ('tupaciguara',),\n",
       " ('colombo',),\n",
       " ('ananindeua',),\n",
       " ('coribe',),\n",
       " ('rio doce',),\n",
       " ('mogi mirim',),\n",
       " ('tocos do moji',),\n",
       " ('beberibe',),\n",
       " ('formosa do rio preto',),\n",
       " ('claudio',),\n",
       " ('rio paranaiba',),\n",
       " ('humberto de campos',),\n",
       " ('camocim de sao felix',),\n",
       " ('santo antonio de posse',),\n",
       " ('mesquita',),\n",
       " ('passa quatro',),\n",
       " ('belo oriente',),\n",
       " ('alto araguaia',),\n",
       " ('igarassu',),\n",
       " ('porto velho',),\n",
       " ('cajazeiras',),\n",
       " ('garopaba',),\n",
       " ('rio azul',),\n",
       " ('dois corregos',),\n",
       " ('sooretama',),\n",
       " ('cruzeiro do oeste',),\n",
       " ('nazare paulista',),\n",
       " ('riversul',),\n",
       " ('iguaracu',),\n",
       " ('maracas',),\n",
       " ('parana',),\n",
       " ('reboucas',),\n",
       " ('ametista do sul',),\n",
       " ('itu',),\n",
       " ('cacu',),\n",
       " ('vespasiano',),\n",
       " ('lindolfo collor',),\n",
       " ('sao lourenco',),\n",
       " ('santana do sobrado',),\n",
       " ('cafelandia',),\n",
       " ('ibiapina',),\n",
       " ('schroeder',),\n",
       " ('sao joao do oriente',),\n",
       " ('matao',),\n",
       " ('itanhandu',),\n",
       " ('santo angelo',),\n",
       " ('capinopolis',),\n",
       " ('colatina',),\n",
       " ('nova mutum',),\n",
       " ('munhoz de melo',),\n",
       " ('ibate',),\n",
       " ('unai',),\n",
       " ('medeiros neto',),\n",
       " ('anta',),\n",
       " ('ouroeste',),\n",
       " ('central',),\n",
       " ('nova independencia',),\n",
       " ('itapema',),\n",
       " ('sao jose do cedro',),\n",
       " ('camutanga',),\n",
       " ('ipumirim',),\n",
       " ('cristalia',),\n",
       " ('andira',),\n",
       " ('panelas',),\n",
       " ('comodoro',),\n",
       " ('domingos martins',),\n",
       " ('tangua',),\n",
       " ('sao gotardo',),\n",
       " ('araguaina',),\n",
       " ('ilheus',),\n",
       " ('louveira',),\n",
       " ('imbituba',),\n",
       " ('ouricuri',),\n",
       " ('itatinga',),\n",
       " ('santo cristo',),\n",
       " (\"arraial d'ajuda\",),\n",
       " ('piracanjuba',),\n",
       " ('russas',),\n",
       " ('lambari',),\n",
       " ('vargem alta',),\n",
       " ('sacra familia do tingua',),\n",
       " ('assis chateaubriand',),\n",
       " ('lago da pedra',),\n",
       " ('unistalda',),\n",
       " ('sao joao evangelista',),\n",
       " ('paramirim',),\n",
       " ('goias',),\n",
       " ('paracuru',),\n",
       " ('cruz alta',),\n",
       " ('presidente bernardes',),\n",
       " ('pains',),\n",
       " ('sao goncalo do rio preto',),\n",
       " ('jacinto machado',),\n",
       " ('sobralia',),\n",
       " ('maraba',),\n",
       " ('paraibuna',),\n",
       " ('toropi',),\n",
       " ('jauru',),\n",
       " ('cristalandia',),\n",
       " ('castelo do piaui',),\n",
       " ('ibipora',),\n",
       " ('presidente dutra',),\n",
       " ('vera cruz',),\n",
       " ('paulo frontin',),\n",
       " ...)"
      ]
     },
     "execution_count": 3,
     "metadata": {},
     "output_type": "execute_result"
    }
   ],
   "source": [
    "query=\"select distinct (customer_city) from customers\"\n",
    "cur.execute(query)\n",
    "data=cur.fetchall()\n",
    "data"
   ]
  },
  {
   "cell_type": "markdown",
   "metadata": {},
   "source": [
    "#### Count the number of orders placed in 2017."
   ]
  },
  {
   "cell_type": "code",
   "execution_count": 4,
   "metadata": {},
   "outputs": [
    {
     "name": "stdout",
     "output_type": "stream",
     "text": [
      "total orders placed in 2017 are 45027\n"
     ]
    }
   ],
   "source": [
    "query=\"select count(order_id) from orders where order_purchase_timestamp between '2017-01-01' and '2017-12-31'\"\n",
    "cur.execute(query)\n",
    "data=cur.fetchall()\n",
    "print(\"total orders placed in 2017 are\", data[0][0])"
   ]
  },
  {
   "cell_type": "markdown",
   "metadata": {},
   "source": [
    "####  Find the total sales per category."
   ]
  },
  {
   "cell_type": "code",
   "execution_count": 5,
   "metadata": {},
   "outputs": [
    {
     "data": {
      "text/plain": [
       "(('perfumery', 506738.66),\n",
       " ('Furniture Decoration', 1430176.39),\n",
       " ('telephony', 486882.05),\n",
       " ('Fashion Bags and Accessories', 218158.28),\n",
       " ('bed table bath', 1712553.67),\n",
       " ('automotive', 852294.33),\n",
       " ('computer accessories', 1585330.45),\n",
       " ('housewares', 1094758.13),\n",
       " ('babies', 539845.66),\n",
       " ('toys', 619037.69),\n",
       " ('Furniture office', 646826.49),\n",
       " ('Cool Stuff', 779698.0),\n",
       " ('HEALTH BEAUTY', 1657373.12),\n",
       " ('pet Shop', 311268.97),\n",
       " ('General Interest Books', 64694.76),\n",
       " ('stationary store', 317440.07),\n",
       " ('Watches present', 1429216.68),\n",
       " ('PCs', 279121.55),\n",
       " ('climatization', 91170.66),\n",
       " ('Construction Tools Construction', 241475.63),\n",
       " ('sport leisure', 1392127.56),\n",
       " ('Bags Accessories', 187151.29),\n",
       " ('electronics', 259857.1),\n",
       " ('Casa Construcao', 136645.29),\n",
       " ('Games consoles', 195480.38),\n",
       " ('home appliances', 95532.27),\n",
       " ('Garden tools', 838280.75),\n",
       " ('Agro Industria e Comercio', 118730.61),\n",
       " (None, 252801.71),\n",
       " ('audio', 60324.62),\n",
       " ('technical books', 24915.44),\n",
       " ('Construction Tools Garden', 42394.41),\n",
       " ('Market Place', 45335.92),\n",
       " ('musical instruments', 233074.12),\n",
       " ('Drink foods', 27289.73),\n",
       " ('SIGNALIZATION AND SAFETY', 68488.05),\n",
       " ('Furniture Kitchen Service Area Dinner and Garden', 74660.98),\n",
       " ('song', 6901.43),\n",
       " ('HOUSE PASTALS OVEN AND CAFE', 51229.32),\n",
       " ('fixed telephony', 207010.26),\n",
       " ('Room Furniture', 136138.77),\n",
       " ('Construction Tools Tools', 21069.07),\n",
       " ('House comfort', 84329.06),\n",
       " ('Industry Commerce and Business', 56745.76),\n",
       " ('Construction Tools Illumination', 72712.48),\n",
       " ('ELECTRICES 2', 124563.46),\n",
       " ('Fashion Calcados', 32422.74),\n",
       " ('Fashion Underwear and Beach Fashion', 12714.54),\n",
       " ('electrostile', 225584.38),\n",
       " ('foods', 46428.67),\n",
       " ('IMAGE IMPORT TABLETS', 10042.93),\n",
       " ('Art', 30992.93),\n",
       " ('drinks', 71429.65),\n",
       " ('Arts and Crafts', 2326.17),\n",
       " (\"Fashion Women's Clothing\", 5109.62),\n",
       " ('flowers', 2213.01),\n",
       " (\"Fashion Men's Clothing\", 17290.98),\n",
       " ('Fashion Sport', 3645.92),\n",
       " ('CONSTRUCTION SECURITY TOOLS', 65691.03),\n",
       " ('Christmas articles', 18994.77),\n",
       " ('Furniture', 31598.94),\n",
       " ('Imported books', 6701.89),\n",
       " ('cine photo', 9530.32),\n",
       " ('Blu Ray DVDs', 7935.28),\n",
       " ('party articles', 5966.31),\n",
       " ('Hygiene diapers', 4221.25),\n",
       " ('House Comfort 2', 1710.54),\n",
       " ('CITTE AND UPHACK FURNITURE', 5998.54),\n",
       " ('Kitchen portable and food coach', 4335.65),\n",
       " ('cds music dvds', 1199.43),\n",
       " ('La Cuisine', 2913.53),\n",
       " (\"Fashion Children's Clothing\", 785.67),\n",
       " ('PC Gamer', 2174.43),\n",
       " ('insurance and services', 324.51))"
      ]
     },
     "execution_count": 5,
     "metadata": {},
     "output_type": "execute_result"
    }
   ],
   "source": [
    "query=\"\"\"select products.product_category , round(sum(payments.payment_value),2) \n",
    "from products join order_items  \n",
    "on products.product_id = order_items.product_id \n",
    "join payments on payments.order_id = order_items.order_id  \n",
    "group by products.product_category\"\"\"\n",
    "cur.execute(query)\n",
    "data=cur.fetchall()\n",
    "data"
   ]
  },
  {
   "cell_type": "code",
   "execution_count": 6,
   "metadata": {},
   "outputs": [],
   "source": [
    "df=pd.DataFrame(data,columns=[\"product_category\",\"total_sales\"])\n",
    "df=df.sort_values(by=\"total_sales\",ascending=False)"
   ]
  },
  {
   "cell_type": "code",
   "execution_count": 7,
   "metadata": {},
   "outputs": [
    {
     "data": {
      "application/vnd.plotly.v1+json": {
       "config": {
        "plotlyServerURL": "https://plot.ly"
       },
       "data": [
        {
         "alignmentgroup": "True",
         "hovertemplate": "product_category=%{x}<br>total_sales=%{y}<extra></extra>",
         "legendgroup": "",
         "marker": {
          "color": "#636efa",
          "pattern": {
           "shape": ""
          }
         },
         "name": "",
         "offsetgroup": "",
         "orientation": "v",
         "showlegend": false,
         "textposition": "auto",
         "type": "bar",
         "x": [
          "bed table bath",
          "HEALTH BEAUTY",
          "computer accessories",
          "Furniture Decoration",
          "Watches present",
          "sport leisure",
          "housewares",
          "automotive",
          "Garden tools",
          "Cool Stuff",
          "Furniture office",
          "toys",
          "babies",
          "perfumery",
          "telephony",
          "stationary store",
          "pet Shop",
          "PCs",
          "electronics",
          null,
          "Construction Tools Construction",
          "musical instruments",
          "electrostile",
          "Fashion Bags and Accessories",
          "fixed telephony",
          "Games consoles",
          "Bags Accessories",
          "Casa Construcao",
          "Room Furniture",
          "ELECTRICES 2",
          "Agro Industria e Comercio",
          "home appliances",
          "climatization",
          "House comfort",
          "Furniture Kitchen Service Area Dinner and Garden",
          "Construction Tools Illumination",
          "drinks",
          "SIGNALIZATION AND SAFETY",
          "CONSTRUCTION SECURITY TOOLS",
          "General Interest Books",
          "audio",
          "Industry Commerce and Business",
          "HOUSE PASTALS OVEN AND CAFE",
          "foods",
          "Market Place",
          "Construction Tools Garden",
          "Fashion Calcados",
          "Furniture",
          "Art",
          "Drink foods",
          "technical books",
          "Construction Tools Tools",
          "Christmas articles",
          "Fashion Men's Clothing",
          "Fashion Underwear and Beach Fashion",
          "IMAGE IMPORT TABLETS",
          "cine photo",
          "Blu Ray DVDs",
          "song",
          "Imported books",
          "CITTE AND UPHACK FURNITURE",
          "party articles",
          "Fashion Women's Clothing",
          "Kitchen portable and food coach",
          "Hygiene diapers",
          "Fashion Sport",
          "La Cuisine",
          "Arts and Crafts",
          "flowers",
          "PC Gamer",
          "House Comfort 2",
          "cds music dvds",
          "Fashion Children's Clothing",
          "insurance and services"
         ],
         "xaxis": "x",
         "y": [
          1712553.67,
          1657373.12,
          1585330.45,
          1430176.39,
          1429216.68,
          1392127.56,
          1094758.13,
          852294.33,
          838280.75,
          779698,
          646826.49,
          619037.69,
          539845.66,
          506738.66,
          486882.05,
          317440.07,
          311268.97,
          279121.55,
          259857.1,
          252801.71,
          241475.63,
          233074.12,
          225584.38,
          218158.28,
          207010.26,
          195480.38,
          187151.29,
          136645.29,
          136138.77,
          124563.46,
          118730.61,
          95532.27,
          91170.66,
          84329.06,
          74660.98,
          72712.48,
          71429.65,
          68488.05,
          65691.03,
          64694.76,
          60324.62,
          56745.76,
          51229.32,
          46428.67,
          45335.92,
          42394.41,
          32422.74,
          31598.94,
          30992.93,
          27289.73,
          24915.44,
          21069.07,
          18994.77,
          17290.98,
          12714.54,
          10042.93,
          9530.32,
          7935.28,
          6901.43,
          6701.89,
          5998.54,
          5966.31,
          5109.62,
          4335.65,
          4221.25,
          3645.92,
          2913.53,
          2326.17,
          2213.01,
          2174.43,
          1710.54,
          1199.43,
          785.67,
          324.51
         ],
         "yaxis": "y"
        }
       ],
       "layout": {
        "barmode": "relative",
        "legend": {
         "tracegroupgap": 0
        },
        "template": {
         "data": {
          "bar": [
           {
            "error_x": {
             "color": "#2a3f5f"
            },
            "error_y": {
             "color": "#2a3f5f"
            },
            "marker": {
             "line": {
              "color": "#E5ECF6",
              "width": 0.5
             },
             "pattern": {
              "fillmode": "overlay",
              "size": 10,
              "solidity": 0.2
             }
            },
            "type": "bar"
           }
          ],
          "barpolar": [
           {
            "marker": {
             "line": {
              "color": "#E5ECF6",
              "width": 0.5
             },
             "pattern": {
              "fillmode": "overlay",
              "size": 10,
              "solidity": 0.2
             }
            },
            "type": "barpolar"
           }
          ],
          "carpet": [
           {
            "aaxis": {
             "endlinecolor": "#2a3f5f",
             "gridcolor": "white",
             "linecolor": "white",
             "minorgridcolor": "white",
             "startlinecolor": "#2a3f5f"
            },
            "baxis": {
             "endlinecolor": "#2a3f5f",
             "gridcolor": "white",
             "linecolor": "white",
             "minorgridcolor": "white",
             "startlinecolor": "#2a3f5f"
            },
            "type": "carpet"
           }
          ],
          "choropleth": [
           {
            "colorbar": {
             "outlinewidth": 0,
             "ticks": ""
            },
            "type": "choropleth"
           }
          ],
          "contour": [
           {
            "colorbar": {
             "outlinewidth": 0,
             "ticks": ""
            },
            "colorscale": [
             [
              0,
              "#0d0887"
             ],
             [
              0.1111111111111111,
              "#46039f"
             ],
             [
              0.2222222222222222,
              "#7201a8"
             ],
             [
              0.3333333333333333,
              "#9c179e"
             ],
             [
              0.4444444444444444,
              "#bd3786"
             ],
             [
              0.5555555555555556,
              "#d8576b"
             ],
             [
              0.6666666666666666,
              "#ed7953"
             ],
             [
              0.7777777777777778,
              "#fb9f3a"
             ],
             [
              0.8888888888888888,
              "#fdca26"
             ],
             [
              1,
              "#f0f921"
             ]
            ],
            "type": "contour"
           }
          ],
          "contourcarpet": [
           {
            "colorbar": {
             "outlinewidth": 0,
             "ticks": ""
            },
            "type": "contourcarpet"
           }
          ],
          "heatmap": [
           {
            "colorbar": {
             "outlinewidth": 0,
             "ticks": ""
            },
            "colorscale": [
             [
              0,
              "#0d0887"
             ],
             [
              0.1111111111111111,
              "#46039f"
             ],
             [
              0.2222222222222222,
              "#7201a8"
             ],
             [
              0.3333333333333333,
              "#9c179e"
             ],
             [
              0.4444444444444444,
              "#bd3786"
             ],
             [
              0.5555555555555556,
              "#d8576b"
             ],
             [
              0.6666666666666666,
              "#ed7953"
             ],
             [
              0.7777777777777778,
              "#fb9f3a"
             ],
             [
              0.8888888888888888,
              "#fdca26"
             ],
             [
              1,
              "#f0f921"
             ]
            ],
            "type": "heatmap"
           }
          ],
          "heatmapgl": [
           {
            "colorbar": {
             "outlinewidth": 0,
             "ticks": ""
            },
            "colorscale": [
             [
              0,
              "#0d0887"
             ],
             [
              0.1111111111111111,
              "#46039f"
             ],
             [
              0.2222222222222222,
              "#7201a8"
             ],
             [
              0.3333333333333333,
              "#9c179e"
             ],
             [
              0.4444444444444444,
              "#bd3786"
             ],
             [
              0.5555555555555556,
              "#d8576b"
             ],
             [
              0.6666666666666666,
              "#ed7953"
             ],
             [
              0.7777777777777778,
              "#fb9f3a"
             ],
             [
              0.8888888888888888,
              "#fdca26"
             ],
             [
              1,
              "#f0f921"
             ]
            ],
            "type": "heatmapgl"
           }
          ],
          "histogram": [
           {
            "marker": {
             "pattern": {
              "fillmode": "overlay",
              "size": 10,
              "solidity": 0.2
             }
            },
            "type": "histogram"
           }
          ],
          "histogram2d": [
           {
            "colorbar": {
             "outlinewidth": 0,
             "ticks": ""
            },
            "colorscale": [
             [
              0,
              "#0d0887"
             ],
             [
              0.1111111111111111,
              "#46039f"
             ],
             [
              0.2222222222222222,
              "#7201a8"
             ],
             [
              0.3333333333333333,
              "#9c179e"
             ],
             [
              0.4444444444444444,
              "#bd3786"
             ],
             [
              0.5555555555555556,
              "#d8576b"
             ],
             [
              0.6666666666666666,
              "#ed7953"
             ],
             [
              0.7777777777777778,
              "#fb9f3a"
             ],
             [
              0.8888888888888888,
              "#fdca26"
             ],
             [
              1,
              "#f0f921"
             ]
            ],
            "type": "histogram2d"
           }
          ],
          "histogram2dcontour": [
           {
            "colorbar": {
             "outlinewidth": 0,
             "ticks": ""
            },
            "colorscale": [
             [
              0,
              "#0d0887"
             ],
             [
              0.1111111111111111,
              "#46039f"
             ],
             [
              0.2222222222222222,
              "#7201a8"
             ],
             [
              0.3333333333333333,
              "#9c179e"
             ],
             [
              0.4444444444444444,
              "#bd3786"
             ],
             [
              0.5555555555555556,
              "#d8576b"
             ],
             [
              0.6666666666666666,
              "#ed7953"
             ],
             [
              0.7777777777777778,
              "#fb9f3a"
             ],
             [
              0.8888888888888888,
              "#fdca26"
             ],
             [
              1,
              "#f0f921"
             ]
            ],
            "type": "histogram2dcontour"
           }
          ],
          "mesh3d": [
           {
            "colorbar": {
             "outlinewidth": 0,
             "ticks": ""
            },
            "type": "mesh3d"
           }
          ],
          "parcoords": [
           {
            "line": {
             "colorbar": {
              "outlinewidth": 0,
              "ticks": ""
             }
            },
            "type": "parcoords"
           }
          ],
          "pie": [
           {
            "automargin": true,
            "type": "pie"
           }
          ],
          "scatter": [
           {
            "fillpattern": {
             "fillmode": "overlay",
             "size": 10,
             "solidity": 0.2
            },
            "type": "scatter"
           }
          ],
          "scatter3d": [
           {
            "line": {
             "colorbar": {
              "outlinewidth": 0,
              "ticks": ""
             }
            },
            "marker": {
             "colorbar": {
              "outlinewidth": 0,
              "ticks": ""
             }
            },
            "type": "scatter3d"
           }
          ],
          "scattercarpet": [
           {
            "marker": {
             "colorbar": {
              "outlinewidth": 0,
              "ticks": ""
             }
            },
            "type": "scattercarpet"
           }
          ],
          "scattergeo": [
           {
            "marker": {
             "colorbar": {
              "outlinewidth": 0,
              "ticks": ""
             }
            },
            "type": "scattergeo"
           }
          ],
          "scattergl": [
           {
            "marker": {
             "colorbar": {
              "outlinewidth": 0,
              "ticks": ""
             }
            },
            "type": "scattergl"
           }
          ],
          "scattermapbox": [
           {
            "marker": {
             "colorbar": {
              "outlinewidth": 0,
              "ticks": ""
             }
            },
            "type": "scattermapbox"
           }
          ],
          "scatterpolar": [
           {
            "marker": {
             "colorbar": {
              "outlinewidth": 0,
              "ticks": ""
             }
            },
            "type": "scatterpolar"
           }
          ],
          "scatterpolargl": [
           {
            "marker": {
             "colorbar": {
              "outlinewidth": 0,
              "ticks": ""
             }
            },
            "type": "scatterpolargl"
           }
          ],
          "scatterternary": [
           {
            "marker": {
             "colorbar": {
              "outlinewidth": 0,
              "ticks": ""
             }
            },
            "type": "scatterternary"
           }
          ],
          "surface": [
           {
            "colorbar": {
             "outlinewidth": 0,
             "ticks": ""
            },
            "colorscale": [
             [
              0,
              "#0d0887"
             ],
             [
              0.1111111111111111,
              "#46039f"
             ],
             [
              0.2222222222222222,
              "#7201a8"
             ],
             [
              0.3333333333333333,
              "#9c179e"
             ],
             [
              0.4444444444444444,
              "#bd3786"
             ],
             [
              0.5555555555555556,
              "#d8576b"
             ],
             [
              0.6666666666666666,
              "#ed7953"
             ],
             [
              0.7777777777777778,
              "#fb9f3a"
             ],
             [
              0.8888888888888888,
              "#fdca26"
             ],
             [
              1,
              "#f0f921"
             ]
            ],
            "type": "surface"
           }
          ],
          "table": [
           {
            "cells": {
             "fill": {
              "color": "#EBF0F8"
             },
             "line": {
              "color": "white"
             }
            },
            "header": {
             "fill": {
              "color": "#C8D4E3"
             },
             "line": {
              "color": "white"
             }
            },
            "type": "table"
           }
          ]
         },
         "layout": {
          "annotationdefaults": {
           "arrowcolor": "#2a3f5f",
           "arrowhead": 0,
           "arrowwidth": 1
          },
          "autotypenumbers": "strict",
          "coloraxis": {
           "colorbar": {
            "outlinewidth": 0,
            "ticks": ""
           }
          },
          "colorscale": {
           "diverging": [
            [
             0,
             "#8e0152"
            ],
            [
             0.1,
             "#c51b7d"
            ],
            [
             0.2,
             "#de77ae"
            ],
            [
             0.3,
             "#f1b6da"
            ],
            [
             0.4,
             "#fde0ef"
            ],
            [
             0.5,
             "#f7f7f7"
            ],
            [
             0.6,
             "#e6f5d0"
            ],
            [
             0.7,
             "#b8e186"
            ],
            [
             0.8,
             "#7fbc41"
            ],
            [
             0.9,
             "#4d9221"
            ],
            [
             1,
             "#276419"
            ]
           ],
           "sequential": [
            [
             0,
             "#0d0887"
            ],
            [
             0.1111111111111111,
             "#46039f"
            ],
            [
             0.2222222222222222,
             "#7201a8"
            ],
            [
             0.3333333333333333,
             "#9c179e"
            ],
            [
             0.4444444444444444,
             "#bd3786"
            ],
            [
             0.5555555555555556,
             "#d8576b"
            ],
            [
             0.6666666666666666,
             "#ed7953"
            ],
            [
             0.7777777777777778,
             "#fb9f3a"
            ],
            [
             0.8888888888888888,
             "#fdca26"
            ],
            [
             1,
             "#f0f921"
            ]
           ],
           "sequentialminus": [
            [
             0,
             "#0d0887"
            ],
            [
             0.1111111111111111,
             "#46039f"
            ],
            [
             0.2222222222222222,
             "#7201a8"
            ],
            [
             0.3333333333333333,
             "#9c179e"
            ],
            [
             0.4444444444444444,
             "#bd3786"
            ],
            [
             0.5555555555555556,
             "#d8576b"
            ],
            [
             0.6666666666666666,
             "#ed7953"
            ],
            [
             0.7777777777777778,
             "#fb9f3a"
            ],
            [
             0.8888888888888888,
             "#fdca26"
            ],
            [
             1,
             "#f0f921"
            ]
           ]
          },
          "colorway": [
           "#636efa",
           "#EF553B",
           "#00cc96",
           "#ab63fa",
           "#FFA15A",
           "#19d3f3",
           "#FF6692",
           "#B6E880",
           "#FF97FF",
           "#FECB52"
          ],
          "font": {
           "color": "#2a3f5f"
          },
          "geo": {
           "bgcolor": "white",
           "lakecolor": "white",
           "landcolor": "#E5ECF6",
           "showlakes": true,
           "showland": true,
           "subunitcolor": "white"
          },
          "hoverlabel": {
           "align": "left"
          },
          "hovermode": "closest",
          "mapbox": {
           "style": "light"
          },
          "paper_bgcolor": "white",
          "plot_bgcolor": "#E5ECF6",
          "polar": {
           "angularaxis": {
            "gridcolor": "white",
            "linecolor": "white",
            "ticks": ""
           },
           "bgcolor": "#E5ECF6",
           "radialaxis": {
            "gridcolor": "white",
            "linecolor": "white",
            "ticks": ""
           }
          },
          "scene": {
           "xaxis": {
            "backgroundcolor": "#E5ECF6",
            "gridcolor": "white",
            "gridwidth": 2,
            "linecolor": "white",
            "showbackground": true,
            "ticks": "",
            "zerolinecolor": "white"
           },
           "yaxis": {
            "backgroundcolor": "#E5ECF6",
            "gridcolor": "white",
            "gridwidth": 2,
            "linecolor": "white",
            "showbackground": true,
            "ticks": "",
            "zerolinecolor": "white"
           },
           "zaxis": {
            "backgroundcolor": "#E5ECF6",
            "gridcolor": "white",
            "gridwidth": 2,
            "linecolor": "white",
            "showbackground": true,
            "ticks": "",
            "zerolinecolor": "white"
           }
          },
          "shapedefaults": {
           "line": {
            "color": "#2a3f5f"
           }
          },
          "ternary": {
           "aaxis": {
            "gridcolor": "white",
            "linecolor": "white",
            "ticks": ""
           },
           "baxis": {
            "gridcolor": "white",
            "linecolor": "white",
            "ticks": ""
           },
           "bgcolor": "#E5ECF6",
           "caxis": {
            "gridcolor": "white",
            "linecolor": "white",
            "ticks": ""
           }
          },
          "title": {
           "x": 0.05
          },
          "xaxis": {
           "automargin": true,
           "gridcolor": "white",
           "linecolor": "white",
           "ticks": "",
           "title": {
            "standoff": 15
           },
           "zerolinecolor": "white",
           "zerolinewidth": 2
          },
          "yaxis": {
           "automargin": true,
           "gridcolor": "white",
           "linecolor": "white",
           "ticks": "",
           "title": {
            "standoff": 15
           },
           "zerolinecolor": "white",
           "zerolinewidth": 2
          }
         }
        },
        "title": {
         "text": "Total sales of each product category"
        },
        "xaxis": {
         "anchor": "y",
         "domain": [
          0,
          1
         ],
         "title": {
          "text": "product_category"
         }
        },
        "yaxis": {
         "anchor": "x",
         "domain": [
          0,
          1
         ],
         "title": {
          "text": "total_sales"
         }
        }
       }
      }
     },
     "metadata": {},
     "output_type": "display_data"
    }
   ],
   "source": [
    "px.bar(df,x=\"product_category\",y=\"total_sales\",title=\"Total sales of each product category\")"
   ]
  },
  {
   "cell_type": "markdown",
   "metadata": {},
   "source": [
    "#### Calculate the percentage of orders that were paid in installments"
   ]
  },
  {
   "cell_type": "code",
   "execution_count": 8,
   "metadata": {},
   "outputs": [
    {
     "data": {
      "text/plain": [
       "((Decimal('49.4176'),),)"
      ]
     },
     "execution_count": 8,
     "metadata": {},
     "output_type": "execute_result"
    }
   ],
   "source": [
    "query=\"\"\"select sum(case when payment_installments>1 then 1 else 0 end)*100/count(*) from payments\"\"\"\n",
    "cur.execute(query)\n",
    "data=cur.fetchall()\n",
    "data"
   ]
  },
  {
   "cell_type": "markdown",
   "metadata": {},
   "source": [
    "#### Count the number of customers from each state"
   ]
  },
  {
   "cell_type": "code",
   "execution_count": 10,
   "metadata": {},
   "outputs": [
    {
     "data": {
      "text/html": [
       "<div>\n",
       "<style scoped>\n",
       "    .dataframe tbody tr th:only-of-type {\n",
       "        vertical-align: middle;\n",
       "    }\n",
       "\n",
       "    .dataframe tbody tr th {\n",
       "        vertical-align: top;\n",
       "    }\n",
       "\n",
       "    .dataframe thead th {\n",
       "        text-align: right;\n",
       "    }\n",
       "</style>\n",
       "<table border=\"1\" class=\"dataframe\">\n",
       "  <thead>\n",
       "    <tr style=\"text-align: right;\">\n",
       "      <th></th>\n",
       "      <th>customer_count</th>\n",
       "      <th>customer_state</th>\n",
       "    </tr>\n",
       "  </thead>\n",
       "  <tbody>\n",
       "    <tr>\n",
       "      <th>0</th>\n",
       "      <td>41746</td>\n",
       "      <td>SP</td>\n",
       "    </tr>\n",
       "    <tr>\n",
       "      <th>4</th>\n",
       "      <td>12852</td>\n",
       "      <td>RJ</td>\n",
       "    </tr>\n",
       "    <tr>\n",
       "      <th>2</th>\n",
       "      <td>11635</td>\n",
       "      <td>MG</td>\n",
       "    </tr>\n",
       "    <tr>\n",
       "      <th>5</th>\n",
       "      <td>5466</td>\n",
       "      <td>RS</td>\n",
       "    </tr>\n",
       "    <tr>\n",
       "      <th>3</th>\n",
       "      <td>5045</td>\n",
       "      <td>PR</td>\n",
       "    </tr>\n",
       "  </tbody>\n",
       "</table>\n",
       "</div>"
      ],
      "text/plain": [
       "   customer_count customer_state\n",
       "0           41746             SP\n",
       "4           12852             RJ\n",
       "2           11635             MG\n",
       "5            5466             RS\n",
       "3            5045             PR"
      ]
     },
     "execution_count": 10,
     "metadata": {},
     "output_type": "execute_result"
    }
   ],
   "source": [
    "query=\"\"\"select count(customer_unique_id) , customer_state from customers group by customer_state\"\"\"\n",
    "cur.execute(query)\n",
    "data=cur.fetchall()\n",
    "df=pd.DataFrame(data,columns=[\"customer_count\",\"customer_state\"])\n",
    "df=df.sort_values(by=\"customer_count\",ascending=False)\n",
    "df.head()"
   ]
  },
  {
   "cell_type": "code",
   "execution_count": 11,
   "metadata": {},
   "outputs": [
    {
     "data": {
      "application/vnd.plotly.v1+json": {
       "config": {
        "plotlyServerURL": "https://plot.ly"
       },
       "data": [
        {
         "alignmentgroup": "True",
         "hovertemplate": "customer_state=%{x}<br>customer_count=%{y}<extra></extra>",
         "legendgroup": "",
         "marker": {
          "color": "#636efa",
          "pattern": {
           "shape": ""
          }
         },
         "name": "",
         "offsetgroup": "",
         "orientation": "v",
         "showlegend": false,
         "textposition": "auto",
         "type": "bar",
         "x": [
          "SP",
          "RJ",
          "MG",
          "RS",
          "PR",
          "SC",
          "BA",
          "DF",
          "ES",
          "GO",
          "PE",
          "CE",
          "PA",
          "MT",
          "MA",
          "MS",
          "PB",
          "PI",
          "RN",
          "AL",
          "SE",
          "TO",
          "RO",
          "AM",
          "AC",
          "AP",
          "RR"
         ],
         "xaxis": "x",
         "y": [
          41746,
          12852,
          11635,
          5466,
          5045,
          3637,
          3380,
          2140,
          2033,
          2020,
          1652,
          1336,
          975,
          907,
          747,
          715,
          536,
          495,
          485,
          413,
          350,
          280,
          253,
          148,
          81,
          68,
          46
         ],
         "yaxis": "y"
        }
       ],
       "layout": {
        "barmode": "relative",
        "legend": {
         "tracegroupgap": 0
        },
        "template": {
         "data": {
          "bar": [
           {
            "error_x": {
             "color": "#2a3f5f"
            },
            "error_y": {
             "color": "#2a3f5f"
            },
            "marker": {
             "line": {
              "color": "#E5ECF6",
              "width": 0.5
             },
             "pattern": {
              "fillmode": "overlay",
              "size": 10,
              "solidity": 0.2
             }
            },
            "type": "bar"
           }
          ],
          "barpolar": [
           {
            "marker": {
             "line": {
              "color": "#E5ECF6",
              "width": 0.5
             },
             "pattern": {
              "fillmode": "overlay",
              "size": 10,
              "solidity": 0.2
             }
            },
            "type": "barpolar"
           }
          ],
          "carpet": [
           {
            "aaxis": {
             "endlinecolor": "#2a3f5f",
             "gridcolor": "white",
             "linecolor": "white",
             "minorgridcolor": "white",
             "startlinecolor": "#2a3f5f"
            },
            "baxis": {
             "endlinecolor": "#2a3f5f",
             "gridcolor": "white",
             "linecolor": "white",
             "minorgridcolor": "white",
             "startlinecolor": "#2a3f5f"
            },
            "type": "carpet"
           }
          ],
          "choropleth": [
           {
            "colorbar": {
             "outlinewidth": 0,
             "ticks": ""
            },
            "type": "choropleth"
           }
          ],
          "contour": [
           {
            "colorbar": {
             "outlinewidth": 0,
             "ticks": ""
            },
            "colorscale": [
             [
              0,
              "#0d0887"
             ],
             [
              0.1111111111111111,
              "#46039f"
             ],
             [
              0.2222222222222222,
              "#7201a8"
             ],
             [
              0.3333333333333333,
              "#9c179e"
             ],
             [
              0.4444444444444444,
              "#bd3786"
             ],
             [
              0.5555555555555556,
              "#d8576b"
             ],
             [
              0.6666666666666666,
              "#ed7953"
             ],
             [
              0.7777777777777778,
              "#fb9f3a"
             ],
             [
              0.8888888888888888,
              "#fdca26"
             ],
             [
              1,
              "#f0f921"
             ]
            ],
            "type": "contour"
           }
          ],
          "contourcarpet": [
           {
            "colorbar": {
             "outlinewidth": 0,
             "ticks": ""
            },
            "type": "contourcarpet"
           }
          ],
          "heatmap": [
           {
            "colorbar": {
             "outlinewidth": 0,
             "ticks": ""
            },
            "colorscale": [
             [
              0,
              "#0d0887"
             ],
             [
              0.1111111111111111,
              "#46039f"
             ],
             [
              0.2222222222222222,
              "#7201a8"
             ],
             [
              0.3333333333333333,
              "#9c179e"
             ],
             [
              0.4444444444444444,
              "#bd3786"
             ],
             [
              0.5555555555555556,
              "#d8576b"
             ],
             [
              0.6666666666666666,
              "#ed7953"
             ],
             [
              0.7777777777777778,
              "#fb9f3a"
             ],
             [
              0.8888888888888888,
              "#fdca26"
             ],
             [
              1,
              "#f0f921"
             ]
            ],
            "type": "heatmap"
           }
          ],
          "heatmapgl": [
           {
            "colorbar": {
             "outlinewidth": 0,
             "ticks": ""
            },
            "colorscale": [
             [
              0,
              "#0d0887"
             ],
             [
              0.1111111111111111,
              "#46039f"
             ],
             [
              0.2222222222222222,
              "#7201a8"
             ],
             [
              0.3333333333333333,
              "#9c179e"
             ],
             [
              0.4444444444444444,
              "#bd3786"
             ],
             [
              0.5555555555555556,
              "#d8576b"
             ],
             [
              0.6666666666666666,
              "#ed7953"
             ],
             [
              0.7777777777777778,
              "#fb9f3a"
             ],
             [
              0.8888888888888888,
              "#fdca26"
             ],
             [
              1,
              "#f0f921"
             ]
            ],
            "type": "heatmapgl"
           }
          ],
          "histogram": [
           {
            "marker": {
             "pattern": {
              "fillmode": "overlay",
              "size": 10,
              "solidity": 0.2
             }
            },
            "type": "histogram"
           }
          ],
          "histogram2d": [
           {
            "colorbar": {
             "outlinewidth": 0,
             "ticks": ""
            },
            "colorscale": [
             [
              0,
              "#0d0887"
             ],
             [
              0.1111111111111111,
              "#46039f"
             ],
             [
              0.2222222222222222,
              "#7201a8"
             ],
             [
              0.3333333333333333,
              "#9c179e"
             ],
             [
              0.4444444444444444,
              "#bd3786"
             ],
             [
              0.5555555555555556,
              "#d8576b"
             ],
             [
              0.6666666666666666,
              "#ed7953"
             ],
             [
              0.7777777777777778,
              "#fb9f3a"
             ],
             [
              0.8888888888888888,
              "#fdca26"
             ],
             [
              1,
              "#f0f921"
             ]
            ],
            "type": "histogram2d"
           }
          ],
          "histogram2dcontour": [
           {
            "colorbar": {
             "outlinewidth": 0,
             "ticks": ""
            },
            "colorscale": [
             [
              0,
              "#0d0887"
             ],
             [
              0.1111111111111111,
              "#46039f"
             ],
             [
              0.2222222222222222,
              "#7201a8"
             ],
             [
              0.3333333333333333,
              "#9c179e"
             ],
             [
              0.4444444444444444,
              "#bd3786"
             ],
             [
              0.5555555555555556,
              "#d8576b"
             ],
             [
              0.6666666666666666,
              "#ed7953"
             ],
             [
              0.7777777777777778,
              "#fb9f3a"
             ],
             [
              0.8888888888888888,
              "#fdca26"
             ],
             [
              1,
              "#f0f921"
             ]
            ],
            "type": "histogram2dcontour"
           }
          ],
          "mesh3d": [
           {
            "colorbar": {
             "outlinewidth": 0,
             "ticks": ""
            },
            "type": "mesh3d"
           }
          ],
          "parcoords": [
           {
            "line": {
             "colorbar": {
              "outlinewidth": 0,
              "ticks": ""
             }
            },
            "type": "parcoords"
           }
          ],
          "pie": [
           {
            "automargin": true,
            "type": "pie"
           }
          ],
          "scatter": [
           {
            "fillpattern": {
             "fillmode": "overlay",
             "size": 10,
             "solidity": 0.2
            },
            "type": "scatter"
           }
          ],
          "scatter3d": [
           {
            "line": {
             "colorbar": {
              "outlinewidth": 0,
              "ticks": ""
             }
            },
            "marker": {
             "colorbar": {
              "outlinewidth": 0,
              "ticks": ""
             }
            },
            "type": "scatter3d"
           }
          ],
          "scattercarpet": [
           {
            "marker": {
             "colorbar": {
              "outlinewidth": 0,
              "ticks": ""
             }
            },
            "type": "scattercarpet"
           }
          ],
          "scattergeo": [
           {
            "marker": {
             "colorbar": {
              "outlinewidth": 0,
              "ticks": ""
             }
            },
            "type": "scattergeo"
           }
          ],
          "scattergl": [
           {
            "marker": {
             "colorbar": {
              "outlinewidth": 0,
              "ticks": ""
             }
            },
            "type": "scattergl"
           }
          ],
          "scattermapbox": [
           {
            "marker": {
             "colorbar": {
              "outlinewidth": 0,
              "ticks": ""
             }
            },
            "type": "scattermapbox"
           }
          ],
          "scatterpolar": [
           {
            "marker": {
             "colorbar": {
              "outlinewidth": 0,
              "ticks": ""
             }
            },
            "type": "scatterpolar"
           }
          ],
          "scatterpolargl": [
           {
            "marker": {
             "colorbar": {
              "outlinewidth": 0,
              "ticks": ""
             }
            },
            "type": "scatterpolargl"
           }
          ],
          "scatterternary": [
           {
            "marker": {
             "colorbar": {
              "outlinewidth": 0,
              "ticks": ""
             }
            },
            "type": "scatterternary"
           }
          ],
          "surface": [
           {
            "colorbar": {
             "outlinewidth": 0,
             "ticks": ""
            },
            "colorscale": [
             [
              0,
              "#0d0887"
             ],
             [
              0.1111111111111111,
              "#46039f"
             ],
             [
              0.2222222222222222,
              "#7201a8"
             ],
             [
              0.3333333333333333,
              "#9c179e"
             ],
             [
              0.4444444444444444,
              "#bd3786"
             ],
             [
              0.5555555555555556,
              "#d8576b"
             ],
             [
              0.6666666666666666,
              "#ed7953"
             ],
             [
              0.7777777777777778,
              "#fb9f3a"
             ],
             [
              0.8888888888888888,
              "#fdca26"
             ],
             [
              1,
              "#f0f921"
             ]
            ],
            "type": "surface"
           }
          ],
          "table": [
           {
            "cells": {
             "fill": {
              "color": "#EBF0F8"
             },
             "line": {
              "color": "white"
             }
            },
            "header": {
             "fill": {
              "color": "#C8D4E3"
             },
             "line": {
              "color": "white"
             }
            },
            "type": "table"
           }
          ]
         },
         "layout": {
          "annotationdefaults": {
           "arrowcolor": "#2a3f5f",
           "arrowhead": 0,
           "arrowwidth": 1
          },
          "autotypenumbers": "strict",
          "coloraxis": {
           "colorbar": {
            "outlinewidth": 0,
            "ticks": ""
           }
          },
          "colorscale": {
           "diverging": [
            [
             0,
             "#8e0152"
            ],
            [
             0.1,
             "#c51b7d"
            ],
            [
             0.2,
             "#de77ae"
            ],
            [
             0.3,
             "#f1b6da"
            ],
            [
             0.4,
             "#fde0ef"
            ],
            [
             0.5,
             "#f7f7f7"
            ],
            [
             0.6,
             "#e6f5d0"
            ],
            [
             0.7,
             "#b8e186"
            ],
            [
             0.8,
             "#7fbc41"
            ],
            [
             0.9,
             "#4d9221"
            ],
            [
             1,
             "#276419"
            ]
           ],
           "sequential": [
            [
             0,
             "#0d0887"
            ],
            [
             0.1111111111111111,
             "#46039f"
            ],
            [
             0.2222222222222222,
             "#7201a8"
            ],
            [
             0.3333333333333333,
             "#9c179e"
            ],
            [
             0.4444444444444444,
             "#bd3786"
            ],
            [
             0.5555555555555556,
             "#d8576b"
            ],
            [
             0.6666666666666666,
             "#ed7953"
            ],
            [
             0.7777777777777778,
             "#fb9f3a"
            ],
            [
             0.8888888888888888,
             "#fdca26"
            ],
            [
             1,
             "#f0f921"
            ]
           ],
           "sequentialminus": [
            [
             0,
             "#0d0887"
            ],
            [
             0.1111111111111111,
             "#46039f"
            ],
            [
             0.2222222222222222,
             "#7201a8"
            ],
            [
             0.3333333333333333,
             "#9c179e"
            ],
            [
             0.4444444444444444,
             "#bd3786"
            ],
            [
             0.5555555555555556,
             "#d8576b"
            ],
            [
             0.6666666666666666,
             "#ed7953"
            ],
            [
             0.7777777777777778,
             "#fb9f3a"
            ],
            [
             0.8888888888888888,
             "#fdca26"
            ],
            [
             1,
             "#f0f921"
            ]
           ]
          },
          "colorway": [
           "#636efa",
           "#EF553B",
           "#00cc96",
           "#ab63fa",
           "#FFA15A",
           "#19d3f3",
           "#FF6692",
           "#B6E880",
           "#FF97FF",
           "#FECB52"
          ],
          "font": {
           "color": "#2a3f5f"
          },
          "geo": {
           "bgcolor": "white",
           "lakecolor": "white",
           "landcolor": "#E5ECF6",
           "showlakes": true,
           "showland": true,
           "subunitcolor": "white"
          },
          "hoverlabel": {
           "align": "left"
          },
          "hovermode": "closest",
          "mapbox": {
           "style": "light"
          },
          "paper_bgcolor": "white",
          "plot_bgcolor": "#E5ECF6",
          "polar": {
           "angularaxis": {
            "gridcolor": "white",
            "linecolor": "white",
            "ticks": ""
           },
           "bgcolor": "#E5ECF6",
           "radialaxis": {
            "gridcolor": "white",
            "linecolor": "white",
            "ticks": ""
           }
          },
          "scene": {
           "xaxis": {
            "backgroundcolor": "#E5ECF6",
            "gridcolor": "white",
            "gridwidth": 2,
            "linecolor": "white",
            "showbackground": true,
            "ticks": "",
            "zerolinecolor": "white"
           },
           "yaxis": {
            "backgroundcolor": "#E5ECF6",
            "gridcolor": "white",
            "gridwidth": 2,
            "linecolor": "white",
            "showbackground": true,
            "ticks": "",
            "zerolinecolor": "white"
           },
           "zaxis": {
            "backgroundcolor": "#E5ECF6",
            "gridcolor": "white",
            "gridwidth": 2,
            "linecolor": "white",
            "showbackground": true,
            "ticks": "",
            "zerolinecolor": "white"
           }
          },
          "shapedefaults": {
           "line": {
            "color": "#2a3f5f"
           }
          },
          "ternary": {
           "aaxis": {
            "gridcolor": "white",
            "linecolor": "white",
            "ticks": ""
           },
           "baxis": {
            "gridcolor": "white",
            "linecolor": "white",
            "ticks": ""
           },
           "bgcolor": "#E5ECF6",
           "caxis": {
            "gridcolor": "white",
            "linecolor": "white",
            "ticks": ""
           }
          },
          "title": {
           "x": 0.05
          },
          "xaxis": {
           "automargin": true,
           "gridcolor": "white",
           "linecolor": "white",
           "ticks": "",
           "title": {
            "standoff": 15
           },
           "zerolinecolor": "white",
           "zerolinewidth": 2
          },
          "yaxis": {
           "automargin": true,
           "gridcolor": "white",
           "linecolor": "white",
           "ticks": "",
           "title": {
            "standoff": 15
           },
           "zerolinecolor": "white",
           "zerolinewidth": 2
          }
         }
        },
        "title": {
         "text": "Total customers in each state"
        },
        "xaxis": {
         "anchor": "y",
         "domain": [
          0,
          1
         ],
         "title": {
          "text": "customer_state"
         }
        },
        "yaxis": {
         "anchor": "x",
         "domain": [
          0,
          1
         ],
         "title": {
          "text": "customer_count"
         }
        }
       }
      }
     },
     "metadata": {},
     "output_type": "display_data"
    }
   ],
   "source": [
    "px.bar(df,x=\"customer_state\",y=\"customer_count\",title=\"Total customers in each state\")\n"
   ]
  },
  {
   "cell_type": "markdown",
   "metadata": {},
   "source": [
    "#### Calculate the number of orders per month in 2018."
   ]
  },
  {
   "cell_type": "code",
   "execution_count": 12,
   "metadata": {},
   "outputs": [
    {
     "data": {
      "text/html": [
       "<div>\n",
       "<style scoped>\n",
       "    .dataframe tbody tr th:only-of-type {\n",
       "        vertical-align: middle;\n",
       "    }\n",
       "\n",
       "    .dataframe tbody tr th {\n",
       "        vertical-align: top;\n",
       "    }\n",
       "\n",
       "    .dataframe thead th {\n",
       "        text-align: right;\n",
       "    }\n",
       "</style>\n",
       "<table border=\"1\" class=\"dataframe\">\n",
       "  <thead>\n",
       "    <tr style=\"text-align: right;\">\n",
       "      <th></th>\n",
       "      <th>order_count</th>\n",
       "      <th>months</th>\n",
       "    </tr>\n",
       "  </thead>\n",
       "  <tbody>\n",
       "    <tr>\n",
       "      <th>5</th>\n",
       "      <td>7269</td>\n",
       "      <td>January</td>\n",
       "    </tr>\n",
       "    <tr>\n",
       "      <th>4</th>\n",
       "      <td>7211</td>\n",
       "      <td>March</td>\n",
       "    </tr>\n",
       "    <tr>\n",
       "      <th>7</th>\n",
       "      <td>6939</td>\n",
       "      <td>April</td>\n",
       "    </tr>\n",
       "    <tr>\n",
       "      <th>6</th>\n",
       "      <td>6873</td>\n",
       "      <td>May</td>\n",
       "    </tr>\n",
       "    <tr>\n",
       "      <th>2</th>\n",
       "      <td>6728</td>\n",
       "      <td>February</td>\n",
       "    </tr>\n",
       "    <tr>\n",
       "      <th>1</th>\n",
       "      <td>6512</td>\n",
       "      <td>August</td>\n",
       "    </tr>\n",
       "    <tr>\n",
       "      <th>0</th>\n",
       "      <td>6292</td>\n",
       "      <td>July</td>\n",
       "    </tr>\n",
       "    <tr>\n",
       "      <th>3</th>\n",
       "      <td>6167</td>\n",
       "      <td>June</td>\n",
       "    </tr>\n",
       "    <tr>\n",
       "      <th>8</th>\n",
       "      <td>16</td>\n",
       "      <td>September</td>\n",
       "    </tr>\n",
       "    <tr>\n",
       "      <th>9</th>\n",
       "      <td>4</td>\n",
       "      <td>October</td>\n",
       "    </tr>\n",
       "  </tbody>\n",
       "</table>\n",
       "</div>"
      ],
      "text/plain": [
       "   order_count     months\n",
       "5         7269    January\n",
       "4         7211      March\n",
       "7         6939      April\n",
       "6         6873        May\n",
       "2         6728   February\n",
       "1         6512     August\n",
       "0         6292       July\n",
       "3         6167       June\n",
       "8           16  September\n",
       "9            4    October"
      ]
     },
     "execution_count": 12,
     "metadata": {},
     "output_type": "execute_result"
    }
   ],
   "source": [
    "query=\"\"\"select count(order_id),monthname(order_purchase_timestamp) as months from orders where order_purchase_timestamp between '2018-01-01' and '2018-12-31' group by months \"\"\"\n",
    "cur.execute(query)\n",
    "data=cur.fetchall()\n",
    "df=pd.DataFrame(data,columns=[\"order_count\",\"months\"])\n",
    "df=df.sort_values(by=\"order_count\",ascending=False)\n",
    "df"
   ]
  },
  {
   "cell_type": "code",
   "execution_count": 13,
   "metadata": {},
   "outputs": [
    {
     "data": {
      "application/vnd.plotly.v1+json": {
       "config": {
        "plotlyServerURL": "https://plot.ly"
       },
       "data": [
        {
         "alignmentgroup": "True",
         "hovertemplate": "months=%{x}<br>order_count=%{y}<extra></extra>",
         "legendgroup": "",
         "marker": {
          "color": "#636efa",
          "pattern": {
           "shape": ""
          }
         },
         "name": "",
         "offsetgroup": "",
         "orientation": "v",
         "showlegend": false,
         "textposition": "auto",
         "type": "bar",
         "x": [
          "January",
          "March",
          "April",
          "May",
          "February",
          "August",
          "July",
          "June",
          "September",
          "October"
         ],
         "xaxis": "x",
         "y": [
          7269,
          7211,
          6939,
          6873,
          6728,
          6512,
          6292,
          6167,
          16,
          4
         ],
         "yaxis": "y"
        }
       ],
       "layout": {
        "barmode": "relative",
        "legend": {
         "tracegroupgap": 0
        },
        "template": {
         "data": {
          "bar": [
           {
            "error_x": {
             "color": "#2a3f5f"
            },
            "error_y": {
             "color": "#2a3f5f"
            },
            "marker": {
             "line": {
              "color": "#E5ECF6",
              "width": 0.5
             },
             "pattern": {
              "fillmode": "overlay",
              "size": 10,
              "solidity": 0.2
             }
            },
            "type": "bar"
           }
          ],
          "barpolar": [
           {
            "marker": {
             "line": {
              "color": "#E5ECF6",
              "width": 0.5
             },
             "pattern": {
              "fillmode": "overlay",
              "size": 10,
              "solidity": 0.2
             }
            },
            "type": "barpolar"
           }
          ],
          "carpet": [
           {
            "aaxis": {
             "endlinecolor": "#2a3f5f",
             "gridcolor": "white",
             "linecolor": "white",
             "minorgridcolor": "white",
             "startlinecolor": "#2a3f5f"
            },
            "baxis": {
             "endlinecolor": "#2a3f5f",
             "gridcolor": "white",
             "linecolor": "white",
             "minorgridcolor": "white",
             "startlinecolor": "#2a3f5f"
            },
            "type": "carpet"
           }
          ],
          "choropleth": [
           {
            "colorbar": {
             "outlinewidth": 0,
             "ticks": ""
            },
            "type": "choropleth"
           }
          ],
          "contour": [
           {
            "colorbar": {
             "outlinewidth": 0,
             "ticks": ""
            },
            "colorscale": [
             [
              0,
              "#0d0887"
             ],
             [
              0.1111111111111111,
              "#46039f"
             ],
             [
              0.2222222222222222,
              "#7201a8"
             ],
             [
              0.3333333333333333,
              "#9c179e"
             ],
             [
              0.4444444444444444,
              "#bd3786"
             ],
             [
              0.5555555555555556,
              "#d8576b"
             ],
             [
              0.6666666666666666,
              "#ed7953"
             ],
             [
              0.7777777777777778,
              "#fb9f3a"
             ],
             [
              0.8888888888888888,
              "#fdca26"
             ],
             [
              1,
              "#f0f921"
             ]
            ],
            "type": "contour"
           }
          ],
          "contourcarpet": [
           {
            "colorbar": {
             "outlinewidth": 0,
             "ticks": ""
            },
            "type": "contourcarpet"
           }
          ],
          "heatmap": [
           {
            "colorbar": {
             "outlinewidth": 0,
             "ticks": ""
            },
            "colorscale": [
             [
              0,
              "#0d0887"
             ],
             [
              0.1111111111111111,
              "#46039f"
             ],
             [
              0.2222222222222222,
              "#7201a8"
             ],
             [
              0.3333333333333333,
              "#9c179e"
             ],
             [
              0.4444444444444444,
              "#bd3786"
             ],
             [
              0.5555555555555556,
              "#d8576b"
             ],
             [
              0.6666666666666666,
              "#ed7953"
             ],
             [
              0.7777777777777778,
              "#fb9f3a"
             ],
             [
              0.8888888888888888,
              "#fdca26"
             ],
             [
              1,
              "#f0f921"
             ]
            ],
            "type": "heatmap"
           }
          ],
          "heatmapgl": [
           {
            "colorbar": {
             "outlinewidth": 0,
             "ticks": ""
            },
            "colorscale": [
             [
              0,
              "#0d0887"
             ],
             [
              0.1111111111111111,
              "#46039f"
             ],
             [
              0.2222222222222222,
              "#7201a8"
             ],
             [
              0.3333333333333333,
              "#9c179e"
             ],
             [
              0.4444444444444444,
              "#bd3786"
             ],
             [
              0.5555555555555556,
              "#d8576b"
             ],
             [
              0.6666666666666666,
              "#ed7953"
             ],
             [
              0.7777777777777778,
              "#fb9f3a"
             ],
             [
              0.8888888888888888,
              "#fdca26"
             ],
             [
              1,
              "#f0f921"
             ]
            ],
            "type": "heatmapgl"
           }
          ],
          "histogram": [
           {
            "marker": {
             "pattern": {
              "fillmode": "overlay",
              "size": 10,
              "solidity": 0.2
             }
            },
            "type": "histogram"
           }
          ],
          "histogram2d": [
           {
            "colorbar": {
             "outlinewidth": 0,
             "ticks": ""
            },
            "colorscale": [
             [
              0,
              "#0d0887"
             ],
             [
              0.1111111111111111,
              "#46039f"
             ],
             [
              0.2222222222222222,
              "#7201a8"
             ],
             [
              0.3333333333333333,
              "#9c179e"
             ],
             [
              0.4444444444444444,
              "#bd3786"
             ],
             [
              0.5555555555555556,
              "#d8576b"
             ],
             [
              0.6666666666666666,
              "#ed7953"
             ],
             [
              0.7777777777777778,
              "#fb9f3a"
             ],
             [
              0.8888888888888888,
              "#fdca26"
             ],
             [
              1,
              "#f0f921"
             ]
            ],
            "type": "histogram2d"
           }
          ],
          "histogram2dcontour": [
           {
            "colorbar": {
             "outlinewidth": 0,
             "ticks": ""
            },
            "colorscale": [
             [
              0,
              "#0d0887"
             ],
             [
              0.1111111111111111,
              "#46039f"
             ],
             [
              0.2222222222222222,
              "#7201a8"
             ],
             [
              0.3333333333333333,
              "#9c179e"
             ],
             [
              0.4444444444444444,
              "#bd3786"
             ],
             [
              0.5555555555555556,
              "#d8576b"
             ],
             [
              0.6666666666666666,
              "#ed7953"
             ],
             [
              0.7777777777777778,
              "#fb9f3a"
             ],
             [
              0.8888888888888888,
              "#fdca26"
             ],
             [
              1,
              "#f0f921"
             ]
            ],
            "type": "histogram2dcontour"
           }
          ],
          "mesh3d": [
           {
            "colorbar": {
             "outlinewidth": 0,
             "ticks": ""
            },
            "type": "mesh3d"
           }
          ],
          "parcoords": [
           {
            "line": {
             "colorbar": {
              "outlinewidth": 0,
              "ticks": ""
             }
            },
            "type": "parcoords"
           }
          ],
          "pie": [
           {
            "automargin": true,
            "type": "pie"
           }
          ],
          "scatter": [
           {
            "fillpattern": {
             "fillmode": "overlay",
             "size": 10,
             "solidity": 0.2
            },
            "type": "scatter"
           }
          ],
          "scatter3d": [
           {
            "line": {
             "colorbar": {
              "outlinewidth": 0,
              "ticks": ""
             }
            },
            "marker": {
             "colorbar": {
              "outlinewidth": 0,
              "ticks": ""
             }
            },
            "type": "scatter3d"
           }
          ],
          "scattercarpet": [
           {
            "marker": {
             "colorbar": {
              "outlinewidth": 0,
              "ticks": ""
             }
            },
            "type": "scattercarpet"
           }
          ],
          "scattergeo": [
           {
            "marker": {
             "colorbar": {
              "outlinewidth": 0,
              "ticks": ""
             }
            },
            "type": "scattergeo"
           }
          ],
          "scattergl": [
           {
            "marker": {
             "colorbar": {
              "outlinewidth": 0,
              "ticks": ""
             }
            },
            "type": "scattergl"
           }
          ],
          "scattermapbox": [
           {
            "marker": {
             "colorbar": {
              "outlinewidth": 0,
              "ticks": ""
             }
            },
            "type": "scattermapbox"
           }
          ],
          "scatterpolar": [
           {
            "marker": {
             "colorbar": {
              "outlinewidth": 0,
              "ticks": ""
             }
            },
            "type": "scatterpolar"
           }
          ],
          "scatterpolargl": [
           {
            "marker": {
             "colorbar": {
              "outlinewidth": 0,
              "ticks": ""
             }
            },
            "type": "scatterpolargl"
           }
          ],
          "scatterternary": [
           {
            "marker": {
             "colorbar": {
              "outlinewidth": 0,
              "ticks": ""
             }
            },
            "type": "scatterternary"
           }
          ],
          "surface": [
           {
            "colorbar": {
             "outlinewidth": 0,
             "ticks": ""
            },
            "colorscale": [
             [
              0,
              "#0d0887"
             ],
             [
              0.1111111111111111,
              "#46039f"
             ],
             [
              0.2222222222222222,
              "#7201a8"
             ],
             [
              0.3333333333333333,
              "#9c179e"
             ],
             [
              0.4444444444444444,
              "#bd3786"
             ],
             [
              0.5555555555555556,
              "#d8576b"
             ],
             [
              0.6666666666666666,
              "#ed7953"
             ],
             [
              0.7777777777777778,
              "#fb9f3a"
             ],
             [
              0.8888888888888888,
              "#fdca26"
             ],
             [
              1,
              "#f0f921"
             ]
            ],
            "type": "surface"
           }
          ],
          "table": [
           {
            "cells": {
             "fill": {
              "color": "#EBF0F8"
             },
             "line": {
              "color": "white"
             }
            },
            "header": {
             "fill": {
              "color": "#C8D4E3"
             },
             "line": {
              "color": "white"
             }
            },
            "type": "table"
           }
          ]
         },
         "layout": {
          "annotationdefaults": {
           "arrowcolor": "#2a3f5f",
           "arrowhead": 0,
           "arrowwidth": 1
          },
          "autotypenumbers": "strict",
          "coloraxis": {
           "colorbar": {
            "outlinewidth": 0,
            "ticks": ""
           }
          },
          "colorscale": {
           "diverging": [
            [
             0,
             "#8e0152"
            ],
            [
             0.1,
             "#c51b7d"
            ],
            [
             0.2,
             "#de77ae"
            ],
            [
             0.3,
             "#f1b6da"
            ],
            [
             0.4,
             "#fde0ef"
            ],
            [
             0.5,
             "#f7f7f7"
            ],
            [
             0.6,
             "#e6f5d0"
            ],
            [
             0.7,
             "#b8e186"
            ],
            [
             0.8,
             "#7fbc41"
            ],
            [
             0.9,
             "#4d9221"
            ],
            [
             1,
             "#276419"
            ]
           ],
           "sequential": [
            [
             0,
             "#0d0887"
            ],
            [
             0.1111111111111111,
             "#46039f"
            ],
            [
             0.2222222222222222,
             "#7201a8"
            ],
            [
             0.3333333333333333,
             "#9c179e"
            ],
            [
             0.4444444444444444,
             "#bd3786"
            ],
            [
             0.5555555555555556,
             "#d8576b"
            ],
            [
             0.6666666666666666,
             "#ed7953"
            ],
            [
             0.7777777777777778,
             "#fb9f3a"
            ],
            [
             0.8888888888888888,
             "#fdca26"
            ],
            [
             1,
             "#f0f921"
            ]
           ],
           "sequentialminus": [
            [
             0,
             "#0d0887"
            ],
            [
             0.1111111111111111,
             "#46039f"
            ],
            [
             0.2222222222222222,
             "#7201a8"
            ],
            [
             0.3333333333333333,
             "#9c179e"
            ],
            [
             0.4444444444444444,
             "#bd3786"
            ],
            [
             0.5555555555555556,
             "#d8576b"
            ],
            [
             0.6666666666666666,
             "#ed7953"
            ],
            [
             0.7777777777777778,
             "#fb9f3a"
            ],
            [
             0.8888888888888888,
             "#fdca26"
            ],
            [
             1,
             "#f0f921"
            ]
           ]
          },
          "colorway": [
           "#636efa",
           "#EF553B",
           "#00cc96",
           "#ab63fa",
           "#FFA15A",
           "#19d3f3",
           "#FF6692",
           "#B6E880",
           "#FF97FF",
           "#FECB52"
          ],
          "font": {
           "color": "#2a3f5f"
          },
          "geo": {
           "bgcolor": "white",
           "lakecolor": "white",
           "landcolor": "#E5ECF6",
           "showlakes": true,
           "showland": true,
           "subunitcolor": "white"
          },
          "hoverlabel": {
           "align": "left"
          },
          "hovermode": "closest",
          "mapbox": {
           "style": "light"
          },
          "paper_bgcolor": "white",
          "plot_bgcolor": "#E5ECF6",
          "polar": {
           "angularaxis": {
            "gridcolor": "white",
            "linecolor": "white",
            "ticks": ""
           },
           "bgcolor": "#E5ECF6",
           "radialaxis": {
            "gridcolor": "white",
            "linecolor": "white",
            "ticks": ""
           }
          },
          "scene": {
           "xaxis": {
            "backgroundcolor": "#E5ECF6",
            "gridcolor": "white",
            "gridwidth": 2,
            "linecolor": "white",
            "showbackground": true,
            "ticks": "",
            "zerolinecolor": "white"
           },
           "yaxis": {
            "backgroundcolor": "#E5ECF6",
            "gridcolor": "white",
            "gridwidth": 2,
            "linecolor": "white",
            "showbackground": true,
            "ticks": "",
            "zerolinecolor": "white"
           },
           "zaxis": {
            "backgroundcolor": "#E5ECF6",
            "gridcolor": "white",
            "gridwidth": 2,
            "linecolor": "white",
            "showbackground": true,
            "ticks": "",
            "zerolinecolor": "white"
           }
          },
          "shapedefaults": {
           "line": {
            "color": "#2a3f5f"
           }
          },
          "ternary": {
           "aaxis": {
            "gridcolor": "white",
            "linecolor": "white",
            "ticks": ""
           },
           "baxis": {
            "gridcolor": "white",
            "linecolor": "white",
            "ticks": ""
           },
           "bgcolor": "#E5ECF6",
           "caxis": {
            "gridcolor": "white",
            "linecolor": "white",
            "ticks": ""
           }
          },
          "title": {
           "x": 0.05
          },
          "xaxis": {
           "automargin": true,
           "gridcolor": "white",
           "linecolor": "white",
           "ticks": "",
           "title": {
            "standoff": 15
           },
           "zerolinecolor": "white",
           "zerolinewidth": 2
          },
          "yaxis": {
           "automargin": true,
           "gridcolor": "white",
           "linecolor": "white",
           "ticks": "",
           "title": {
            "standoff": 15
           },
           "zerolinecolor": "white",
           "zerolinewidth": 2
          }
         }
        },
        "title": {
         "text": "Total orders in each month of 2018"
        },
        "xaxis": {
         "anchor": "y",
         "domain": [
          0,
          1
         ],
         "title": {
          "text": "months"
         }
        },
        "yaxis": {
         "anchor": "x",
         "domain": [
          0,
          1
         ],
         "title": {
          "text": "order_count"
         }
        }
       }
      }
     },
     "metadata": {},
     "output_type": "display_data"
    }
   ],
   "source": [
    "px.bar(df,x=\"months\",y=\"order_count\",title=\"Total orders in each month of 2018\")"
   ]
  },
  {
   "cell_type": "markdown",
   "metadata": {},
   "source": [
    "####  Find the average number of products per order, grouped by customer city"
   ]
  },
  {
   "cell_type": "code",
   "execution_count": 14,
   "metadata": {},
   "outputs": [
    {
     "data": {
      "text/html": [
       "<div>\n",
       "<style scoped>\n",
       "    .dataframe tbody tr th:only-of-type {\n",
       "        vertical-align: middle;\n",
       "    }\n",
       "\n",
       "    .dataframe tbody tr th {\n",
       "        vertical-align: top;\n",
       "    }\n",
       "\n",
       "    .dataframe thead th {\n",
       "        text-align: right;\n",
       "    }\n",
       "</style>\n",
       "<table border=\"1\" class=\"dataframe\">\n",
       "  <thead>\n",
       "    <tr style=\"text-align: right;\">\n",
       "      <th></th>\n",
       "      <th>customer_city</th>\n",
       "      <th>average_products_per_order</th>\n",
       "    </tr>\n",
       "  </thead>\n",
       "  <tbody>\n",
       "    <tr>\n",
       "      <th>0</th>\n",
       "      <td>sao jose dos campos</td>\n",
       "      <td>1.14</td>\n",
       "    </tr>\n",
       "    <tr>\n",
       "      <th>1</th>\n",
       "      <td>indaial</td>\n",
       "      <td>1.12</td>\n",
       "    </tr>\n",
       "    <tr>\n",
       "      <th>2</th>\n",
       "      <td>treze tilias</td>\n",
       "      <td>1.27</td>\n",
       "    </tr>\n",
       "    <tr>\n",
       "      <th>3</th>\n",
       "      <td>sao paulo</td>\n",
       "      <td>1.16</td>\n",
       "    </tr>\n",
       "    <tr>\n",
       "      <th>4</th>\n",
       "      <td>rio de janeiro</td>\n",
       "      <td>1.15</td>\n",
       "    </tr>\n",
       "    <tr>\n",
       "      <th>...</th>\n",
       "      <td>...</td>\n",
       "      <td>...</td>\n",
       "    </tr>\n",
       "    <tr>\n",
       "      <th>4105</th>\n",
       "      <td>buriti</td>\n",
       "      <td>3.00</td>\n",
       "    </tr>\n",
       "    <tr>\n",
       "      <th>4106</th>\n",
       "      <td>morro agudo de goias</td>\n",
       "      <td>1.00</td>\n",
       "    </tr>\n",
       "    <tr>\n",
       "      <th>4107</th>\n",
       "      <td>santa filomena</td>\n",
       "      <td>1.00</td>\n",
       "    </tr>\n",
       "    <tr>\n",
       "      <th>4108</th>\n",
       "      <td>guamiranga</td>\n",
       "      <td>1.00</td>\n",
       "    </tr>\n",
       "    <tr>\n",
       "      <th>4109</th>\n",
       "      <td>padre paraiso</td>\n",
       "      <td>1.00</td>\n",
       "    </tr>\n",
       "  </tbody>\n",
       "</table>\n",
       "<p>4110 rows × 2 columns</p>\n",
       "</div>"
      ],
      "text/plain": [
       "             customer_city average_products_per_order\n",
       "0      sao jose dos campos                       1.14\n",
       "1                  indaial                       1.12\n",
       "2             treze tilias                       1.27\n",
       "3                sao paulo                       1.16\n",
       "4           rio de janeiro                       1.15\n",
       "...                    ...                        ...\n",
       "4105                buriti                       3.00\n",
       "4106  morro agudo de goias                       1.00\n",
       "4107        santa filomena                       1.00\n",
       "4108            guamiranga                       1.00\n",
       "4109         padre paraiso                       1.00\n",
       "\n",
       "[4110 rows x 2 columns]"
      ]
     },
     "execution_count": 14,
     "metadata": {},
     "output_type": "execute_result"
    }
   ],
   "source": [
    "query=\"\"\" with count_per_order as (select orders.order_id ,orders.customer_id , count(order_items.order_id) as OC\n",
    "from orders join order_items on orders.order_id = order_items.order_id\n",
    "group by orders.order_id,orders.customer_id) \n",
    "\n",
    "select customers.customer_city , round(AVG(count_per_order.OC),2) from\n",
    "customers join count_per_order on customers.customer_id= count_per_order.customer_id group by customers.customer_city;\n",
    "\n",
    "\n",
    "\n",
    "\"\"\"\n",
    "cur.execute(query)\n",
    "data=cur.fetchall()\n",
    "df=pd.DataFrame(data,columns=[\"customer_city\",\"average_products_per_order\"])\n",
    "df"
   ]
  },
  {
   "cell_type": "markdown",
   "metadata": {},
   "source": [
    "#### Calculate the percentage of total revenue contributed by each product category"
   ]
  },
  {
   "cell_type": "code",
   "execution_count": 15,
   "metadata": {},
   "outputs": [
    {
     "data": {
      "text/html": [
       "<div>\n",
       "<style scoped>\n",
       "    .dataframe tbody tr th:only-of-type {\n",
       "        vertical-align: middle;\n",
       "    }\n",
       "\n",
       "    .dataframe tbody tr th {\n",
       "        vertical-align: top;\n",
       "    }\n",
       "\n",
       "    .dataframe thead th {\n",
       "        text-align: right;\n",
       "    }\n",
       "</style>\n",
       "<table border=\"1\" class=\"dataframe\">\n",
       "  <thead>\n",
       "    <tr style=\"text-align: right;\">\n",
       "      <th></th>\n",
       "      <th>product_category</th>\n",
       "      <th>percentage_sales</th>\n",
       "    </tr>\n",
       "  </thead>\n",
       "  <tbody>\n",
       "    <tr>\n",
       "      <th>0</th>\n",
       "      <td>perfumery</td>\n",
       "      <td>3.165361</td>\n",
       "    </tr>\n",
       "    <tr>\n",
       "      <th>1</th>\n",
       "      <td>Furniture Decoration</td>\n",
       "      <td>8.933649</td>\n",
       "    </tr>\n",
       "    <tr>\n",
       "      <th>2</th>\n",
       "      <td>telephony</td>\n",
       "      <td>3.041326</td>\n",
       "    </tr>\n",
       "    <tr>\n",
       "      <th>3</th>\n",
       "      <td>Fashion Bags and Accessories</td>\n",
       "      <td>1.362734</td>\n",
       "    </tr>\n",
       "    <tr>\n",
       "      <th>4</th>\n",
       "      <td>bed table bath</td>\n",
       "      <td>10.697529</td>\n",
       "    </tr>\n",
       "    <tr>\n",
       "      <th>...</th>\n",
       "      <td>...</td>\n",
       "      <td>...</td>\n",
       "    </tr>\n",
       "    <tr>\n",
       "      <th>69</th>\n",
       "      <td>cds music dvds</td>\n",
       "      <td>0.007492</td>\n",
       "    </tr>\n",
       "    <tr>\n",
       "      <th>70</th>\n",
       "      <td>La Cuisine</td>\n",
       "      <td>0.018199</td>\n",
       "    </tr>\n",
       "    <tr>\n",
       "      <th>71</th>\n",
       "      <td>Fashion Children's Clothing</td>\n",
       "      <td>0.004908</td>\n",
       "    </tr>\n",
       "    <tr>\n",
       "      <th>72</th>\n",
       "      <td>PC Gamer</td>\n",
       "      <td>0.013583</td>\n",
       "    </tr>\n",
       "    <tr>\n",
       "      <th>73</th>\n",
       "      <td>insurance and services</td>\n",
       "      <td>0.002027</td>\n",
       "    </tr>\n",
       "  </tbody>\n",
       "</table>\n",
       "<p>74 rows × 2 columns</p>\n",
       "</div>"
      ],
      "text/plain": [
       "                product_category  percentage_sales\n",
       "0                      perfumery          3.165361\n",
       "1           Furniture Decoration          8.933649\n",
       "2                      telephony          3.041326\n",
       "3   Fashion Bags and Accessories          1.362734\n",
       "4                 bed table bath         10.697529\n",
       "..                           ...               ...\n",
       "69                cds music dvds          0.007492\n",
       "70                    La Cuisine          0.018199\n",
       "71   Fashion Children's Clothing          0.004908\n",
       "72                      PC Gamer          0.013583\n",
       "73        insurance and services          0.002027\n",
       "\n",
       "[74 rows x 2 columns]"
      ]
     },
     "execution_count": 15,
     "metadata": {},
     "output_type": "execute_result"
    }
   ],
   "source": [
    "query=\"\"\"select products.product_category ,sum(payments.payment_value) * 100/ (select sum(payment_value) from payments)\n",
    "from products join order_items  \n",
    "on products.product_id = order_items.product_id \n",
    "join payments on payments.order_id = order_items.order_id  \n",
    "group by products.product_category\"\"\"\n",
    "cur.execute(query)\n",
    "data=cur.fetchall()\n",
    "df=pd.DataFrame(data,columns=[\"product_category\",\"percentage_sales\"])\n",
    "df"
   ]
  },
  {
   "cell_type": "markdown",
   "metadata": {},
   "source": [
    "####  Identify the correlation between product price and the number of times a product has been purchased."
   ]
  },
  {
   "cell_type": "code",
   "execution_count": 17,
   "metadata": {},
   "outputs": [
    {
     "data": {
      "text/html": [
       "<div>\n",
       "<style scoped>\n",
       "    .dataframe tbody tr th:only-of-type {\n",
       "        vertical-align: middle;\n",
       "    }\n",
       "\n",
       "    .dataframe tbody tr th {\n",
       "        vertical-align: top;\n",
       "    }\n",
       "\n",
       "    .dataframe thead th {\n",
       "        text-align: right;\n",
       "    }\n",
       "</style>\n",
       "<table border=\"1\" class=\"dataframe\">\n",
       "  <thead>\n",
       "    <tr style=\"text-align: right;\">\n",
       "      <th></th>\n",
       "      <th>product_category</th>\n",
       "      <th>total_products_sold</th>\n",
       "      <th>average_price</th>\n",
       "    </tr>\n",
       "  </thead>\n",
       "  <tbody>\n",
       "    <tr>\n",
       "      <th>0</th>\n",
       "      <td>HEALTH BEAUTY</td>\n",
       "      <td>9670</td>\n",
       "      <td>130.16</td>\n",
       "    </tr>\n",
       "    <tr>\n",
       "      <th>1</th>\n",
       "      <td>sport leisure</td>\n",
       "      <td>8641</td>\n",
       "      <td>114.34</td>\n",
       "    </tr>\n",
       "    <tr>\n",
       "      <th>2</th>\n",
       "      <td>Cool Stuff</td>\n",
       "      <td>3796</td>\n",
       "      <td>167.36</td>\n",
       "    </tr>\n",
       "    <tr>\n",
       "      <th>3</th>\n",
       "      <td>computer accessories</td>\n",
       "      <td>7827</td>\n",
       "      <td>116.51</td>\n",
       "    </tr>\n",
       "    <tr>\n",
       "      <th>4</th>\n",
       "      <td>Watches present</td>\n",
       "      <td>5991</td>\n",
       "      <td>201.14</td>\n",
       "    </tr>\n",
       "    <tr>\n",
       "      <th>...</th>\n",
       "      <td>...</td>\n",
       "      <td>...</td>\n",
       "      <td>...</td>\n",
       "    </tr>\n",
       "    <tr>\n",
       "      <th>69</th>\n",
       "      <td>flowers</td>\n",
       "      <td>33</td>\n",
       "      <td>33.64</td>\n",
       "    </tr>\n",
       "    <tr>\n",
       "      <th>70</th>\n",
       "      <td>Kitchen portable and food coach</td>\n",
       "      <td>15</td>\n",
       "      <td>264.57</td>\n",
       "    </tr>\n",
       "    <tr>\n",
       "      <th>71</th>\n",
       "      <td>House Comfort 2</td>\n",
       "      <td>30</td>\n",
       "      <td>25.34</td>\n",
       "    </tr>\n",
       "    <tr>\n",
       "      <th>72</th>\n",
       "      <td>CITTE AND UPHACK FURNITURE</td>\n",
       "      <td>38</td>\n",
       "      <td>114.95</td>\n",
       "    </tr>\n",
       "    <tr>\n",
       "      <th>73</th>\n",
       "      <td>cds music dvds</td>\n",
       "      <td>14</td>\n",
       "      <td>52.14</td>\n",
       "    </tr>\n",
       "  </tbody>\n",
       "</table>\n",
       "<p>74 rows × 3 columns</p>\n",
       "</div>"
      ],
      "text/plain": [
       "                   product_category  total_products_sold  average_price\n",
       "0                     HEALTH BEAUTY                 9670         130.16\n",
       "1                     sport leisure                 8641         114.34\n",
       "2                        Cool Stuff                 3796         167.36\n",
       "3              computer accessories                 7827         116.51\n",
       "4                   Watches present                 5991         201.14\n",
       "..                              ...                  ...            ...\n",
       "69                          flowers                   33          33.64\n",
       "70  Kitchen portable and food coach                   15         264.57\n",
       "71                  House Comfort 2                   30          25.34\n",
       "72       CITTE AND UPHACK FURNITURE                   38         114.95\n",
       "73                   cds music dvds                   14          52.14\n",
       "\n",
       "[74 rows x 3 columns]"
      ]
     },
     "execution_count": 17,
     "metadata": {},
     "output_type": "execute_result"
    }
   ],
   "source": [
    "query=\"\"\"select p.product_category, count(o.product_id) , round(avg(o.price),2) \n",
    "from products p join order_items o \n",
    "on p.product_id=o.product_id\n",
    "group by p.product_category;\"\"\"\n",
    "cur.execute(query)\n",
    "data=cur.fetchall()\n",
    "df=pd.DataFrame(data,columns=[\"product_category\",\"total_products_sold\",\"average_price\"])\n",
    "df"
   ]
  },
  {
   "cell_type": "code",
   "execution_count": 18,
   "metadata": {},
   "outputs": [
    {
     "data": {
      "application/vnd.plotly.v1+json": {
       "config": {
        "plotlyServerURL": "https://plot.ly"
       },
       "data": [
        {
         "hovertemplate": "product_category=HEALTH BEAUTY<br>total_products_sold=%{x}<br>average_price=%{y}<extra></extra>",
         "legendgroup": "HEALTH BEAUTY",
         "marker": {
          "color": "#636efa",
          "symbol": "circle"
         },
         "mode": "markers",
         "name": "HEALTH BEAUTY",
         "orientation": "v",
         "showlegend": true,
         "type": "scatter",
         "x": [
          9670
         ],
         "xaxis": "x",
         "y": [
          130.16
         ],
         "yaxis": "y"
        },
        {
         "hovertemplate": "product_category=sport leisure<br>total_products_sold=%{x}<br>average_price=%{y}<extra></extra>",
         "legendgroup": "sport leisure",
         "marker": {
          "color": "#EF553B",
          "symbol": "circle"
         },
         "mode": "markers",
         "name": "sport leisure",
         "orientation": "v",
         "showlegend": true,
         "type": "scatter",
         "x": [
          8641
         ],
         "xaxis": "x",
         "y": [
          114.34
         ],
         "yaxis": "y"
        },
        {
         "hovertemplate": "product_category=Cool Stuff<br>total_products_sold=%{x}<br>average_price=%{y}<extra></extra>",
         "legendgroup": "Cool Stuff",
         "marker": {
          "color": "#00cc96",
          "symbol": "circle"
         },
         "mode": "markers",
         "name": "Cool Stuff",
         "orientation": "v",
         "showlegend": true,
         "type": "scatter",
         "x": [
          3796
         ],
         "xaxis": "x",
         "y": [
          167.36
         ],
         "yaxis": "y"
        },
        {
         "hovertemplate": "product_category=computer accessories<br>total_products_sold=%{x}<br>average_price=%{y}<extra></extra>",
         "legendgroup": "computer accessories",
         "marker": {
          "color": "#ab63fa",
          "symbol": "circle"
         },
         "mode": "markers",
         "name": "computer accessories",
         "orientation": "v",
         "showlegend": true,
         "type": "scatter",
         "x": [
          7827
         ],
         "xaxis": "x",
         "y": [
          116.51
         ],
         "yaxis": "y"
        },
        {
         "hovertemplate": "product_category=Watches present<br>total_products_sold=%{x}<br>average_price=%{y}<extra></extra>",
         "legendgroup": "Watches present",
         "marker": {
          "color": "#FFA15A",
          "symbol": "circle"
         },
         "mode": "markers",
         "name": "Watches present",
         "orientation": "v",
         "showlegend": true,
         "type": "scatter",
         "x": [
          5991
         ],
         "xaxis": "x",
         "y": [
          201.14
         ],
         "yaxis": "y"
        },
        {
         "hovertemplate": "product_category=housewares<br>total_products_sold=%{x}<br>average_price=%{y}<extra></extra>",
         "legendgroup": "housewares",
         "marker": {
          "color": "#19d3f3",
          "symbol": "circle"
         },
         "mode": "markers",
         "name": "housewares",
         "orientation": "v",
         "showlegend": true,
         "type": "scatter",
         "x": [
          6964
         ],
         "xaxis": "x",
         "y": [
          90.79
         ],
         "yaxis": "y"
        },
        {
         "hovertemplate": "product_category=electronics<br>total_products_sold=%{x}<br>average_price=%{y}<extra></extra>",
         "legendgroup": "electronics",
         "marker": {
          "color": "#FF6692",
          "symbol": "circle"
         },
         "mode": "markers",
         "name": "electronics",
         "orientation": "v",
         "showlegend": true,
         "type": "scatter",
         "x": [
          2767
         ],
         "xaxis": "x",
         "y": [
          57.91
         ],
         "yaxis": "y"
        },
        {
         "hovertemplate": "product_category=toys<br>total_products_sold=%{x}<br>average_price=%{y}<extra></extra>",
         "legendgroup": "toys",
         "marker": {
          "color": "#FF97FF",
          "symbol": "circle"
         },
         "mode": "markers",
         "name": "toys",
         "orientation": "v",
         "showlegend": true,
         "type": "scatter",
         "x": [
          4117
         ],
         "xaxis": "x",
         "y": [
          117.55
         ],
         "yaxis": "y"
        },
        {
         "hovertemplate": "product_category=bed table bath<br>total_products_sold=%{x}<br>average_price=%{y}<extra></extra>",
         "legendgroup": "bed table bath",
         "marker": {
          "color": "#FECB52",
          "symbol": "circle"
         },
         "mode": "markers",
         "name": "bed table bath",
         "orientation": "v",
         "showlegend": true,
         "type": "scatter",
         "x": [
          11115
         ],
         "xaxis": "x",
         "y": [
          93.3
         ],
         "yaxis": "y"
        },
        {
         "hovertemplate": "product_category=Games consoles<br>total_products_sold=%{x}<br>average_price=%{y}<extra></extra>",
         "legendgroup": "Games consoles",
         "marker": {
          "color": "#636efa",
          "symbol": "circle"
         },
         "mode": "markers",
         "name": "Games consoles",
         "orientation": "v",
         "showlegend": true,
         "type": "scatter",
         "x": [
          1137
         ],
         "xaxis": "x",
         "y": [
          138.49
         ],
         "yaxis": "y"
        },
        {
         "hovertemplate": "product_category=automotive<br>total_products_sold=%{x}<br>average_price=%{y}<extra></extra>",
         "legendgroup": "automotive",
         "marker": {
          "color": "#EF553B",
          "symbol": "circle"
         },
         "mode": "markers",
         "name": "automotive",
         "orientation": "v",
         "showlegend": true,
         "type": "scatter",
         "x": [
          4235
         ],
         "xaxis": "x",
         "y": [
          139.96
         ],
         "yaxis": "y"
        },
        {
         "hovertemplate": "product_category=Furniture Decoration<br>total_products_sold=%{x}<br>average_price=%{y}<extra></extra>",
         "legendgroup": "Furniture Decoration",
         "marker": {
          "color": "#00cc96",
          "symbol": "circle"
         },
         "mode": "markers",
         "name": "Furniture Decoration",
         "orientation": "v",
         "showlegend": true,
         "type": "scatter",
         "x": [
          8334
         ],
         "xaxis": "x",
         "y": [
          87.56
         ],
         "yaxis": "y"
        },
        {
         "hovertemplate": "product_category=home appliances<br>total_products_sold=%{x}<br>average_price=%{y}<extra></extra>",
         "legendgroup": "home appliances",
         "marker": {
          "color": "#ab63fa",
          "symbol": "circle"
         },
         "mode": "markers",
         "name": "home appliances",
         "orientation": "v",
         "showlegend": true,
         "type": "scatter",
         "x": [
          771
         ],
         "xaxis": "x",
         "y": [
          103.98
         ],
         "yaxis": "y"
        },
        {
         "hovertemplate": "product_category=telephony<br>total_products_sold=%{x}<br>average_price=%{y}<extra></extra>",
         "legendgroup": "telephony",
         "marker": {
          "color": "#FFA15A",
          "symbol": "circle"
         },
         "mode": "markers",
         "name": "telephony",
         "orientation": "v",
         "showlegend": true,
         "type": "scatter",
         "x": [
          4545
         ],
         "xaxis": "x",
         "y": [
          71.21
         ],
         "yaxis": "y"
        },
        {
         "hovertemplate": "product_category=Construction Tools Construction<br>total_products_sold=%{x}<br>average_price=%{y}<extra></extra>",
         "legendgroup": "Construction Tools Construction",
         "marker": {
          "color": "#19d3f3",
          "symbol": "circle"
         },
         "mode": "markers",
         "name": "Construction Tools Construction",
         "orientation": "v",
         "showlegend": true,
         "type": "scatter",
         "x": [
          929
         ],
         "xaxis": "x",
         "y": [
          155.73
         ],
         "yaxis": "y"
        },
        {
         "hovertemplate": "product_category=perfumery<br>total_products_sold=%{x}<br>average_price=%{y}<extra></extra>",
         "legendgroup": "perfumery",
         "marker": {
          "color": "#FF6692",
          "symbol": "circle"
         },
         "mode": "markers",
         "name": "perfumery",
         "orientation": "v",
         "showlegend": true,
         "type": "scatter",
         "x": [
          3419
         ],
         "xaxis": "x",
         "y": [
          116.74
         ],
         "yaxis": "y"
        },
        {
         "hovertemplate": "product_category=stationary store<br>total_products_sold=%{x}<br>average_price=%{y}<extra></extra>",
         "legendgroup": "stationary store",
         "marker": {
          "color": "#B6E880",
          "symbol": "circle"
         },
         "mode": "markers",
         "name": "stationary store",
         "orientation": "v",
         "showlegend": true,
         "type": "scatter",
         "x": [
          2517
         ],
         "xaxis": "x",
         "y": [
          91.75
         ],
         "yaxis": "y"
        },
        {
         "hovertemplate": "product_category=Room Furniture<br>total_products_sold=%{x}<br>average_price=%{y}<extra></extra>",
         "legendgroup": "Room Furniture",
         "marker": {
          "color": "#FF97FF",
          "symbol": "circle"
         },
         "mode": "markers",
         "name": "Room Furniture",
         "orientation": "v",
         "showlegend": true,
         "type": "scatter",
         "x": [
          503
         ],
         "xaxis": "x",
         "y": [
          137.01
         ],
         "yaxis": "y"
        },
        {
         "hovertemplate": "product_category=Fashion Bags and Accessories<br>total_products_sold=%{x}<br>average_price=%{y}<extra></extra>",
         "legendgroup": "Fashion Bags and Accessories",
         "marker": {
          "color": "#FECB52",
          "symbol": "circle"
         },
         "mode": "markers",
         "name": "Fashion Bags and Accessories",
         "orientation": "v",
         "showlegend": true,
         "type": "scatter",
         "x": [
          2031
         ],
         "xaxis": "x",
         "y": [
          75.25
         ],
         "yaxis": "y"
        },
        {
         "hovertemplate": "product_category=Garden tools<br>total_products_sold=%{x}<br>average_price=%{y}<extra></extra>",
         "legendgroup": "Garden tools",
         "marker": {
          "color": "#636efa",
          "symbol": "circle"
         },
         "mode": "markers",
         "name": "Garden tools",
         "orientation": "v",
         "showlegend": true,
         "type": "scatter",
         "x": [
          4347
         ],
         "xaxis": "x",
         "y": [
          111.63
         ],
         "yaxis": "y"
        },
        {
         "hovertemplate": "product_category=Fashion Underwear and Beach Fashion<br>total_products_sold=%{x}<br>average_price=%{y}<extra></extra>",
         "legendgroup": "Fashion Underwear and Beach Fashion",
         "marker": {
          "color": "#EF553B",
          "symbol": "circle"
         },
         "mode": "markers",
         "name": "Fashion Underwear and Beach Fashion",
         "orientation": "v",
         "showlegend": true,
         "type": "scatter",
         "x": [
          131
         ],
         "xaxis": "x",
         "y": [
          72.84
         ],
         "yaxis": "y"
        },
        {
         "hovertemplate": "product_category=pet Shop<br>total_products_sold=%{x}<br>average_price=%{y}<extra></extra>",
         "legendgroup": "pet Shop",
         "marker": {
          "color": "#00cc96",
          "symbol": "circle"
         },
         "mode": "markers",
         "name": "pet Shop",
         "orientation": "v",
         "showlegend": true,
         "type": "scatter",
         "x": [
          1947
         ],
         "xaxis": "x",
         "y": [
          110.07
         ],
         "yaxis": "y"
        },
        {
         "hovertemplate": "product_category=SIGNALIZATION AND SAFETY<br>total_products_sold=%{x}<br>average_price=%{y}<extra></extra>",
         "legendgroup": "SIGNALIZATION AND SAFETY",
         "marker": {
          "color": "#ab63fa",
          "symbol": "circle"
         },
         "mode": "markers",
         "name": "SIGNALIZATION AND SAFETY",
         "orientation": "v",
         "showlegend": true,
         "type": "scatter",
         "x": [
          199
         ],
         "xaxis": "x",
         "y": [
          108.09
         ],
         "yaxis": "y"
        },
        {
         "hovertemplate": "product_category=ELECTRICES 2<br>total_products_sold=%{x}<br>average_price=%{y}<extra></extra>",
         "legendgroup": "ELECTRICES 2",
         "marker": {
          "color": "#FFA15A",
          "symbol": "circle"
         },
         "mode": "markers",
         "name": "ELECTRICES 2",
         "orientation": "v",
         "showlegend": true,
         "type": "scatter",
         "x": [
          238
         ],
         "xaxis": "x",
         "y": [
          476.12
         ],
         "yaxis": "y"
        },
        {
         "hovertemplate": "product_category=Fashion Women's Clothing<br>total_products_sold=%{x}<br>average_price=%{y}<extra></extra>",
         "legendgroup": "Fashion Women's Clothing",
         "marker": {
          "color": "#19d3f3",
          "symbol": "circle"
         },
         "mode": "markers",
         "name": "Fashion Women's Clothing",
         "orientation": "v",
         "showlegend": true,
         "type": "scatter",
         "x": [
          48
         ],
         "xaxis": "x",
         "y": [
          58.41
         ],
         "yaxis": "y"
        },
        {
         "hovertemplate": "product_category=Bags Accessories<br>total_products_sold=%{x}<br>average_price=%{y}<extra></extra>",
         "legendgroup": "Bags Accessories",
         "marker": {
          "color": "#FF6692",
          "symbol": "circle"
         },
         "mode": "markers",
         "name": "Bags Accessories",
         "orientation": "v",
         "showlegend": true,
         "type": "scatter",
         "x": [
          1092
         ],
         "xaxis": "x",
         "y": [
          128.6
         ],
         "yaxis": "y"
        },
        {
         "hovertemplate": "product_category=General Interest Books<br>total_products_sold=%{x}<br>average_price=%{y}<extra></extra>",
         "legendgroup": "General Interest Books",
         "marker": {
          "color": "#B6E880",
          "symbol": "circle"
         },
         "mode": "markers",
         "name": "General Interest Books",
         "orientation": "v",
         "showlegend": true,
         "type": "scatter",
         "x": [
          553
         ],
         "xaxis": "x",
         "y": [
          84.73
         ],
         "yaxis": "y"
        },
        {
         "hovertemplate": "product_category=fixed telephony<br>total_products_sold=%{x}<br>average_price=%{y}<extra></extra>",
         "legendgroup": "fixed telephony",
         "marker": {
          "color": "#FF97FF",
          "symbol": "circle"
         },
         "mode": "markers",
         "name": "fixed telephony",
         "orientation": "v",
         "showlegend": true,
         "type": "scatter",
         "x": [
          264
         ],
         "xaxis": "x",
         "y": [
          225.69
         ],
         "yaxis": "y"
        },
        {
         "hovertemplate": "product_category=HOUSE PASTALS OVEN AND CAFE<br>total_products_sold=%{x}<br>average_price=%{y}<extra></extra>",
         "legendgroup": "HOUSE PASTALS OVEN AND CAFE",
         "marker": {
          "color": "#FECB52",
          "symbol": "circle"
         },
         "mode": "markers",
         "name": "HOUSE PASTALS OVEN AND CAFE",
         "orientation": "v",
         "showlegend": true,
         "type": "scatter",
         "x": [
          76
         ],
         "xaxis": "x",
         "y": [
          624.29
         ],
         "yaxis": "y"
        },
        {
         "hovertemplate": "product_category=PCs<br>total_products_sold=%{x}<br>average_price=%{y}<extra></extra>",
         "legendgroup": "PCs",
         "marker": {
          "color": "#636efa",
          "symbol": "circle"
         },
         "mode": "markers",
         "name": "PCs",
         "orientation": "v",
         "showlegend": true,
         "type": "scatter",
         "x": [
          203
         ],
         "xaxis": "x",
         "y": [
          1098.34
         ],
         "yaxis": "y"
        },
        {
         "hovertemplate": "product_category=technical books<br>total_products_sold=%{x}<br>average_price=%{y}<extra></extra>",
         "legendgroup": "technical books",
         "marker": {
          "color": "#EF553B",
          "symbol": "circle"
         },
         "mode": "markers",
         "name": "technical books",
         "orientation": "v",
         "showlegend": true,
         "type": "scatter",
         "x": [
          267
         ],
         "xaxis": "x",
         "y": [
          71.52
         ],
         "yaxis": "y"
        },
        {
         "hovertemplate": "product_category=babies<br>total_products_sold=%{x}<br>average_price=%{y}<extra></extra>",
         "legendgroup": "babies",
         "marker": {
          "color": "#00cc96",
          "symbol": "circle"
         },
         "mode": "markers",
         "name": "babies",
         "orientation": "v",
         "showlegend": true,
         "type": "scatter",
         "x": [
          3065
         ],
         "xaxis": "x",
         "y": [
          134.34
         ],
         "yaxis": "y"
        },
        {
         "hovertemplate": "product_category=musical instruments<br>total_products_sold=%{x}<br>average_price=%{y}<extra></extra>",
         "legendgroup": "musical instruments",
         "marker": {
          "color": "#ab63fa",
          "symbol": "circle"
         },
         "mode": "markers",
         "name": "musical instruments",
         "orientation": "v",
         "showlegend": true,
         "type": "scatter",
         "x": [
          680
         ],
         "xaxis": "x",
         "y": [
          281.62
         ],
         "yaxis": "y"
        },
        {
         "hovertemplate": "product_category=Furniture office<br>total_products_sold=%{x}<br>average_price=%{y}<extra></extra>",
         "legendgroup": "Furniture office",
         "marker": {
          "color": "#FFA15A",
          "symbol": "circle"
         },
         "mode": "markers",
         "name": "Furniture office",
         "orientation": "v",
         "showlegend": true,
         "type": "scatter",
         "x": [
          1691
         ],
         "xaxis": "x",
         "y": [
          162.01
         ],
         "yaxis": "y"
        },
        {
         "hovertemplate": "product_category=Construction Tools Garden<br>total_products_sold=%{x}<br>average_price=%{y}<extra></extra>",
         "legendgroup": "Construction Tools Garden",
         "marker": {
          "color": "#19d3f3",
          "symbol": "circle"
         },
         "mode": "markers",
         "name": "Construction Tools Garden",
         "orientation": "v",
         "showlegend": true,
         "type": "scatter",
         "x": [
          238
         ],
         "xaxis": "x",
         "y": [
          108.05
         ],
         "yaxis": "y"
        },
        {
         "hovertemplate": "product_category=House comfort<br>total_products_sold=%{x}<br>average_price=%{y}<extra></extra>",
         "legendgroup": "House comfort",
         "marker": {
          "color": "#FF6692",
          "symbol": "circle"
         },
         "mode": "markers",
         "name": "House comfort",
         "orientation": "v",
         "showlegend": true,
         "type": "scatter",
         "x": [
          434
         ],
         "xaxis": "x",
         "y": [
          134.96
         ],
         "yaxis": "y"
        },
        {
         "hovertemplate": "product_category=drinks<br>total_products_sold=%{x}<br>average_price=%{y}<extra></extra>",
         "legendgroup": "drinks",
         "marker": {
          "color": "#B6E880",
          "symbol": "circle"
         },
         "mode": "markers",
         "name": "drinks",
         "orientation": "v",
         "showlegend": true,
         "type": "scatter",
         "x": [
          379
         ],
         "xaxis": "x",
         "y": [
          59.18
         ],
         "yaxis": "y"
        },
        {
         "hovertemplate": "product_category=Arts and Crafts<br>total_products_sold=%{x}<br>average_price=%{y}<extra></extra>",
         "legendgroup": "Arts and Crafts",
         "marker": {
          "color": "#FF97FF",
          "symbol": "circle"
         },
         "mode": "markers",
         "name": "Arts and Crafts",
         "orientation": "v",
         "showlegend": true,
         "type": "scatter",
         "x": [
          24
         ],
         "xaxis": "x",
         "y": [
          75.58
         ],
         "yaxis": "y"
        },
        {
         "hovertemplate": "product_category=Industry Commerce and Business<br>total_products_sold=%{x}<br>average_price=%{y}<extra></extra>",
         "legendgroup": "Industry Commerce and Business",
         "marker": {
          "color": "#FECB52",
          "symbol": "circle"
         },
         "mode": "markers",
         "name": "Industry Commerce and Business",
         "orientation": "v",
         "showlegend": true,
         "type": "scatter",
         "x": [
          268
         ],
         "xaxis": "x",
         "y": [
          148.02
         ],
         "yaxis": "y"
        },
        {
         "hovertemplate": "product_category=Casa Construcao<br>total_products_sold=%{x}<br>average_price=%{y}<extra></extra>",
         "legendgroup": "Casa Construcao",
         "marker": {
          "color": "#636efa",
          "symbol": "circle"
         },
         "mode": "markers",
         "name": "Casa Construcao",
         "orientation": "v",
         "showlegend": true,
         "type": "scatter",
         "x": [
          604
         ],
         "xaxis": "x",
         "y": [
          137.56
         ],
         "yaxis": "y"
        },
        {
         "hovertemplate": "product_category=foods<br>total_products_sold=%{x}<br>average_price=%{y}<extra></extra>",
         "legendgroup": "foods",
         "marker": {
          "color": "#EF553B",
          "symbol": "circle"
         },
         "mode": "markers",
         "name": "foods",
         "orientation": "v",
         "showlegend": true,
         "type": "scatter",
         "x": [
          510
         ],
         "xaxis": "x",
         "y": [
          57.63
         ],
         "yaxis": "y"
        },
        {
         "hovertemplate": "product_category=Construction Tools Illumination<br>total_products_sold=%{x}<br>average_price=%{y}<extra></extra>",
         "legendgroup": "Construction Tools Illumination",
         "marker": {
          "color": "#00cc96",
          "symbol": "circle"
         },
         "mode": "markers",
         "name": "Construction Tools Illumination",
         "orientation": "v",
         "showlegend": true,
         "type": "scatter",
         "x": [
          304
         ],
         "xaxis": "x",
         "y": [
          135.13
         ],
         "yaxis": "y"
        },
        {
         "hovertemplate": "product_category=Construction Tools Tools<br>total_products_sold=%{x}<br>average_price=%{y}<extra></extra>",
         "legendgroup": "Construction Tools Tools",
         "marker": {
          "color": "#ab63fa",
          "symbol": "circle"
         },
         "mode": "markers",
         "name": "Construction Tools Tools",
         "orientation": "v",
         "showlegend": true,
         "type": "scatter",
         "x": [
          103
         ],
         "xaxis": "x",
         "y": [
          154.41
         ],
         "yaxis": "y"
        },
        {
         "hovertemplate": "product_category=Fashion Calcados<br>total_products_sold=%{x}<br>average_price=%{y}<extra></extra>",
         "legendgroup": "Fashion Calcados",
         "marker": {
          "color": "#FFA15A",
          "symbol": "circle"
         },
         "mode": "markers",
         "name": "Fashion Calcados",
         "orientation": "v",
         "showlegend": true,
         "type": "scatter",
         "x": [
          262
         ],
         "xaxis": "x",
         "y": [
          89.93
         ],
         "yaxis": "y"
        },
        {
         "hovertemplate": "product_category=song<br>total_products_sold=%{x}<br>average_price=%{y}<extra></extra>",
         "legendgroup": "song",
         "marker": {
          "color": "#19d3f3",
          "symbol": "circle"
         },
         "mode": "markers",
         "name": "song",
         "orientation": "v",
         "showlegend": true,
         "type": "scatter",
         "x": [
          38
         ],
         "xaxis": "x",
         "y": [
          158.8
         ],
         "yaxis": "y"
        },
        {
         "hovertemplate": "product_category=Market Place<br>total_products_sold=%{x}<br>average_price=%{y}<extra></extra>",
         "legendgroup": "Market Place",
         "marker": {
          "color": "#FF6692",
          "symbol": "circle"
         },
         "mode": "markers",
         "name": "Market Place",
         "orientation": "v",
         "showlegend": true,
         "type": "scatter",
         "x": [
          311
         ],
         "xaxis": "x",
         "y": [
          91.25
         ],
         "yaxis": "y"
        },
        {
         "hovertemplate": "product_category=Drink foods<br>total_products_sold=%{x}<br>average_price=%{y}<extra></extra>",
         "legendgroup": "Drink foods",
         "marker": {
          "color": "#B6E880",
          "symbol": "circle"
         },
         "mode": "markers",
         "name": "Drink foods",
         "orientation": "v",
         "showlegend": true,
         "type": "scatter",
         "x": [
          278
         ],
         "xaxis": "x",
         "y": [
          54.6
         ],
         "yaxis": "y"
        },
        {
         "hovertemplate": "product_category=Furniture Kitchen Service Area Dinner and Garden<br>total_products_sold=%{x}<br>average_price=%{y}<extra></extra>",
         "legendgroup": "Furniture Kitchen Service Area Dinner and Garden",
         "marker": {
          "color": "#FF97FF",
          "symbol": "circle"
         },
         "mode": "markers",
         "name": "Furniture Kitchen Service Area Dinner and Garden",
         "orientation": "v",
         "showlegend": true,
         "type": "scatter",
         "x": [
          281
         ],
         "xaxis": "x",
         "y": [
          164.87
         ],
         "yaxis": "y"
        },
        {
         "hovertemplate": "product_category=climatization<br>total_products_sold=%{x}<br>average_price=%{y}<extra></extra>",
         "legendgroup": "climatization",
         "marker": {
          "color": "#FECB52",
          "symbol": "circle"
         },
         "mode": "markers",
         "name": "climatization",
         "orientation": "v",
         "showlegend": true,
         "type": "scatter",
         "x": [
          297
         ],
         "xaxis": "x",
         "y": [
          185.27
         ],
         "yaxis": "y"
        },
        {
         "hovertemplate": "product_category=electrostile<br>total_products_sold=%{x}<br>average_price=%{y}<extra></extra>",
         "legendgroup": "electrostile",
         "marker": {
          "color": "#636efa",
          "symbol": "circle"
         },
         "mode": "markers",
         "name": "electrostile",
         "orientation": "v",
         "showlegend": true,
         "type": "scatter",
         "x": [
          679
         ],
         "xaxis": "x",
         "y": [
          280.78
         ],
         "yaxis": "y"
        },
        {
         "hovertemplate": "product_category=audio<br>total_products_sold=%{x}<br>average_price=%{y}<extra></extra>",
         "legendgroup": "audio",
         "marker": {
          "color": "#EF553B",
          "symbol": "circle"
         },
         "mode": "markers",
         "name": "audio",
         "orientation": "v",
         "showlegend": true,
         "type": "scatter",
         "x": [
          364
         ],
         "xaxis": "x",
         "y": [
          139.25
         ],
         "yaxis": "y"
        },
        {
         "hovertemplate": "product_category=Art<br>total_products_sold=%{x}<br>average_price=%{y}<extra></extra>",
         "legendgroup": "Art",
         "marker": {
          "color": "#00cc96",
          "symbol": "circle"
         },
         "mode": "markers",
         "name": "Art",
         "orientation": "v",
         "showlegend": true,
         "type": "scatter",
         "x": [
          209
         ],
         "xaxis": "x",
         "y": [
          115.8
         ],
         "yaxis": "y"
        },
        {
         "hovertemplate": "product_category=Agro Industria e Comercio<br>total_products_sold=%{x}<br>average_price=%{y}<extra></extra>",
         "legendgroup": "Agro Industria e Comercio",
         "marker": {
          "color": "#ab63fa",
          "symbol": "circle"
         },
         "mode": "markers",
         "name": "Agro Industria e Comercio",
         "orientation": "v",
         "showlegend": true,
         "type": "scatter",
         "x": [
          212
         ],
         "xaxis": "x",
         "y": [
          342.12
         ],
         "yaxis": "y"
        },
        {
         "hovertemplate": "product_category=IMAGE IMPORT TABLETS<br>total_products_sold=%{x}<br>average_price=%{y}<extra></extra>",
         "legendgroup": "IMAGE IMPORT TABLETS",
         "marker": {
          "color": "#FFA15A",
          "symbol": "circle"
         },
         "mode": "markers",
         "name": "IMAGE IMPORT TABLETS",
         "orientation": "v",
         "showlegend": true,
         "type": "scatter",
         "x": [
          83
         ],
         "xaxis": "x",
         "y": [
          90.7
         ],
         "yaxis": "y"
        },
        {
         "hovertemplate": "product_category=Fashion Men's Clothing<br>total_products_sold=%{x}<br>average_price=%{y}<extra></extra>",
         "legendgroup": "Fashion Men's Clothing",
         "marker": {
          "color": "#19d3f3",
          "symbol": "circle"
         },
         "mode": "markers",
         "name": "Fashion Men's Clothing",
         "orientation": "v",
         "showlegend": true,
         "type": "scatter",
         "x": [
          132
         ],
         "xaxis": "x",
         "y": [
          81.8
         ],
         "yaxis": "y"
        },
        {
         "hovertemplate": "product_category=Christmas articles<br>total_products_sold=%{x}<br>average_price=%{y}<extra></extra>",
         "legendgroup": "Christmas articles",
         "marker": {
          "color": "#FF6692",
          "symbol": "circle"
         },
         "mode": "markers",
         "name": "Christmas articles",
         "orientation": "v",
         "showlegend": true,
         "type": "scatter",
         "x": [
          153
         ],
         "xaxis": "x",
         "y": [
          57.52
         ],
         "yaxis": "y"
        },
        {
         "hovertemplate": "product_category=Furniture<br>total_products_sold=%{x}<br>average_price=%{y}<extra></extra>",
         "legendgroup": "Furniture",
         "marker": {
          "color": "#B6E880",
          "symbol": "circle"
         },
         "mode": "markers",
         "name": "Furniture",
         "orientation": "v",
         "showlegend": true,
         "type": "scatter",
         "x": [
          109
         ],
         "xaxis": "x",
         "y": [
          183.75
         ],
         "yaxis": "y"
        },
        {
         "hovertemplate": "product_category=La Cuisine<br>total_products_sold=%{x}<br>average_price=%{y}<extra></extra>",
         "legendgroup": "La Cuisine",
         "marker": {
          "color": "#FF97FF",
          "symbol": "circle"
         },
         "mode": "markers",
         "name": "La Cuisine",
         "orientation": "v",
         "showlegend": true,
         "type": "scatter",
         "x": [
          14
         ],
         "xaxis": "x",
         "y": [
          146.78
         ],
         "yaxis": "y"
        },
        {
         "hovertemplate": "product_category=CONSTRUCTION SECURITY TOOLS<br>total_products_sold=%{x}<br>average_price=%{y}<extra></extra>",
         "legendgroup": "CONSTRUCTION SECURITY TOOLS",
         "marker": {
          "color": "#FECB52",
          "symbol": "circle"
         },
         "mode": "markers",
         "name": "CONSTRUCTION SECURITY TOOLS",
         "orientation": "v",
         "showlegend": true,
         "type": "scatter",
         "x": [
          194
         ],
         "xaxis": "x",
         "y": [
          208.99
         ],
         "yaxis": "y"
        },
        {
         "hovertemplate": "product_category=party articles<br>total_products_sold=%{x}<br>average_price=%{y}<extra></extra>",
         "legendgroup": "party articles",
         "marker": {
          "color": "#636efa",
          "symbol": "circle"
         },
         "mode": "markers",
         "name": "party articles",
         "orientation": "v",
         "showlegend": true,
         "type": "scatter",
         "x": [
          43
         ],
         "xaxis": "x",
         "y": [
          104.31
         ],
         "yaxis": "y"
        },
        {
         "hovertemplate": "product_category=Blu Ray DVDs<br>total_products_sold=%{x}<br>average_price=%{y}<extra></extra>",
         "legendgroup": "Blu Ray DVDs",
         "marker": {
          "color": "#EF553B",
          "symbol": "circle"
         },
         "mode": "markers",
         "name": "Blu Ray DVDs",
         "orientation": "v",
         "showlegend": true,
         "type": "scatter",
         "x": [
          64
         ],
         "xaxis": "x",
         "y": [
          93.74
         ],
         "yaxis": "y"
        },
        {
         "hovertemplate": "product_category=PC Gamer<br>total_products_sold=%{x}<br>average_price=%{y}<extra></extra>",
         "legendgroup": "PC Gamer",
         "marker": {
          "color": "#00cc96",
          "symbol": "circle"
         },
         "mode": "markers",
         "name": "PC Gamer",
         "orientation": "v",
         "showlegend": true,
         "type": "scatter",
         "x": [
          9
         ],
         "xaxis": "x",
         "y": [
          171.77
         ],
         "yaxis": "y"
        },
        {
         "hovertemplate": "product_category=Imported books<br>total_products_sold=%{x}<br>average_price=%{y}<extra></extra>",
         "legendgroup": "Imported books",
         "marker": {
          "color": "#ab63fa",
          "symbol": "circle"
         },
         "mode": "markers",
         "name": "Imported books",
         "orientation": "v",
         "showlegend": true,
         "type": "scatter",
         "x": [
          60
         ],
         "xaxis": "x",
         "y": [
          77.33
         ],
         "yaxis": "y"
        },
        {
         "hovertemplate": "product_category=Fashion Sport<br>total_products_sold=%{x}<br>average_price=%{y}<extra></extra>",
         "legendgroup": "Fashion Sport",
         "marker": {
          "color": "#FFA15A",
          "symbol": "circle"
         },
         "mode": "markers",
         "name": "Fashion Sport",
         "orientation": "v",
         "showlegend": true,
         "type": "scatter",
         "x": [
          30
         ],
         "xaxis": "x",
         "y": [
          70.65
         ],
         "yaxis": "y"
        },
        {
         "hovertemplate": "product_category=Fashion Children's Clothing<br>total_products_sold=%{x}<br>average_price=%{y}<extra></extra>",
         "legendgroup": "Fashion Children's Clothing",
         "marker": {
          "color": "#19d3f3",
          "symbol": "circle"
         },
         "mode": "markers",
         "name": "Fashion Children's Clothing",
         "orientation": "v",
         "showlegend": true,
         "type": "scatter",
         "x": [
          8
         ],
         "xaxis": "x",
         "y": [
          71.23
         ],
         "yaxis": "y"
        },
        {
         "hovertemplate": "product_category=Hygiene diapers<br>total_products_sold=%{x}<br>average_price=%{y}<extra></extra>",
         "legendgroup": "Hygiene diapers",
         "marker": {
          "color": "#FF6692",
          "symbol": "circle"
         },
         "mode": "markers",
         "name": "Hygiene diapers",
         "orientation": "v",
         "showlegend": true,
         "type": "scatter",
         "x": [
          39
         ],
         "xaxis": "x",
         "y": [
          40.19
         ],
         "yaxis": "y"
        },
        {
         "hovertemplate": "product_category=cine photo<br>total_products_sold=%{x}<br>average_price=%{y}<extra></extra>",
         "legendgroup": "cine photo",
         "marker": {
          "color": "#B6E880",
          "symbol": "circle"
         },
         "mode": "markers",
         "name": "cine photo",
         "orientation": "v",
         "showlegend": true,
         "type": "scatter",
         "x": [
          72
         ],
         "xaxis": "x",
         "y": [
          96.3
         ],
         "yaxis": "y"
        },
        {
         "hovertemplate": "product_category=insurance and services<br>total_products_sold=%{x}<br>average_price=%{y}<extra></extra>",
         "legendgroup": "insurance and services",
         "marker": {
          "color": "#FF97FF",
          "symbol": "circle"
         },
         "mode": "markers",
         "name": "insurance and services",
         "orientation": "v",
         "showlegend": true,
         "type": "scatter",
         "x": [
          2
         ],
         "xaxis": "x",
         "y": [
          141.64
         ],
         "yaxis": "y"
        },
        {
         "hovertemplate": "product_category=flowers<br>total_products_sold=%{x}<br>average_price=%{y}<extra></extra>",
         "legendgroup": "flowers",
         "marker": {
          "color": "#FECB52",
          "symbol": "circle"
         },
         "mode": "markers",
         "name": "flowers",
         "orientation": "v",
         "showlegend": true,
         "type": "scatter",
         "x": [
          33
         ],
         "xaxis": "x",
         "y": [
          33.64
         ],
         "yaxis": "y"
        },
        {
         "hovertemplate": "product_category=Kitchen portable and food coach<br>total_products_sold=%{x}<br>average_price=%{y}<extra></extra>",
         "legendgroup": "Kitchen portable and food coach",
         "marker": {
          "color": "#636efa",
          "symbol": "circle"
         },
         "mode": "markers",
         "name": "Kitchen portable and food coach",
         "orientation": "v",
         "showlegend": true,
         "type": "scatter",
         "x": [
          15
         ],
         "xaxis": "x",
         "y": [
          264.57
         ],
         "yaxis": "y"
        },
        {
         "hovertemplate": "product_category=House Comfort 2<br>total_products_sold=%{x}<br>average_price=%{y}<extra></extra>",
         "legendgroup": "House Comfort 2",
         "marker": {
          "color": "#EF553B",
          "symbol": "circle"
         },
         "mode": "markers",
         "name": "House Comfort 2",
         "orientation": "v",
         "showlegend": true,
         "type": "scatter",
         "x": [
          30
         ],
         "xaxis": "x",
         "y": [
          25.34
         ],
         "yaxis": "y"
        },
        {
         "hovertemplate": "product_category=CITTE AND UPHACK FURNITURE<br>total_products_sold=%{x}<br>average_price=%{y}<extra></extra>",
         "legendgroup": "CITTE AND UPHACK FURNITURE",
         "marker": {
          "color": "#00cc96",
          "symbol": "circle"
         },
         "mode": "markers",
         "name": "CITTE AND UPHACK FURNITURE",
         "orientation": "v",
         "showlegend": true,
         "type": "scatter",
         "x": [
          38
         ],
         "xaxis": "x",
         "y": [
          114.95
         ],
         "yaxis": "y"
        },
        {
         "hovertemplate": "product_category=cds music dvds<br>total_products_sold=%{x}<br>average_price=%{y}<extra></extra>",
         "legendgroup": "cds music dvds",
         "marker": {
          "color": "#ab63fa",
          "symbol": "circle"
         },
         "mode": "markers",
         "name": "cds music dvds",
         "orientation": "v",
         "showlegend": true,
         "type": "scatter",
         "x": [
          14
         ],
         "xaxis": "x",
         "y": [
          52.14
         ],
         "yaxis": "y"
        }
       ],
       "layout": {
        "legend": {
         "title": {
          "text": "product_category"
         },
         "tracegroupgap": 0
        },
        "template": {
         "data": {
          "bar": [
           {
            "error_x": {
             "color": "#2a3f5f"
            },
            "error_y": {
             "color": "#2a3f5f"
            },
            "marker": {
             "line": {
              "color": "#E5ECF6",
              "width": 0.5
             },
             "pattern": {
              "fillmode": "overlay",
              "size": 10,
              "solidity": 0.2
             }
            },
            "type": "bar"
           }
          ],
          "barpolar": [
           {
            "marker": {
             "line": {
              "color": "#E5ECF6",
              "width": 0.5
             },
             "pattern": {
              "fillmode": "overlay",
              "size": 10,
              "solidity": 0.2
             }
            },
            "type": "barpolar"
           }
          ],
          "carpet": [
           {
            "aaxis": {
             "endlinecolor": "#2a3f5f",
             "gridcolor": "white",
             "linecolor": "white",
             "minorgridcolor": "white",
             "startlinecolor": "#2a3f5f"
            },
            "baxis": {
             "endlinecolor": "#2a3f5f",
             "gridcolor": "white",
             "linecolor": "white",
             "minorgridcolor": "white",
             "startlinecolor": "#2a3f5f"
            },
            "type": "carpet"
           }
          ],
          "choropleth": [
           {
            "colorbar": {
             "outlinewidth": 0,
             "ticks": ""
            },
            "type": "choropleth"
           }
          ],
          "contour": [
           {
            "colorbar": {
             "outlinewidth": 0,
             "ticks": ""
            },
            "colorscale": [
             [
              0,
              "#0d0887"
             ],
             [
              0.1111111111111111,
              "#46039f"
             ],
             [
              0.2222222222222222,
              "#7201a8"
             ],
             [
              0.3333333333333333,
              "#9c179e"
             ],
             [
              0.4444444444444444,
              "#bd3786"
             ],
             [
              0.5555555555555556,
              "#d8576b"
             ],
             [
              0.6666666666666666,
              "#ed7953"
             ],
             [
              0.7777777777777778,
              "#fb9f3a"
             ],
             [
              0.8888888888888888,
              "#fdca26"
             ],
             [
              1,
              "#f0f921"
             ]
            ],
            "type": "contour"
           }
          ],
          "contourcarpet": [
           {
            "colorbar": {
             "outlinewidth": 0,
             "ticks": ""
            },
            "type": "contourcarpet"
           }
          ],
          "heatmap": [
           {
            "colorbar": {
             "outlinewidth": 0,
             "ticks": ""
            },
            "colorscale": [
             [
              0,
              "#0d0887"
             ],
             [
              0.1111111111111111,
              "#46039f"
             ],
             [
              0.2222222222222222,
              "#7201a8"
             ],
             [
              0.3333333333333333,
              "#9c179e"
             ],
             [
              0.4444444444444444,
              "#bd3786"
             ],
             [
              0.5555555555555556,
              "#d8576b"
             ],
             [
              0.6666666666666666,
              "#ed7953"
             ],
             [
              0.7777777777777778,
              "#fb9f3a"
             ],
             [
              0.8888888888888888,
              "#fdca26"
             ],
             [
              1,
              "#f0f921"
             ]
            ],
            "type": "heatmap"
           }
          ],
          "heatmapgl": [
           {
            "colorbar": {
             "outlinewidth": 0,
             "ticks": ""
            },
            "colorscale": [
             [
              0,
              "#0d0887"
             ],
             [
              0.1111111111111111,
              "#46039f"
             ],
             [
              0.2222222222222222,
              "#7201a8"
             ],
             [
              0.3333333333333333,
              "#9c179e"
             ],
             [
              0.4444444444444444,
              "#bd3786"
             ],
             [
              0.5555555555555556,
              "#d8576b"
             ],
             [
              0.6666666666666666,
              "#ed7953"
             ],
             [
              0.7777777777777778,
              "#fb9f3a"
             ],
             [
              0.8888888888888888,
              "#fdca26"
             ],
             [
              1,
              "#f0f921"
             ]
            ],
            "type": "heatmapgl"
           }
          ],
          "histogram": [
           {
            "marker": {
             "pattern": {
              "fillmode": "overlay",
              "size": 10,
              "solidity": 0.2
             }
            },
            "type": "histogram"
           }
          ],
          "histogram2d": [
           {
            "colorbar": {
             "outlinewidth": 0,
             "ticks": ""
            },
            "colorscale": [
             [
              0,
              "#0d0887"
             ],
             [
              0.1111111111111111,
              "#46039f"
             ],
             [
              0.2222222222222222,
              "#7201a8"
             ],
             [
              0.3333333333333333,
              "#9c179e"
             ],
             [
              0.4444444444444444,
              "#bd3786"
             ],
             [
              0.5555555555555556,
              "#d8576b"
             ],
             [
              0.6666666666666666,
              "#ed7953"
             ],
             [
              0.7777777777777778,
              "#fb9f3a"
             ],
             [
              0.8888888888888888,
              "#fdca26"
             ],
             [
              1,
              "#f0f921"
             ]
            ],
            "type": "histogram2d"
           }
          ],
          "histogram2dcontour": [
           {
            "colorbar": {
             "outlinewidth": 0,
             "ticks": ""
            },
            "colorscale": [
             [
              0,
              "#0d0887"
             ],
             [
              0.1111111111111111,
              "#46039f"
             ],
             [
              0.2222222222222222,
              "#7201a8"
             ],
             [
              0.3333333333333333,
              "#9c179e"
             ],
             [
              0.4444444444444444,
              "#bd3786"
             ],
             [
              0.5555555555555556,
              "#d8576b"
             ],
             [
              0.6666666666666666,
              "#ed7953"
             ],
             [
              0.7777777777777778,
              "#fb9f3a"
             ],
             [
              0.8888888888888888,
              "#fdca26"
             ],
             [
              1,
              "#f0f921"
             ]
            ],
            "type": "histogram2dcontour"
           }
          ],
          "mesh3d": [
           {
            "colorbar": {
             "outlinewidth": 0,
             "ticks": ""
            },
            "type": "mesh3d"
           }
          ],
          "parcoords": [
           {
            "line": {
             "colorbar": {
              "outlinewidth": 0,
              "ticks": ""
             }
            },
            "type": "parcoords"
           }
          ],
          "pie": [
           {
            "automargin": true,
            "type": "pie"
           }
          ],
          "scatter": [
           {
            "fillpattern": {
             "fillmode": "overlay",
             "size": 10,
             "solidity": 0.2
            },
            "type": "scatter"
           }
          ],
          "scatter3d": [
           {
            "line": {
             "colorbar": {
              "outlinewidth": 0,
              "ticks": ""
             }
            },
            "marker": {
             "colorbar": {
              "outlinewidth": 0,
              "ticks": ""
             }
            },
            "type": "scatter3d"
           }
          ],
          "scattercarpet": [
           {
            "marker": {
             "colorbar": {
              "outlinewidth": 0,
              "ticks": ""
             }
            },
            "type": "scattercarpet"
           }
          ],
          "scattergeo": [
           {
            "marker": {
             "colorbar": {
              "outlinewidth": 0,
              "ticks": ""
             }
            },
            "type": "scattergeo"
           }
          ],
          "scattergl": [
           {
            "marker": {
             "colorbar": {
              "outlinewidth": 0,
              "ticks": ""
             }
            },
            "type": "scattergl"
           }
          ],
          "scattermapbox": [
           {
            "marker": {
             "colorbar": {
              "outlinewidth": 0,
              "ticks": ""
             }
            },
            "type": "scattermapbox"
           }
          ],
          "scatterpolar": [
           {
            "marker": {
             "colorbar": {
              "outlinewidth": 0,
              "ticks": ""
             }
            },
            "type": "scatterpolar"
           }
          ],
          "scatterpolargl": [
           {
            "marker": {
             "colorbar": {
              "outlinewidth": 0,
              "ticks": ""
             }
            },
            "type": "scatterpolargl"
           }
          ],
          "scatterternary": [
           {
            "marker": {
             "colorbar": {
              "outlinewidth": 0,
              "ticks": ""
             }
            },
            "type": "scatterternary"
           }
          ],
          "surface": [
           {
            "colorbar": {
             "outlinewidth": 0,
             "ticks": ""
            },
            "colorscale": [
             [
              0,
              "#0d0887"
             ],
             [
              0.1111111111111111,
              "#46039f"
             ],
             [
              0.2222222222222222,
              "#7201a8"
             ],
             [
              0.3333333333333333,
              "#9c179e"
             ],
             [
              0.4444444444444444,
              "#bd3786"
             ],
             [
              0.5555555555555556,
              "#d8576b"
             ],
             [
              0.6666666666666666,
              "#ed7953"
             ],
             [
              0.7777777777777778,
              "#fb9f3a"
             ],
             [
              0.8888888888888888,
              "#fdca26"
             ],
             [
              1,
              "#f0f921"
             ]
            ],
            "type": "surface"
           }
          ],
          "table": [
           {
            "cells": {
             "fill": {
              "color": "#EBF0F8"
             },
             "line": {
              "color": "white"
             }
            },
            "header": {
             "fill": {
              "color": "#C8D4E3"
             },
             "line": {
              "color": "white"
             }
            },
            "type": "table"
           }
          ]
         },
         "layout": {
          "annotationdefaults": {
           "arrowcolor": "#2a3f5f",
           "arrowhead": 0,
           "arrowwidth": 1
          },
          "autotypenumbers": "strict",
          "coloraxis": {
           "colorbar": {
            "outlinewidth": 0,
            "ticks": ""
           }
          },
          "colorscale": {
           "diverging": [
            [
             0,
             "#8e0152"
            ],
            [
             0.1,
             "#c51b7d"
            ],
            [
             0.2,
             "#de77ae"
            ],
            [
             0.3,
             "#f1b6da"
            ],
            [
             0.4,
             "#fde0ef"
            ],
            [
             0.5,
             "#f7f7f7"
            ],
            [
             0.6,
             "#e6f5d0"
            ],
            [
             0.7,
             "#b8e186"
            ],
            [
             0.8,
             "#7fbc41"
            ],
            [
             0.9,
             "#4d9221"
            ],
            [
             1,
             "#276419"
            ]
           ],
           "sequential": [
            [
             0,
             "#0d0887"
            ],
            [
             0.1111111111111111,
             "#46039f"
            ],
            [
             0.2222222222222222,
             "#7201a8"
            ],
            [
             0.3333333333333333,
             "#9c179e"
            ],
            [
             0.4444444444444444,
             "#bd3786"
            ],
            [
             0.5555555555555556,
             "#d8576b"
            ],
            [
             0.6666666666666666,
             "#ed7953"
            ],
            [
             0.7777777777777778,
             "#fb9f3a"
            ],
            [
             0.8888888888888888,
             "#fdca26"
            ],
            [
             1,
             "#f0f921"
            ]
           ],
           "sequentialminus": [
            [
             0,
             "#0d0887"
            ],
            [
             0.1111111111111111,
             "#46039f"
            ],
            [
             0.2222222222222222,
             "#7201a8"
            ],
            [
             0.3333333333333333,
             "#9c179e"
            ],
            [
             0.4444444444444444,
             "#bd3786"
            ],
            [
             0.5555555555555556,
             "#d8576b"
            ],
            [
             0.6666666666666666,
             "#ed7953"
            ],
            [
             0.7777777777777778,
             "#fb9f3a"
            ],
            [
             0.8888888888888888,
             "#fdca26"
            ],
            [
             1,
             "#f0f921"
            ]
           ]
          },
          "colorway": [
           "#636efa",
           "#EF553B",
           "#00cc96",
           "#ab63fa",
           "#FFA15A",
           "#19d3f3",
           "#FF6692",
           "#B6E880",
           "#FF97FF",
           "#FECB52"
          ],
          "font": {
           "color": "#2a3f5f"
          },
          "geo": {
           "bgcolor": "white",
           "lakecolor": "white",
           "landcolor": "#E5ECF6",
           "showlakes": true,
           "showland": true,
           "subunitcolor": "white"
          },
          "hoverlabel": {
           "align": "left"
          },
          "hovermode": "closest",
          "mapbox": {
           "style": "light"
          },
          "paper_bgcolor": "white",
          "plot_bgcolor": "#E5ECF6",
          "polar": {
           "angularaxis": {
            "gridcolor": "white",
            "linecolor": "white",
            "ticks": ""
           },
           "bgcolor": "#E5ECF6",
           "radialaxis": {
            "gridcolor": "white",
            "linecolor": "white",
            "ticks": ""
           }
          },
          "scene": {
           "xaxis": {
            "backgroundcolor": "#E5ECF6",
            "gridcolor": "white",
            "gridwidth": 2,
            "linecolor": "white",
            "showbackground": true,
            "ticks": "",
            "zerolinecolor": "white"
           },
           "yaxis": {
            "backgroundcolor": "#E5ECF6",
            "gridcolor": "white",
            "gridwidth": 2,
            "linecolor": "white",
            "showbackground": true,
            "ticks": "",
            "zerolinecolor": "white"
           },
           "zaxis": {
            "backgroundcolor": "#E5ECF6",
            "gridcolor": "white",
            "gridwidth": 2,
            "linecolor": "white",
            "showbackground": true,
            "ticks": "",
            "zerolinecolor": "white"
           }
          },
          "shapedefaults": {
           "line": {
            "color": "#2a3f5f"
           }
          },
          "ternary": {
           "aaxis": {
            "gridcolor": "white",
            "linecolor": "white",
            "ticks": ""
           },
           "baxis": {
            "gridcolor": "white",
            "linecolor": "white",
            "ticks": ""
           },
           "bgcolor": "#E5ECF6",
           "caxis": {
            "gridcolor": "white",
            "linecolor": "white",
            "ticks": ""
           }
          },
          "title": {
           "x": 0.05
          },
          "xaxis": {
           "automargin": true,
           "gridcolor": "white",
           "linecolor": "white",
           "ticks": "",
           "title": {
            "standoff": 15
           },
           "zerolinecolor": "white",
           "zerolinewidth": 2
          },
          "yaxis": {
           "automargin": true,
           "gridcolor": "white",
           "linecolor": "white",
           "ticks": "",
           "title": {
            "standoff": 15
           },
           "zerolinecolor": "white",
           "zerolinewidth": 2
          }
         }
        },
        "title": {
         "text": "Total products sold vs average price"
        },
        "xaxis": {
         "anchor": "y",
         "domain": [
          0,
          1
         ],
         "title": {
          "text": "total_products_sold"
         }
        },
        "yaxis": {
         "anchor": "x",
         "domain": [
          0,
          1
         ],
         "title": {
          "text": "average_price"
         }
        }
       }
      }
     },
     "metadata": {},
     "output_type": "display_data"
    }
   ],
   "source": [
    "px.scatter(df,x=\"total_products_sold\",y=\"average_price\",color=\"product_category\",title=\"Total products sold vs average price\")"
   ]
  },
  {
   "cell_type": "code",
   "execution_count": 21,
   "metadata": {},
   "outputs": [
    {
     "data": {
      "text/plain": [
       "array([[ 1.        , -0.10631514],\n",
       "       [-0.10631514,  1.        ]])"
      ]
     },
     "execution_count": 21,
     "metadata": {},
     "output_type": "execute_result"
    }
   ],
   "source": [
    "arr1=df['total_products_sold']\n",
    "arr2=df['average_price']\n",
    "np.corrcoef(arr1,arr2)"
   ]
  },
  {
   "cell_type": "markdown",
   "metadata": {},
   "source": [
    "####  Calculate the total revenue generated by each seller, and rank them by revenue."
   ]
  },
  {
   "cell_type": "code",
   "execution_count": 30,
   "metadata": {},
   "outputs": [
    {
     "data": {
      "text/html": [
       "<div>\n",
       "<style scoped>\n",
       "    .dataframe tbody tr th:only-of-type {\n",
       "        vertical-align: middle;\n",
       "    }\n",
       "\n",
       "    .dataframe tbody tr th {\n",
       "        vertical-align: top;\n",
       "    }\n",
       "\n",
       "    .dataframe thead th {\n",
       "        text-align: right;\n",
       "    }\n",
       "</style>\n",
       "<table border=\"1\" class=\"dataframe\">\n",
       "  <thead>\n",
       "    <tr style=\"text-align: right;\">\n",
       "      <th></th>\n",
       "      <th>seller_id</th>\n",
       "      <th>total_sales</th>\n",
       "      <th>rank</th>\n",
       "    </tr>\n",
       "  </thead>\n",
       "  <tbody>\n",
       "    <tr>\n",
       "      <th>0</th>\n",
       "      <td>7c67e1448b00f6e969d365cea6b010ab</td>\n",
       "      <td>507166.907302</td>\n",
       "      <td>1</td>\n",
       "    </tr>\n",
       "    <tr>\n",
       "      <th>1</th>\n",
       "      <td>1025f0e2d44d7041d6cf58b6550e0bfa</td>\n",
       "      <td>308222.039840</td>\n",
       "      <td>2</td>\n",
       "    </tr>\n",
       "    <tr>\n",
       "      <th>2</th>\n",
       "      <td>4a3ca9315b744ce9f8e9374361493884</td>\n",
       "      <td>301245.269765</td>\n",
       "      <td>3</td>\n",
       "    </tr>\n",
       "    <tr>\n",
       "      <th>3</th>\n",
       "      <td>1f50f920176fa81dab994f9023523100</td>\n",
       "      <td>290253.420128</td>\n",
       "      <td>4</td>\n",
       "    </tr>\n",
       "    <tr>\n",
       "      <th>4</th>\n",
       "      <td>53243585a1d6dc2643021fd1853d8905</td>\n",
       "      <td>284903.080498</td>\n",
       "      <td>5</td>\n",
       "    </tr>\n",
       "    <tr>\n",
       "      <th>...</th>\n",
       "      <td>...</td>\n",
       "      <td>...</td>\n",
       "      <td>...</td>\n",
       "    </tr>\n",
       "    <tr>\n",
       "      <th>3090</th>\n",
       "      <td>ad14615bdd492b01b0d97922e87cb87f</td>\n",
       "      <td>19.209999</td>\n",
       "      <td>3082</td>\n",
       "    </tr>\n",
       "    <tr>\n",
       "      <th>3091</th>\n",
       "      <td>702835e4b785b67a084280efca355756</td>\n",
       "      <td>18.559999</td>\n",
       "      <td>3083</td>\n",
       "    </tr>\n",
       "    <tr>\n",
       "      <th>3092</th>\n",
       "      <td>4965a7002cca77301c82d3f91b82e1a9</td>\n",
       "      <td>16.360001</td>\n",
       "      <td>3084</td>\n",
       "    </tr>\n",
       "    <tr>\n",
       "      <th>3093</th>\n",
       "      <td>77128dec4bec4878c37ab7d6169d6f26</td>\n",
       "      <td>15.220000</td>\n",
       "      <td>3085</td>\n",
       "    </tr>\n",
       "    <tr>\n",
       "      <th>3094</th>\n",
       "      <td>cf6f6bc4df3999b9c6440f124fb2f687</td>\n",
       "      <td>12.220000</td>\n",
       "      <td>3086</td>\n",
       "    </tr>\n",
       "  </tbody>\n",
       "</table>\n",
       "<p>3095 rows × 3 columns</p>\n",
       "</div>"
      ],
      "text/plain": [
       "                             seller_id    total_sales  rank\n",
       "0     7c67e1448b00f6e969d365cea6b010ab  507166.907302     1\n",
       "1     1025f0e2d44d7041d6cf58b6550e0bfa  308222.039840     2\n",
       "2     4a3ca9315b744ce9f8e9374361493884  301245.269765     3\n",
       "3     1f50f920176fa81dab994f9023523100  290253.420128     4\n",
       "4     53243585a1d6dc2643021fd1853d8905  284903.080498     5\n",
       "...                                ...            ...   ...\n",
       "3090  ad14615bdd492b01b0d97922e87cb87f      19.209999  3082\n",
       "3091  702835e4b785b67a084280efca355756      18.559999  3083\n",
       "3092  4965a7002cca77301c82d3f91b82e1a9      16.360001  3084\n",
       "3093  77128dec4bec4878c37ab7d6169d6f26      15.220000  3085\n",
       "3094  cf6f6bc4df3999b9c6440f124fb2f687      12.220000  3086\n",
       "\n",
       "[3095 rows x 3 columns]"
      ]
     },
     "execution_count": 30,
     "metadata": {},
     "output_type": "execute_result"
    }
   ],
   "source": [
    "query=\"\"\"select * , dense_rank() over( order by revenue desc) as rn from  (select o.seller_id , sum(p.payment_value) as revenue\n",
    "from order_items o join payments p on o.order_id=p.order_id\n",
    "group by o.seller_id) as a\"\"\"\n",
    "cur.execute(query)\n",
    "data=cur.fetchall()\n",
    "df=pd.DataFrame(data,columns=[\"seller_id\",\"total_sales\",'rank'])\n",
    "df"
   ]
  },
  {
   "cell_type": "markdown",
   "metadata": {},
   "source": [
    "####  Calculate the moving average of order values for each customer over their order history"
   ]
  },
  {
   "cell_type": "code",
   "execution_count": 32,
   "metadata": {},
   "outputs": [
    {
     "data": {
      "text/html": [
       "<div>\n",
       "<style scoped>\n",
       "    .dataframe tbody tr th:only-of-type {\n",
       "        vertical-align: middle;\n",
       "    }\n",
       "\n",
       "    .dataframe tbody tr th {\n",
       "        vertical-align: top;\n",
       "    }\n",
       "\n",
       "    .dataframe thead th {\n",
       "        text-align: right;\n",
       "    }\n",
       "</style>\n",
       "<table border=\"1\" class=\"dataframe\">\n",
       "  <thead>\n",
       "    <tr style=\"text-align: right;\">\n",
       "      <th></th>\n",
       "      <th>customer_id</th>\n",
       "      <th>order_purchase_timestamp</th>\n",
       "      <th>payment_value</th>\n",
       "      <th>moving_avg</th>\n",
       "    </tr>\n",
       "  </thead>\n",
       "  <tbody>\n",
       "    <tr>\n",
       "      <th>0</th>\n",
       "      <td>00012a2ce6f8dcda20d059ce98491703</td>\n",
       "      <td>2017-11-14 16:08:26</td>\n",
       "      <td>114.74</td>\n",
       "      <td>114.739998</td>\n",
       "    </tr>\n",
       "    <tr>\n",
       "      <th>1</th>\n",
       "      <td>000161a058600d5901f007fab4c27140</td>\n",
       "      <td>2017-07-16 09:40:32</td>\n",
       "      <td>67.41</td>\n",
       "      <td>67.410004</td>\n",
       "    </tr>\n",
       "    <tr>\n",
       "      <th>2</th>\n",
       "      <td>0001fd6190edaaf884bcaf3d49edf079</td>\n",
       "      <td>2017-02-28 11:06:43</td>\n",
       "      <td>195.42</td>\n",
       "      <td>195.419998</td>\n",
       "    </tr>\n",
       "    <tr>\n",
       "      <th>3</th>\n",
       "      <td>0002414f95344307404f0ace7a26f1d5</td>\n",
       "      <td>2017-08-16 13:09:20</td>\n",
       "      <td>179.35</td>\n",
       "      <td>179.350006</td>\n",
       "    </tr>\n",
       "    <tr>\n",
       "      <th>4</th>\n",
       "      <td>000379cdec625522490c315e70c7a9fb</td>\n",
       "      <td>2018-04-02 13:42:17</td>\n",
       "      <td>107.01</td>\n",
       "      <td>107.010002</td>\n",
       "    </tr>\n",
       "    <tr>\n",
       "      <th>...</th>\n",
       "      <td>...</td>\n",
       "      <td>...</td>\n",
       "      <td>...</td>\n",
       "      <td>...</td>\n",
       "    </tr>\n",
       "    <tr>\n",
       "      <th>103881</th>\n",
       "      <td>fffecc9f79fd8c764f843e9951b11341</td>\n",
       "      <td>2018-03-29 16:59:26</td>\n",
       "      <td>71.23</td>\n",
       "      <td>27.120001</td>\n",
       "    </tr>\n",
       "    <tr>\n",
       "      <th>103882</th>\n",
       "      <td>fffeda5b6d849fbd39689bb92087f431</td>\n",
       "      <td>2018-05-22 13:36:02</td>\n",
       "      <td>63.13</td>\n",
       "      <td>63.130001</td>\n",
       "    </tr>\n",
       "    <tr>\n",
       "      <th>103883</th>\n",
       "      <td>ffff42319e9b2d713724ae527742af25</td>\n",
       "      <td>2018-06-13 16:57:05</td>\n",
       "      <td>214.13</td>\n",
       "      <td>214.130005</td>\n",
       "    </tr>\n",
       "    <tr>\n",
       "      <th>103884</th>\n",
       "      <td>ffffa3172527f765de70084a7e53aae8</td>\n",
       "      <td>2017-09-02 11:53:32</td>\n",
       "      <td>45.50</td>\n",
       "      <td>45.500000</td>\n",
       "    </tr>\n",
       "    <tr>\n",
       "      <th>103885</th>\n",
       "      <td>ffffe8b65bbe3087b653a978c870db99</td>\n",
       "      <td>2017-09-29 14:07:03</td>\n",
       "      <td>18.37</td>\n",
       "      <td>18.370001</td>\n",
       "    </tr>\n",
       "  </tbody>\n",
       "</table>\n",
       "<p>103886 rows × 4 columns</p>\n",
       "</div>"
      ],
      "text/plain": [
       "                             customer_id order_purchase_timestamp  \\\n",
       "0       00012a2ce6f8dcda20d059ce98491703      2017-11-14 16:08:26   \n",
       "1       000161a058600d5901f007fab4c27140      2017-07-16 09:40:32   \n",
       "2       0001fd6190edaaf884bcaf3d49edf079      2017-02-28 11:06:43   \n",
       "3       0002414f95344307404f0ace7a26f1d5      2017-08-16 13:09:20   \n",
       "4       000379cdec625522490c315e70c7a9fb      2018-04-02 13:42:17   \n",
       "...                                  ...                      ...   \n",
       "103881  fffecc9f79fd8c764f843e9951b11341      2018-03-29 16:59:26   \n",
       "103882  fffeda5b6d849fbd39689bb92087f431      2018-05-22 13:36:02   \n",
       "103883  ffff42319e9b2d713724ae527742af25      2018-06-13 16:57:05   \n",
       "103884  ffffa3172527f765de70084a7e53aae8      2017-09-02 11:53:32   \n",
       "103885  ffffe8b65bbe3087b653a978c870db99      2017-09-29 14:07:03   \n",
       "\n",
       "        payment_value  moving_avg  \n",
       "0              114.74  114.739998  \n",
       "1               67.41   67.410004  \n",
       "2              195.42  195.419998  \n",
       "3              179.35  179.350006  \n",
       "4              107.01  107.010002  \n",
       "...               ...         ...  \n",
       "103881          71.23   27.120001  \n",
       "103882          63.13   63.130001  \n",
       "103883         214.13  214.130005  \n",
       "103884          45.50   45.500000  \n",
       "103885          18.37   18.370001  \n",
       "\n",
       "[103886 rows x 4 columns]"
      ]
     },
     "execution_count": 32,
     "metadata": {},
     "output_type": "execute_result"
    }
   ],
   "source": [
    "query=\"\"\"select customer_id, order_purchase_timestamp,payment_value,avg( payment_value) over(partition by customer_id order by order_purchase_timestamp rows between 2 preceding and current row ) as moving_avg\n",
    "from\n",
    "(select orders.customer_id, orders.order_purchase_timestamp , payments.payment_value \n",
    "from orders join payments on\n",
    "orders.order_id = payments.order_id) as a;\"\"\"\n",
    "cur.execute(query)\n",
    "data=cur.fetchall()\n",
    "df=pd.DataFrame(data,columns=[\"customer_id\",\"order_purchase_timestamp\",\"payment_value\",\"moving_avg\"])\n",
    "df"
   ]
  },
  {
   "cell_type": "markdown",
   "metadata": {},
   "source": [
    "#### Calculate the cumulative sales per month for each year"
   ]
  },
  {
   "cell_type": "code",
   "execution_count": 33,
   "metadata": {},
   "outputs": [
    {
     "data": {
      "text/html": [
       "<div>\n",
       "<style scoped>\n",
       "    .dataframe tbody tr th:only-of-type {\n",
       "        vertical-align: middle;\n",
       "    }\n",
       "\n",
       "    .dataframe tbody tr th {\n",
       "        vertical-align: top;\n",
       "    }\n",
       "\n",
       "    .dataframe thead th {\n",
       "        text-align: right;\n",
       "    }\n",
       "</style>\n",
       "<table border=\"1\" class=\"dataframe\">\n",
       "  <thead>\n",
       "    <tr style=\"text-align: right;\">\n",
       "      <th></th>\n",
       "      <th>years</th>\n",
       "      <th>months</th>\n",
       "      <th>payment</th>\n",
       "      <th>cumulative_sales</th>\n",
       "    </tr>\n",
       "  </thead>\n",
       "  <tbody>\n",
       "    <tr>\n",
       "      <th>0</th>\n",
       "      <td>2016</td>\n",
       "      <td>9</td>\n",
       "      <td>252.24</td>\n",
       "      <td>252.24</td>\n",
       "    </tr>\n",
       "    <tr>\n",
       "      <th>1</th>\n",
       "      <td>2016</td>\n",
       "      <td>10</td>\n",
       "      <td>59090.48</td>\n",
       "      <td>59342.72</td>\n",
       "    </tr>\n",
       "    <tr>\n",
       "      <th>2</th>\n",
       "      <td>2016</td>\n",
       "      <td>12</td>\n",
       "      <td>19.62</td>\n",
       "      <td>59362.34</td>\n",
       "    </tr>\n",
       "    <tr>\n",
       "      <th>3</th>\n",
       "      <td>2017</td>\n",
       "      <td>1</td>\n",
       "      <td>138488.04</td>\n",
       "      <td>197850.38</td>\n",
       "    </tr>\n",
       "    <tr>\n",
       "      <th>4</th>\n",
       "      <td>2017</td>\n",
       "      <td>2</td>\n",
       "      <td>291908.01</td>\n",
       "      <td>489758.39</td>\n",
       "    </tr>\n",
       "    <tr>\n",
       "      <th>5</th>\n",
       "      <td>2017</td>\n",
       "      <td>3</td>\n",
       "      <td>449863.60</td>\n",
       "      <td>939621.99</td>\n",
       "    </tr>\n",
       "    <tr>\n",
       "      <th>6</th>\n",
       "      <td>2017</td>\n",
       "      <td>4</td>\n",
       "      <td>417788.03</td>\n",
       "      <td>1357410.02</td>\n",
       "    </tr>\n",
       "    <tr>\n",
       "      <th>7</th>\n",
       "      <td>2017</td>\n",
       "      <td>5</td>\n",
       "      <td>592918.82</td>\n",
       "      <td>1950328.84</td>\n",
       "    </tr>\n",
       "    <tr>\n",
       "      <th>8</th>\n",
       "      <td>2017</td>\n",
       "      <td>6</td>\n",
       "      <td>511276.38</td>\n",
       "      <td>2461605.22</td>\n",
       "    </tr>\n",
       "    <tr>\n",
       "      <th>9</th>\n",
       "      <td>2017</td>\n",
       "      <td>7</td>\n",
       "      <td>592382.92</td>\n",
       "      <td>3053988.14</td>\n",
       "    </tr>\n",
       "    <tr>\n",
       "      <th>10</th>\n",
       "      <td>2017</td>\n",
       "      <td>8</td>\n",
       "      <td>674396.32</td>\n",
       "      <td>3728384.46</td>\n",
       "    </tr>\n",
       "    <tr>\n",
       "      <th>11</th>\n",
       "      <td>2017</td>\n",
       "      <td>9</td>\n",
       "      <td>727762.45</td>\n",
       "      <td>4456146.91</td>\n",
       "    </tr>\n",
       "    <tr>\n",
       "      <th>12</th>\n",
       "      <td>2017</td>\n",
       "      <td>10</td>\n",
       "      <td>779677.88</td>\n",
       "      <td>5235824.79</td>\n",
       "    </tr>\n",
       "    <tr>\n",
       "      <th>13</th>\n",
       "      <td>2017</td>\n",
       "      <td>11</td>\n",
       "      <td>1194882.80</td>\n",
       "      <td>6430707.59</td>\n",
       "    </tr>\n",
       "    <tr>\n",
       "      <th>14</th>\n",
       "      <td>2017</td>\n",
       "      <td>12</td>\n",
       "      <td>878401.48</td>\n",
       "      <td>7309109.07</td>\n",
       "    </tr>\n",
       "    <tr>\n",
       "      <th>15</th>\n",
       "      <td>2018</td>\n",
       "      <td>1</td>\n",
       "      <td>1115004.18</td>\n",
       "      <td>8424113.25</td>\n",
       "    </tr>\n",
       "    <tr>\n",
       "      <th>16</th>\n",
       "      <td>2018</td>\n",
       "      <td>2</td>\n",
       "      <td>992463.34</td>\n",
       "      <td>9416576.59</td>\n",
       "    </tr>\n",
       "    <tr>\n",
       "      <th>17</th>\n",
       "      <td>2018</td>\n",
       "      <td>3</td>\n",
       "      <td>1159652.12</td>\n",
       "      <td>10576228.71</td>\n",
       "    </tr>\n",
       "    <tr>\n",
       "      <th>18</th>\n",
       "      <td>2018</td>\n",
       "      <td>4</td>\n",
       "      <td>1160785.48</td>\n",
       "      <td>11737014.19</td>\n",
       "    </tr>\n",
       "    <tr>\n",
       "      <th>19</th>\n",
       "      <td>2018</td>\n",
       "      <td>5</td>\n",
       "      <td>1153982.15</td>\n",
       "      <td>12890996.34</td>\n",
       "    </tr>\n",
       "    <tr>\n",
       "      <th>20</th>\n",
       "      <td>2018</td>\n",
       "      <td>6</td>\n",
       "      <td>1023880.50</td>\n",
       "      <td>13914876.84</td>\n",
       "    </tr>\n",
       "    <tr>\n",
       "      <th>21</th>\n",
       "      <td>2018</td>\n",
       "      <td>7</td>\n",
       "      <td>1066540.75</td>\n",
       "      <td>14981417.59</td>\n",
       "    </tr>\n",
       "    <tr>\n",
       "      <th>22</th>\n",
       "      <td>2018</td>\n",
       "      <td>8</td>\n",
       "      <td>1022425.32</td>\n",
       "      <td>16003842.91</td>\n",
       "    </tr>\n",
       "    <tr>\n",
       "      <th>23</th>\n",
       "      <td>2018</td>\n",
       "      <td>9</td>\n",
       "      <td>4439.54</td>\n",
       "      <td>16008282.45</td>\n",
       "    </tr>\n",
       "    <tr>\n",
       "      <th>24</th>\n",
       "      <td>2018</td>\n",
       "      <td>10</td>\n",
       "      <td>589.67</td>\n",
       "      <td>16008872.12</td>\n",
       "    </tr>\n",
       "  </tbody>\n",
       "</table>\n",
       "</div>"
      ],
      "text/plain": [
       "    years  months     payment  cumulative_sales\n",
       "0    2016       9      252.24            252.24\n",
       "1    2016      10    59090.48          59342.72\n",
       "2    2016      12       19.62          59362.34\n",
       "3    2017       1   138488.04         197850.38\n",
       "4    2017       2   291908.01         489758.39\n",
       "5    2017       3   449863.60         939621.99\n",
       "6    2017       4   417788.03        1357410.02\n",
       "7    2017       5   592918.82        1950328.84\n",
       "8    2017       6   511276.38        2461605.22\n",
       "9    2017       7   592382.92        3053988.14\n",
       "10   2017       8   674396.32        3728384.46\n",
       "11   2017       9   727762.45        4456146.91\n",
       "12   2017      10   779677.88        5235824.79\n",
       "13   2017      11  1194882.80        6430707.59\n",
       "14   2017      12   878401.48        7309109.07\n",
       "15   2018       1  1115004.18        8424113.25\n",
       "16   2018       2   992463.34        9416576.59\n",
       "17   2018       3  1159652.12       10576228.71\n",
       "18   2018       4  1160785.48       11737014.19\n",
       "19   2018       5  1153982.15       12890996.34\n",
       "20   2018       6  1023880.50       13914876.84\n",
       "21   2018       7  1066540.75       14981417.59\n",
       "22   2018       8  1022425.32       16003842.91\n",
       "23   2018       9     4439.54       16008282.45\n",
       "24   2018      10      589.67       16008872.12"
      ]
     },
     "execution_count": 33,
     "metadata": {},
     "output_type": "execute_result"
    }
   ],
   "source": [
    "query=\"\"\"# cumulative sales\n",
    "select years, months ,payment,  sum(payment) over( order by years, months )  as cumulative_sales from\n",
    "(select year(o.order_purchase_timestamp) as years ,month(o.order_purchase_timestamp) as months , round(sum(p.payment_value) ,2) as payment\n",
    "from orders o join payments p on o.order_id=p.order_id\n",
    "group by years , months ) as a\n",
    "\"\"\"\n",
    "cur.execute(query)\n",
    "data=cur.fetchall()\n",
    "df=pd.DataFrame(data,columns=[\"years\",\"months\",\"payment\",\"cumulative_sales\"])\n",
    "df"
   ]
  },
  {
   "cell_type": "code",
   "execution_count": 34,
   "metadata": {},
   "outputs": [
    {
     "data": {
      "application/vnd.plotly.v1+json": {
       "config": {
        "plotlyServerURL": "https://plot.ly"
       },
       "data": [
        {
         "hovertemplate": "years=2016<br>months=%{x}<br>cumulative_sales=%{y}<extra></extra>",
         "legendgroup": "2016",
         "line": {
          "color": "#636efa",
          "dash": "solid"
         },
         "marker": {
          "symbol": "circle"
         },
         "mode": "lines",
         "name": "2016",
         "orientation": "v",
         "showlegend": true,
         "type": "scatter",
         "x": [
          9,
          10,
          12
         ],
         "xaxis": "x",
         "y": [
          252.24,
          59342.72,
          59362.340000000004
         ],
         "yaxis": "y"
        },
        {
         "hovertemplate": "years=2017<br>months=%{x}<br>cumulative_sales=%{y}<extra></extra>",
         "legendgroup": "2017",
         "line": {
          "color": "#EF553B",
          "dash": "solid"
         },
         "marker": {
          "symbol": "circle"
         },
         "mode": "lines",
         "name": "2017",
         "orientation": "v",
         "showlegend": true,
         "type": "scatter",
         "x": [
          1,
          2,
          3,
          4,
          5,
          6,
          7,
          8,
          9,
          10,
          11,
          12
         ],
         "xaxis": "x",
         "y": [
          197850.38,
          489758.39,
          939621.99,
          1357410.02,
          1950328.8399999999,
          2461605.2199999997,
          3053988.1399999997,
          3728384.4599999995,
          4456146.909999999,
          5235824.789999999,
          6430707.589999999,
          7309109.069999998
         ],
         "yaxis": "y"
        },
        {
         "hovertemplate": "years=2018<br>months=%{x}<br>cumulative_sales=%{y}<extra></extra>",
         "legendgroup": "2018",
         "line": {
          "color": "#00cc96",
          "dash": "solid"
         },
         "marker": {
          "symbol": "circle"
         },
         "mode": "lines",
         "name": "2018",
         "orientation": "v",
         "showlegend": true,
         "type": "scatter",
         "x": [
          1,
          2,
          3,
          4,
          5,
          6,
          7,
          8,
          9,
          10
         ],
         "xaxis": "x",
         "y": [
          8424113.249999998,
          9416576.589999998,
          10576228.709999997,
          11737014.189999998,
          12890996.339999998,
          13914876.839999998,
          14981417.589999998,
          16003842.909999998,
          16008282.449999997,
          16008872.119999997
         ],
         "yaxis": "y"
        }
       ],
       "layout": {
        "legend": {
         "title": {
          "text": "years"
         },
         "tracegroupgap": 0
        },
        "template": {
         "data": {
          "bar": [
           {
            "error_x": {
             "color": "#2a3f5f"
            },
            "error_y": {
             "color": "#2a3f5f"
            },
            "marker": {
             "line": {
              "color": "#E5ECF6",
              "width": 0.5
             },
             "pattern": {
              "fillmode": "overlay",
              "size": 10,
              "solidity": 0.2
             }
            },
            "type": "bar"
           }
          ],
          "barpolar": [
           {
            "marker": {
             "line": {
              "color": "#E5ECF6",
              "width": 0.5
             },
             "pattern": {
              "fillmode": "overlay",
              "size": 10,
              "solidity": 0.2
             }
            },
            "type": "barpolar"
           }
          ],
          "carpet": [
           {
            "aaxis": {
             "endlinecolor": "#2a3f5f",
             "gridcolor": "white",
             "linecolor": "white",
             "minorgridcolor": "white",
             "startlinecolor": "#2a3f5f"
            },
            "baxis": {
             "endlinecolor": "#2a3f5f",
             "gridcolor": "white",
             "linecolor": "white",
             "minorgridcolor": "white",
             "startlinecolor": "#2a3f5f"
            },
            "type": "carpet"
           }
          ],
          "choropleth": [
           {
            "colorbar": {
             "outlinewidth": 0,
             "ticks": ""
            },
            "type": "choropleth"
           }
          ],
          "contour": [
           {
            "colorbar": {
             "outlinewidth": 0,
             "ticks": ""
            },
            "colorscale": [
             [
              0,
              "#0d0887"
             ],
             [
              0.1111111111111111,
              "#46039f"
             ],
             [
              0.2222222222222222,
              "#7201a8"
             ],
             [
              0.3333333333333333,
              "#9c179e"
             ],
             [
              0.4444444444444444,
              "#bd3786"
             ],
             [
              0.5555555555555556,
              "#d8576b"
             ],
             [
              0.6666666666666666,
              "#ed7953"
             ],
             [
              0.7777777777777778,
              "#fb9f3a"
             ],
             [
              0.8888888888888888,
              "#fdca26"
             ],
             [
              1,
              "#f0f921"
             ]
            ],
            "type": "contour"
           }
          ],
          "contourcarpet": [
           {
            "colorbar": {
             "outlinewidth": 0,
             "ticks": ""
            },
            "type": "contourcarpet"
           }
          ],
          "heatmap": [
           {
            "colorbar": {
             "outlinewidth": 0,
             "ticks": ""
            },
            "colorscale": [
             [
              0,
              "#0d0887"
             ],
             [
              0.1111111111111111,
              "#46039f"
             ],
             [
              0.2222222222222222,
              "#7201a8"
             ],
             [
              0.3333333333333333,
              "#9c179e"
             ],
             [
              0.4444444444444444,
              "#bd3786"
             ],
             [
              0.5555555555555556,
              "#d8576b"
             ],
             [
              0.6666666666666666,
              "#ed7953"
             ],
             [
              0.7777777777777778,
              "#fb9f3a"
             ],
             [
              0.8888888888888888,
              "#fdca26"
             ],
             [
              1,
              "#f0f921"
             ]
            ],
            "type": "heatmap"
           }
          ],
          "heatmapgl": [
           {
            "colorbar": {
             "outlinewidth": 0,
             "ticks": ""
            },
            "colorscale": [
             [
              0,
              "#0d0887"
             ],
             [
              0.1111111111111111,
              "#46039f"
             ],
             [
              0.2222222222222222,
              "#7201a8"
             ],
             [
              0.3333333333333333,
              "#9c179e"
             ],
             [
              0.4444444444444444,
              "#bd3786"
             ],
             [
              0.5555555555555556,
              "#d8576b"
             ],
             [
              0.6666666666666666,
              "#ed7953"
             ],
             [
              0.7777777777777778,
              "#fb9f3a"
             ],
             [
              0.8888888888888888,
              "#fdca26"
             ],
             [
              1,
              "#f0f921"
             ]
            ],
            "type": "heatmapgl"
           }
          ],
          "histogram": [
           {
            "marker": {
             "pattern": {
              "fillmode": "overlay",
              "size": 10,
              "solidity": 0.2
             }
            },
            "type": "histogram"
           }
          ],
          "histogram2d": [
           {
            "colorbar": {
             "outlinewidth": 0,
             "ticks": ""
            },
            "colorscale": [
             [
              0,
              "#0d0887"
             ],
             [
              0.1111111111111111,
              "#46039f"
             ],
             [
              0.2222222222222222,
              "#7201a8"
             ],
             [
              0.3333333333333333,
              "#9c179e"
             ],
             [
              0.4444444444444444,
              "#bd3786"
             ],
             [
              0.5555555555555556,
              "#d8576b"
             ],
             [
              0.6666666666666666,
              "#ed7953"
             ],
             [
              0.7777777777777778,
              "#fb9f3a"
             ],
             [
              0.8888888888888888,
              "#fdca26"
             ],
             [
              1,
              "#f0f921"
             ]
            ],
            "type": "histogram2d"
           }
          ],
          "histogram2dcontour": [
           {
            "colorbar": {
             "outlinewidth": 0,
             "ticks": ""
            },
            "colorscale": [
             [
              0,
              "#0d0887"
             ],
             [
              0.1111111111111111,
              "#46039f"
             ],
             [
              0.2222222222222222,
              "#7201a8"
             ],
             [
              0.3333333333333333,
              "#9c179e"
             ],
             [
              0.4444444444444444,
              "#bd3786"
             ],
             [
              0.5555555555555556,
              "#d8576b"
             ],
             [
              0.6666666666666666,
              "#ed7953"
             ],
             [
              0.7777777777777778,
              "#fb9f3a"
             ],
             [
              0.8888888888888888,
              "#fdca26"
             ],
             [
              1,
              "#f0f921"
             ]
            ],
            "type": "histogram2dcontour"
           }
          ],
          "mesh3d": [
           {
            "colorbar": {
             "outlinewidth": 0,
             "ticks": ""
            },
            "type": "mesh3d"
           }
          ],
          "parcoords": [
           {
            "line": {
             "colorbar": {
              "outlinewidth": 0,
              "ticks": ""
             }
            },
            "type": "parcoords"
           }
          ],
          "pie": [
           {
            "automargin": true,
            "type": "pie"
           }
          ],
          "scatter": [
           {
            "fillpattern": {
             "fillmode": "overlay",
             "size": 10,
             "solidity": 0.2
            },
            "type": "scatter"
           }
          ],
          "scatter3d": [
           {
            "line": {
             "colorbar": {
              "outlinewidth": 0,
              "ticks": ""
             }
            },
            "marker": {
             "colorbar": {
              "outlinewidth": 0,
              "ticks": ""
             }
            },
            "type": "scatter3d"
           }
          ],
          "scattercarpet": [
           {
            "marker": {
             "colorbar": {
              "outlinewidth": 0,
              "ticks": ""
             }
            },
            "type": "scattercarpet"
           }
          ],
          "scattergeo": [
           {
            "marker": {
             "colorbar": {
              "outlinewidth": 0,
              "ticks": ""
             }
            },
            "type": "scattergeo"
           }
          ],
          "scattergl": [
           {
            "marker": {
             "colorbar": {
              "outlinewidth": 0,
              "ticks": ""
             }
            },
            "type": "scattergl"
           }
          ],
          "scattermapbox": [
           {
            "marker": {
             "colorbar": {
              "outlinewidth": 0,
              "ticks": ""
             }
            },
            "type": "scattermapbox"
           }
          ],
          "scatterpolar": [
           {
            "marker": {
             "colorbar": {
              "outlinewidth": 0,
              "ticks": ""
             }
            },
            "type": "scatterpolar"
           }
          ],
          "scatterpolargl": [
           {
            "marker": {
             "colorbar": {
              "outlinewidth": 0,
              "ticks": ""
             }
            },
            "type": "scatterpolargl"
           }
          ],
          "scatterternary": [
           {
            "marker": {
             "colorbar": {
              "outlinewidth": 0,
              "ticks": ""
             }
            },
            "type": "scatterternary"
           }
          ],
          "surface": [
           {
            "colorbar": {
             "outlinewidth": 0,
             "ticks": ""
            },
            "colorscale": [
             [
              0,
              "#0d0887"
             ],
             [
              0.1111111111111111,
              "#46039f"
             ],
             [
              0.2222222222222222,
              "#7201a8"
             ],
             [
              0.3333333333333333,
              "#9c179e"
             ],
             [
              0.4444444444444444,
              "#bd3786"
             ],
             [
              0.5555555555555556,
              "#d8576b"
             ],
             [
              0.6666666666666666,
              "#ed7953"
             ],
             [
              0.7777777777777778,
              "#fb9f3a"
             ],
             [
              0.8888888888888888,
              "#fdca26"
             ],
             [
              1,
              "#f0f921"
             ]
            ],
            "type": "surface"
           }
          ],
          "table": [
           {
            "cells": {
             "fill": {
              "color": "#EBF0F8"
             },
             "line": {
              "color": "white"
             }
            },
            "header": {
             "fill": {
              "color": "#C8D4E3"
             },
             "line": {
              "color": "white"
             }
            },
            "type": "table"
           }
          ]
         },
         "layout": {
          "annotationdefaults": {
           "arrowcolor": "#2a3f5f",
           "arrowhead": 0,
           "arrowwidth": 1
          },
          "autotypenumbers": "strict",
          "coloraxis": {
           "colorbar": {
            "outlinewidth": 0,
            "ticks": ""
           }
          },
          "colorscale": {
           "diverging": [
            [
             0,
             "#8e0152"
            ],
            [
             0.1,
             "#c51b7d"
            ],
            [
             0.2,
             "#de77ae"
            ],
            [
             0.3,
             "#f1b6da"
            ],
            [
             0.4,
             "#fde0ef"
            ],
            [
             0.5,
             "#f7f7f7"
            ],
            [
             0.6,
             "#e6f5d0"
            ],
            [
             0.7,
             "#b8e186"
            ],
            [
             0.8,
             "#7fbc41"
            ],
            [
             0.9,
             "#4d9221"
            ],
            [
             1,
             "#276419"
            ]
           ],
           "sequential": [
            [
             0,
             "#0d0887"
            ],
            [
             0.1111111111111111,
             "#46039f"
            ],
            [
             0.2222222222222222,
             "#7201a8"
            ],
            [
             0.3333333333333333,
             "#9c179e"
            ],
            [
             0.4444444444444444,
             "#bd3786"
            ],
            [
             0.5555555555555556,
             "#d8576b"
            ],
            [
             0.6666666666666666,
             "#ed7953"
            ],
            [
             0.7777777777777778,
             "#fb9f3a"
            ],
            [
             0.8888888888888888,
             "#fdca26"
            ],
            [
             1,
             "#f0f921"
            ]
           ],
           "sequentialminus": [
            [
             0,
             "#0d0887"
            ],
            [
             0.1111111111111111,
             "#46039f"
            ],
            [
             0.2222222222222222,
             "#7201a8"
            ],
            [
             0.3333333333333333,
             "#9c179e"
            ],
            [
             0.4444444444444444,
             "#bd3786"
            ],
            [
             0.5555555555555556,
             "#d8576b"
            ],
            [
             0.6666666666666666,
             "#ed7953"
            ],
            [
             0.7777777777777778,
             "#fb9f3a"
            ],
            [
             0.8888888888888888,
             "#fdca26"
            ],
            [
             1,
             "#f0f921"
            ]
           ]
          },
          "colorway": [
           "#636efa",
           "#EF553B",
           "#00cc96",
           "#ab63fa",
           "#FFA15A",
           "#19d3f3",
           "#FF6692",
           "#B6E880",
           "#FF97FF",
           "#FECB52"
          ],
          "font": {
           "color": "#2a3f5f"
          },
          "geo": {
           "bgcolor": "white",
           "lakecolor": "white",
           "landcolor": "#E5ECF6",
           "showlakes": true,
           "showland": true,
           "subunitcolor": "white"
          },
          "hoverlabel": {
           "align": "left"
          },
          "hovermode": "closest",
          "mapbox": {
           "style": "light"
          },
          "paper_bgcolor": "white",
          "plot_bgcolor": "#E5ECF6",
          "polar": {
           "angularaxis": {
            "gridcolor": "white",
            "linecolor": "white",
            "ticks": ""
           },
           "bgcolor": "#E5ECF6",
           "radialaxis": {
            "gridcolor": "white",
            "linecolor": "white",
            "ticks": ""
           }
          },
          "scene": {
           "xaxis": {
            "backgroundcolor": "#E5ECF6",
            "gridcolor": "white",
            "gridwidth": 2,
            "linecolor": "white",
            "showbackground": true,
            "ticks": "",
            "zerolinecolor": "white"
           },
           "yaxis": {
            "backgroundcolor": "#E5ECF6",
            "gridcolor": "white",
            "gridwidth": 2,
            "linecolor": "white",
            "showbackground": true,
            "ticks": "",
            "zerolinecolor": "white"
           },
           "zaxis": {
            "backgroundcolor": "#E5ECF6",
            "gridcolor": "white",
            "gridwidth": 2,
            "linecolor": "white",
            "showbackground": true,
            "ticks": "",
            "zerolinecolor": "white"
           }
          },
          "shapedefaults": {
           "line": {
            "color": "#2a3f5f"
           }
          },
          "ternary": {
           "aaxis": {
            "gridcolor": "white",
            "linecolor": "white",
            "ticks": ""
           },
           "baxis": {
            "gridcolor": "white",
            "linecolor": "white",
            "ticks": ""
           },
           "bgcolor": "#E5ECF6",
           "caxis": {
            "gridcolor": "white",
            "linecolor": "white",
            "ticks": ""
           }
          },
          "title": {
           "x": 0.05
          },
          "xaxis": {
           "automargin": true,
           "gridcolor": "white",
           "linecolor": "white",
           "ticks": "",
           "title": {
            "standoff": 15
           },
           "zerolinecolor": "white",
           "zerolinewidth": 2
          },
          "yaxis": {
           "automargin": true,
           "gridcolor": "white",
           "linecolor": "white",
           "ticks": "",
           "title": {
            "standoff": 15
           },
           "zerolinecolor": "white",
           "zerolinewidth": 2
          }
         }
        },
        "title": {
         "text": "Cumulative sales over the years"
        },
        "xaxis": {
         "anchor": "y",
         "domain": [
          0,
          1
         ],
         "title": {
          "text": "months"
         }
        },
        "yaxis": {
         "anchor": "x",
         "domain": [
          0,
          1
         ],
         "title": {
          "text": "cumulative_sales"
         }
        }
       }
      }
     },
     "metadata": {},
     "output_type": "display_data"
    }
   ],
   "source": [
    "px.line(df,x=\"months\",y=\"cumulative_sales\",color=\"years\",title=\"Cumulative sales over the years\")"
   ]
  },
  {
   "cell_type": "markdown",
   "metadata": {},
   "source": [
    "#### Calculate the year-over-year growth rate of total sales"
   ]
  },
  {
   "cell_type": "code",
   "execution_count": 35,
   "metadata": {},
   "outputs": [
    {
     "data": {
      "text/html": [
       "<div>\n",
       "<style scoped>\n",
       "    .dataframe tbody tr th:only-of-type {\n",
       "        vertical-align: middle;\n",
       "    }\n",
       "\n",
       "    .dataframe tbody tr th {\n",
       "        vertical-align: top;\n",
       "    }\n",
       "\n",
       "    .dataframe thead th {\n",
       "        text-align: right;\n",
       "    }\n",
       "</style>\n",
       "<table border=\"1\" class=\"dataframe\">\n",
       "  <thead>\n",
       "    <tr style=\"text-align: right;\">\n",
       "      <th></th>\n",
       "      <th>years</th>\n",
       "      <th>total_sales</th>\n",
       "    </tr>\n",
       "  </thead>\n",
       "  <tbody>\n",
       "    <tr>\n",
       "      <th>0</th>\n",
       "      <td>2017</td>\n",
       "      <td>7.249747e+06</td>\n",
       "    </tr>\n",
       "    <tr>\n",
       "      <th>1</th>\n",
       "      <td>2018</td>\n",
       "      <td>8.699763e+06</td>\n",
       "    </tr>\n",
       "    <tr>\n",
       "      <th>2</th>\n",
       "      <td>2016</td>\n",
       "      <td>5.936234e+04</td>\n",
       "    </tr>\n",
       "  </tbody>\n",
       "</table>\n",
       "</div>"
      ],
      "text/plain": [
       "   years   total_sales\n",
       "0   2017  7.249747e+06\n",
       "1   2018  8.699763e+06\n",
       "2   2016  5.936234e+04"
      ]
     },
     "execution_count": 35,
     "metadata": {},
     "output_type": "execute_result"
    }
   ],
   "source": [
    "query=\"\"\"select  year(o.order_purchase_timestamp) as years ,sum(p.payment_value) \n",
    "from orders o join payments p \n",
    "on o.order_id =p.order_id\n",
    "group by years\n",
    "\"\"\"\n",
    "cur.execute(query)\n",
    "data=cur.fetchall()\n",
    "df=pd.DataFrame(data,columns=[\"years\",\"total_sales\"])\n",
    "df"
   ]
  },
  {
   "cell_type": "markdown",
   "metadata": {},
   "source": [
    "#### Calculate the retention rate of customers, defined as the percentage of customers who make another purchase within 6 months of their first purchase"
   ]
  },
  {
   "cell_type": "code",
   "execution_count": 37,
   "metadata": {},
   "outputs": [
    {
     "data": {
      "text/html": [
       "<div>\n",
       "<style scoped>\n",
       "    .dataframe tbody tr th:only-of-type {\n",
       "        vertical-align: middle;\n",
       "    }\n",
       "\n",
       "    .dataframe tbody tr th {\n",
       "        vertical-align: top;\n",
       "    }\n",
       "\n",
       "    .dataframe thead th {\n",
       "        text-align: right;\n",
       "    }\n",
       "</style>\n",
       "<table border=\"1\" class=\"dataframe\">\n",
       "  <thead>\n",
       "    <tr style=\"text-align: right;\">\n",
       "      <th></th>\n",
       "      <th>retention_rate</th>\n",
       "    </tr>\n",
       "  </thead>\n",
       "  <tbody>\n",
       "    <tr>\n",
       "      <th>0</th>\n",
       "      <td>0.0000</td>\n",
       "    </tr>\n",
       "  </tbody>\n",
       "</table>\n",
       "</div>"
      ],
      "text/plain": [
       "  retention_rate\n",
       "0         0.0000"
      ]
     },
     "execution_count": 37,
     "metadata": {},
     "output_type": "execute_result"
    }
   ],
   "source": [
    "query=\"\"\"WITH a AS (\n",
    "    SELECT customer_id, MIN(order_purchase_timestamp) AS first_order\n",
    "    FROM orders\n",
    "    GROUP BY customer_id\n",
    "),\n",
    "b AS (\n",
    "    SELECT a.customer_id, COUNT(DISTINCT orders.order_purchase_timestamp) AS next_order\n",
    "    FROM orders\n",
    "    JOIN a ON orders.customer_id = a.customer_id \n",
    "    WHERE orders.order_purchase_timestamp > a.first_order \n",
    "      AND orders.order_purchase_timestamp < DATE_ADD(a.first_order, INTERVAL 24 MONTH)\n",
    "    GROUP BY a.customer_id\n",
    ")\n",
    "SELECT 100 * COUNT(DISTINCT b.customer_id) / COUNT(DISTINCT a.customer_id) AS percentage\n",
    "FROM a\n",
    "LEFT JOIN b ON a.customer_id = b.customer_id\n",
    "\n",
    "\"\"\"\n",
    "cur.execute(query)\n",
    "data=cur.fetchall()\n",
    "df=pd.DataFrame(data,columns=[\"retention_rate\"])\n",
    "df"
   ]
  },
  {
   "cell_type": "markdown",
   "metadata": {},
   "source": [
    "#### Identify the top 3 customers who spent the most money in each year."
   ]
  },
  {
   "cell_type": "code",
   "execution_count": 38,
   "metadata": {},
   "outputs": [
    {
     "data": {
      "text/html": [
       "<div>\n",
       "<style scoped>\n",
       "    .dataframe tbody tr th:only-of-type {\n",
       "        vertical-align: middle;\n",
       "    }\n",
       "\n",
       "    .dataframe tbody tr th {\n",
       "        vertical-align: top;\n",
       "    }\n",
       "\n",
       "    .dataframe thead th {\n",
       "        text-align: right;\n",
       "    }\n",
       "</style>\n",
       "<table border=\"1\" class=\"dataframe\">\n",
       "  <thead>\n",
       "    <tr style=\"text-align: right;\">\n",
       "      <th></th>\n",
       "      <th>customer_id</th>\n",
       "      <th>payment</th>\n",
       "      <th>years</th>\n",
       "      <th>rank</th>\n",
       "    </tr>\n",
       "  </thead>\n",
       "  <tbody>\n",
       "    <tr>\n",
       "      <th>0</th>\n",
       "      <td>a9dc96b027d1252bbac0a9b72d837fc6</td>\n",
       "      <td>1423.550049</td>\n",
       "      <td>2016</td>\n",
       "      <td>1</td>\n",
       "    </tr>\n",
       "    <tr>\n",
       "      <th>1</th>\n",
       "      <td>1d34ed25963d5aae4cf3d7f3a4cda173</td>\n",
       "      <td>1400.739990</td>\n",
       "      <td>2016</td>\n",
       "      <td>2</td>\n",
       "    </tr>\n",
       "    <tr>\n",
       "      <th>2</th>\n",
       "      <td>4a06381959b6670756de02e07b83815f</td>\n",
       "      <td>1227.780029</td>\n",
       "      <td>2016</td>\n",
       "      <td>3</td>\n",
       "    </tr>\n",
       "    <tr>\n",
       "      <th>3</th>\n",
       "      <td>1617b1357756262bfa56ab541c47bc16</td>\n",
       "      <td>13664.080078</td>\n",
       "      <td>2017</td>\n",
       "      <td>1</td>\n",
       "    </tr>\n",
       "    <tr>\n",
       "      <th>4</th>\n",
       "      <td>c6e2731c5b391845f6800c97401a43a9</td>\n",
       "      <td>6929.310059</td>\n",
       "      <td>2017</td>\n",
       "      <td>2</td>\n",
       "    </tr>\n",
       "    <tr>\n",
       "      <th>5</th>\n",
       "      <td>3fd6777bbce08a352fddd04e4a7cc8f6</td>\n",
       "      <td>6726.660156</td>\n",
       "      <td>2017</td>\n",
       "      <td>3</td>\n",
       "    </tr>\n",
       "    <tr>\n",
       "      <th>6</th>\n",
       "      <td>ec5b2ba62e574342386871631fafd3fc</td>\n",
       "      <td>7274.879883</td>\n",
       "      <td>2018</td>\n",
       "      <td>1</td>\n",
       "    </tr>\n",
       "    <tr>\n",
       "      <th>7</th>\n",
       "      <td>f48d464a0baaea338cb25f816991ab1f</td>\n",
       "      <td>6922.209961</td>\n",
       "      <td>2018</td>\n",
       "      <td>2</td>\n",
       "    </tr>\n",
       "    <tr>\n",
       "      <th>8</th>\n",
       "      <td>e0a2412720e9ea4f26c1ac985f6a7358</td>\n",
       "      <td>4809.439941</td>\n",
       "      <td>2018</td>\n",
       "      <td>3</td>\n",
       "    </tr>\n",
       "  </tbody>\n",
       "</table>\n",
       "</div>"
      ],
      "text/plain": [
       "                        customer_id       payment  years  rank\n",
       "0  a9dc96b027d1252bbac0a9b72d837fc6   1423.550049   2016     1\n",
       "1  1d34ed25963d5aae4cf3d7f3a4cda173   1400.739990   2016     2\n",
       "2  4a06381959b6670756de02e07b83815f   1227.780029   2016     3\n",
       "3  1617b1357756262bfa56ab541c47bc16  13664.080078   2017     1\n",
       "4  c6e2731c5b391845f6800c97401a43a9   6929.310059   2017     2\n",
       "5  3fd6777bbce08a352fddd04e4a7cc8f6   6726.660156   2017     3\n",
       "6  ec5b2ba62e574342386871631fafd3fc   7274.879883   2018     1\n",
       "7  f48d464a0baaea338cb25f816991ab1f   6922.209961   2018     2\n",
       "8  e0a2412720e9ea4f26c1ac985f6a7358   4809.439941   2018     3"
      ]
     },
     "execution_count": 38,
     "metadata": {},
     "output_type": "execute_result"
    }
   ],
   "source": [
    "query=\"\"\"with a as (select o.customer_id,year(o.order_purchase_timestamp) as years,sum(p.payment_value) as payment, \n",
    "dense_rank() over(partition by year(o.order_purchase_timestamp) order by sum(p.payment_value) desc ) as d_rank\n",
    "from orders o join payments p \n",
    "on o.order_id=p.order_id\n",
    "group by o.customer_id,years)\n",
    "select a.customer_id , a.payment, a.years , a.d_rank  from a where a.d_rank<=3\n",
    "\n",
    "\"\"\"\n",
    "cur.execute(query)\n",
    "data=cur.fetchall()\n",
    "df=pd.DataFrame(data,columns=[\"customer_id\",\"payment\",\"years\",\"rank\"])\n",
    "df"
   ]
  },
  {
   "cell_type": "code",
   "execution_count": 41,
   "metadata": {},
   "outputs": [
    {
     "data": {
      "application/vnd.plotly.v1+json": {
       "config": {
        "plotlyServerURL": "https://plot.ly"
       },
       "data": [
        {
         "alignmentgroup": "True",
         "hovertemplate": "years=%{x}<br>payment=%{y}<br>rank=%{marker.color}<extra></extra>",
         "legendgroup": "",
         "marker": {
          "color": [
           1,
           2,
           3,
           1,
           2,
           3,
           1,
           2,
           3
          ],
          "coloraxis": "coloraxis",
          "pattern": {
           "shape": ""
          }
         },
         "name": "",
         "offsetgroup": "",
         "orientation": "v",
         "showlegend": false,
         "textposition": "auto",
         "type": "bar",
         "x": [
          2016,
          2016,
          2016,
          2017,
          2017,
          2017,
          2018,
          2018,
          2018
         ],
         "xaxis": "x",
         "y": [
          1423.550048828125,
          1400.739990234375,
          1227.780029296875,
          13664.080078125,
          6929.31005859375,
          6726.66015625,
          7274.8798828125,
          6922.2099609375,
          4809.43994140625
         ],
         "yaxis": "y"
        }
       ],
       "layout": {
        "barmode": "relative",
        "coloraxis": {
         "colorbar": {
          "title": {
           "text": "rank"
          }
         },
         "colorscale": [
          [
           0,
           "#0d0887"
          ],
          [
           0.1111111111111111,
           "#46039f"
          ],
          [
           0.2222222222222222,
           "#7201a8"
          ],
          [
           0.3333333333333333,
           "#9c179e"
          ],
          [
           0.4444444444444444,
           "#bd3786"
          ],
          [
           0.5555555555555556,
           "#d8576b"
          ],
          [
           0.6666666666666666,
           "#ed7953"
          ],
          [
           0.7777777777777778,
           "#fb9f3a"
          ],
          [
           0.8888888888888888,
           "#fdca26"
          ],
          [
           1,
           "#f0f921"
          ]
         ]
        },
        "legend": {
         "tracegroupgap": 0
        },
        "template": {
         "data": {
          "bar": [
           {
            "error_x": {
             "color": "#2a3f5f"
            },
            "error_y": {
             "color": "#2a3f5f"
            },
            "marker": {
             "line": {
              "color": "#E5ECF6",
              "width": 0.5
             },
             "pattern": {
              "fillmode": "overlay",
              "size": 10,
              "solidity": 0.2
             }
            },
            "type": "bar"
           }
          ],
          "barpolar": [
           {
            "marker": {
             "line": {
              "color": "#E5ECF6",
              "width": 0.5
             },
             "pattern": {
              "fillmode": "overlay",
              "size": 10,
              "solidity": 0.2
             }
            },
            "type": "barpolar"
           }
          ],
          "carpet": [
           {
            "aaxis": {
             "endlinecolor": "#2a3f5f",
             "gridcolor": "white",
             "linecolor": "white",
             "minorgridcolor": "white",
             "startlinecolor": "#2a3f5f"
            },
            "baxis": {
             "endlinecolor": "#2a3f5f",
             "gridcolor": "white",
             "linecolor": "white",
             "minorgridcolor": "white",
             "startlinecolor": "#2a3f5f"
            },
            "type": "carpet"
           }
          ],
          "choropleth": [
           {
            "colorbar": {
             "outlinewidth": 0,
             "ticks": ""
            },
            "type": "choropleth"
           }
          ],
          "contour": [
           {
            "colorbar": {
             "outlinewidth": 0,
             "ticks": ""
            },
            "colorscale": [
             [
              0,
              "#0d0887"
             ],
             [
              0.1111111111111111,
              "#46039f"
             ],
             [
              0.2222222222222222,
              "#7201a8"
             ],
             [
              0.3333333333333333,
              "#9c179e"
             ],
             [
              0.4444444444444444,
              "#bd3786"
             ],
             [
              0.5555555555555556,
              "#d8576b"
             ],
             [
              0.6666666666666666,
              "#ed7953"
             ],
             [
              0.7777777777777778,
              "#fb9f3a"
             ],
             [
              0.8888888888888888,
              "#fdca26"
             ],
             [
              1,
              "#f0f921"
             ]
            ],
            "type": "contour"
           }
          ],
          "contourcarpet": [
           {
            "colorbar": {
             "outlinewidth": 0,
             "ticks": ""
            },
            "type": "contourcarpet"
           }
          ],
          "heatmap": [
           {
            "colorbar": {
             "outlinewidth": 0,
             "ticks": ""
            },
            "colorscale": [
             [
              0,
              "#0d0887"
             ],
             [
              0.1111111111111111,
              "#46039f"
             ],
             [
              0.2222222222222222,
              "#7201a8"
             ],
             [
              0.3333333333333333,
              "#9c179e"
             ],
             [
              0.4444444444444444,
              "#bd3786"
             ],
             [
              0.5555555555555556,
              "#d8576b"
             ],
             [
              0.6666666666666666,
              "#ed7953"
             ],
             [
              0.7777777777777778,
              "#fb9f3a"
             ],
             [
              0.8888888888888888,
              "#fdca26"
             ],
             [
              1,
              "#f0f921"
             ]
            ],
            "type": "heatmap"
           }
          ],
          "heatmapgl": [
           {
            "colorbar": {
             "outlinewidth": 0,
             "ticks": ""
            },
            "colorscale": [
             [
              0,
              "#0d0887"
             ],
             [
              0.1111111111111111,
              "#46039f"
             ],
             [
              0.2222222222222222,
              "#7201a8"
             ],
             [
              0.3333333333333333,
              "#9c179e"
             ],
             [
              0.4444444444444444,
              "#bd3786"
             ],
             [
              0.5555555555555556,
              "#d8576b"
             ],
             [
              0.6666666666666666,
              "#ed7953"
             ],
             [
              0.7777777777777778,
              "#fb9f3a"
             ],
             [
              0.8888888888888888,
              "#fdca26"
             ],
             [
              1,
              "#f0f921"
             ]
            ],
            "type": "heatmapgl"
           }
          ],
          "histogram": [
           {
            "marker": {
             "pattern": {
              "fillmode": "overlay",
              "size": 10,
              "solidity": 0.2
             }
            },
            "type": "histogram"
           }
          ],
          "histogram2d": [
           {
            "colorbar": {
             "outlinewidth": 0,
             "ticks": ""
            },
            "colorscale": [
             [
              0,
              "#0d0887"
             ],
             [
              0.1111111111111111,
              "#46039f"
             ],
             [
              0.2222222222222222,
              "#7201a8"
             ],
             [
              0.3333333333333333,
              "#9c179e"
             ],
             [
              0.4444444444444444,
              "#bd3786"
             ],
             [
              0.5555555555555556,
              "#d8576b"
             ],
             [
              0.6666666666666666,
              "#ed7953"
             ],
             [
              0.7777777777777778,
              "#fb9f3a"
             ],
             [
              0.8888888888888888,
              "#fdca26"
             ],
             [
              1,
              "#f0f921"
             ]
            ],
            "type": "histogram2d"
           }
          ],
          "histogram2dcontour": [
           {
            "colorbar": {
             "outlinewidth": 0,
             "ticks": ""
            },
            "colorscale": [
             [
              0,
              "#0d0887"
             ],
             [
              0.1111111111111111,
              "#46039f"
             ],
             [
              0.2222222222222222,
              "#7201a8"
             ],
             [
              0.3333333333333333,
              "#9c179e"
             ],
             [
              0.4444444444444444,
              "#bd3786"
             ],
             [
              0.5555555555555556,
              "#d8576b"
             ],
             [
              0.6666666666666666,
              "#ed7953"
             ],
             [
              0.7777777777777778,
              "#fb9f3a"
             ],
             [
              0.8888888888888888,
              "#fdca26"
             ],
             [
              1,
              "#f0f921"
             ]
            ],
            "type": "histogram2dcontour"
           }
          ],
          "mesh3d": [
           {
            "colorbar": {
             "outlinewidth": 0,
             "ticks": ""
            },
            "type": "mesh3d"
           }
          ],
          "parcoords": [
           {
            "line": {
             "colorbar": {
              "outlinewidth": 0,
              "ticks": ""
             }
            },
            "type": "parcoords"
           }
          ],
          "pie": [
           {
            "automargin": true,
            "type": "pie"
           }
          ],
          "scatter": [
           {
            "fillpattern": {
             "fillmode": "overlay",
             "size": 10,
             "solidity": 0.2
            },
            "type": "scatter"
           }
          ],
          "scatter3d": [
           {
            "line": {
             "colorbar": {
              "outlinewidth": 0,
              "ticks": ""
             }
            },
            "marker": {
             "colorbar": {
              "outlinewidth": 0,
              "ticks": ""
             }
            },
            "type": "scatter3d"
           }
          ],
          "scattercarpet": [
           {
            "marker": {
             "colorbar": {
              "outlinewidth": 0,
              "ticks": ""
             }
            },
            "type": "scattercarpet"
           }
          ],
          "scattergeo": [
           {
            "marker": {
             "colorbar": {
              "outlinewidth": 0,
              "ticks": ""
             }
            },
            "type": "scattergeo"
           }
          ],
          "scattergl": [
           {
            "marker": {
             "colorbar": {
              "outlinewidth": 0,
              "ticks": ""
             }
            },
            "type": "scattergl"
           }
          ],
          "scattermapbox": [
           {
            "marker": {
             "colorbar": {
              "outlinewidth": 0,
              "ticks": ""
             }
            },
            "type": "scattermapbox"
           }
          ],
          "scatterpolar": [
           {
            "marker": {
             "colorbar": {
              "outlinewidth": 0,
              "ticks": ""
             }
            },
            "type": "scatterpolar"
           }
          ],
          "scatterpolargl": [
           {
            "marker": {
             "colorbar": {
              "outlinewidth": 0,
              "ticks": ""
             }
            },
            "type": "scatterpolargl"
           }
          ],
          "scatterternary": [
           {
            "marker": {
             "colorbar": {
              "outlinewidth": 0,
              "ticks": ""
             }
            },
            "type": "scatterternary"
           }
          ],
          "surface": [
           {
            "colorbar": {
             "outlinewidth": 0,
             "ticks": ""
            },
            "colorscale": [
             [
              0,
              "#0d0887"
             ],
             [
              0.1111111111111111,
              "#46039f"
             ],
             [
              0.2222222222222222,
              "#7201a8"
             ],
             [
              0.3333333333333333,
              "#9c179e"
             ],
             [
              0.4444444444444444,
              "#bd3786"
             ],
             [
              0.5555555555555556,
              "#d8576b"
             ],
             [
              0.6666666666666666,
              "#ed7953"
             ],
             [
              0.7777777777777778,
              "#fb9f3a"
             ],
             [
              0.8888888888888888,
              "#fdca26"
             ],
             [
              1,
              "#f0f921"
             ]
            ],
            "type": "surface"
           }
          ],
          "table": [
           {
            "cells": {
             "fill": {
              "color": "#EBF0F8"
             },
             "line": {
              "color": "white"
             }
            },
            "header": {
             "fill": {
              "color": "#C8D4E3"
             },
             "line": {
              "color": "white"
             }
            },
            "type": "table"
           }
          ]
         },
         "layout": {
          "annotationdefaults": {
           "arrowcolor": "#2a3f5f",
           "arrowhead": 0,
           "arrowwidth": 1
          },
          "autotypenumbers": "strict",
          "coloraxis": {
           "colorbar": {
            "outlinewidth": 0,
            "ticks": ""
           }
          },
          "colorscale": {
           "diverging": [
            [
             0,
             "#8e0152"
            ],
            [
             0.1,
             "#c51b7d"
            ],
            [
             0.2,
             "#de77ae"
            ],
            [
             0.3,
             "#f1b6da"
            ],
            [
             0.4,
             "#fde0ef"
            ],
            [
             0.5,
             "#f7f7f7"
            ],
            [
             0.6,
             "#e6f5d0"
            ],
            [
             0.7,
             "#b8e186"
            ],
            [
             0.8,
             "#7fbc41"
            ],
            [
             0.9,
             "#4d9221"
            ],
            [
             1,
             "#276419"
            ]
           ],
           "sequential": [
            [
             0,
             "#0d0887"
            ],
            [
             0.1111111111111111,
             "#46039f"
            ],
            [
             0.2222222222222222,
             "#7201a8"
            ],
            [
             0.3333333333333333,
             "#9c179e"
            ],
            [
             0.4444444444444444,
             "#bd3786"
            ],
            [
             0.5555555555555556,
             "#d8576b"
            ],
            [
             0.6666666666666666,
             "#ed7953"
            ],
            [
             0.7777777777777778,
             "#fb9f3a"
            ],
            [
             0.8888888888888888,
             "#fdca26"
            ],
            [
             1,
             "#f0f921"
            ]
           ],
           "sequentialminus": [
            [
             0,
             "#0d0887"
            ],
            [
             0.1111111111111111,
             "#46039f"
            ],
            [
             0.2222222222222222,
             "#7201a8"
            ],
            [
             0.3333333333333333,
             "#9c179e"
            ],
            [
             0.4444444444444444,
             "#bd3786"
            ],
            [
             0.5555555555555556,
             "#d8576b"
            ],
            [
             0.6666666666666666,
             "#ed7953"
            ],
            [
             0.7777777777777778,
             "#fb9f3a"
            ],
            [
             0.8888888888888888,
             "#fdca26"
            ],
            [
             1,
             "#f0f921"
            ]
           ]
          },
          "colorway": [
           "#636efa",
           "#EF553B",
           "#00cc96",
           "#ab63fa",
           "#FFA15A",
           "#19d3f3",
           "#FF6692",
           "#B6E880",
           "#FF97FF",
           "#FECB52"
          ],
          "font": {
           "color": "#2a3f5f"
          },
          "geo": {
           "bgcolor": "white",
           "lakecolor": "white",
           "landcolor": "#E5ECF6",
           "showlakes": true,
           "showland": true,
           "subunitcolor": "white"
          },
          "hoverlabel": {
           "align": "left"
          },
          "hovermode": "closest",
          "mapbox": {
           "style": "light"
          },
          "paper_bgcolor": "white",
          "plot_bgcolor": "#E5ECF6",
          "polar": {
           "angularaxis": {
            "gridcolor": "white",
            "linecolor": "white",
            "ticks": ""
           },
           "bgcolor": "#E5ECF6",
           "radialaxis": {
            "gridcolor": "white",
            "linecolor": "white",
            "ticks": ""
           }
          },
          "scene": {
           "xaxis": {
            "backgroundcolor": "#E5ECF6",
            "gridcolor": "white",
            "gridwidth": 2,
            "linecolor": "white",
            "showbackground": true,
            "ticks": "",
            "zerolinecolor": "white"
           },
           "yaxis": {
            "backgroundcolor": "#E5ECF6",
            "gridcolor": "white",
            "gridwidth": 2,
            "linecolor": "white",
            "showbackground": true,
            "ticks": "",
            "zerolinecolor": "white"
           },
           "zaxis": {
            "backgroundcolor": "#E5ECF6",
            "gridcolor": "white",
            "gridwidth": 2,
            "linecolor": "white",
            "showbackground": true,
            "ticks": "",
            "zerolinecolor": "white"
           }
          },
          "shapedefaults": {
           "line": {
            "color": "#2a3f5f"
           }
          },
          "ternary": {
           "aaxis": {
            "gridcolor": "white",
            "linecolor": "white",
            "ticks": ""
           },
           "baxis": {
            "gridcolor": "white",
            "linecolor": "white",
            "ticks": ""
           },
           "bgcolor": "#E5ECF6",
           "caxis": {
            "gridcolor": "white",
            "linecolor": "white",
            "ticks": ""
           }
          },
          "title": {
           "x": 0.05
          },
          "xaxis": {
           "automargin": true,
           "gridcolor": "white",
           "linecolor": "white",
           "ticks": "",
           "title": {
            "standoff": 15
           },
           "zerolinecolor": "white",
           "zerolinewidth": 2
          },
          "yaxis": {
           "automargin": true,
           "gridcolor": "white",
           "linecolor": "white",
           "ticks": "",
           "title": {
            "standoff": 15
           },
           "zerolinecolor": "white",
           "zerolinewidth": 2
          }
         }
        },
        "title": {
         "text": "Top 3 customers in each year"
        },
        "xaxis": {
         "anchor": "y",
         "domain": [
          0,
          1
         ],
         "title": {
          "text": "years"
         }
        },
        "yaxis": {
         "anchor": "x",
         "domain": [
          0,
          1
         ],
         "title": {
          "text": "payment"
         }
        }
       }
      }
     },
     "metadata": {},
     "output_type": "display_data"
    }
   ],
   "source": [
    "px.bar(df,x=\"years\",y=\"payment\",color=\"rank\",title=\"Top 3 customers in each year\")"
   ]
  },
  {
   "cell_type": "code",
   "execution_count": null,
   "metadata": {},
   "outputs": [],
   "source": [
    "\n"
   ]
  }
 ],
 "metadata": {
  "kernelspec": {
   "display_name": "Python 3",
   "language": "python",
   "name": "python3"
  },
  "language_info": {
   "codemirror_mode": {
    "name": "ipython",
    "version": 3
   },
   "file_extension": ".py",
   "mimetype": "text/x-python",
   "name": "python",
   "nbconvert_exporter": "python",
   "pygments_lexer": "ipython3",
   "version": "3.12.2"
  }
 },
 "nbformat": 4,
 "nbformat_minor": 2
}
